{
 "cells": [
  {
   "cell_type": "code",
   "execution_count": null,
   "metadata": {
    "_cell_guid": "b1076dfc-b9ad-4769-8c92-a6c4dae69d19",
    "_uuid": "8f2839f25d086af736a60e9eeb907d3b93b6e0e5"
   },
   "outputs": [],
   "source": [
    "\n",
    "import numpy as np # linear algebra\n",
    "import pandas as pd # data processing, CSV file I/O (e.g. pd.read_csv)\n",
    "\n",
    "# Input data files are available in the read-only \"../input/\" directory\n",
    "# For example, running this (by clicking run or pressing Shift+Enter) will list all files under the input directory\n",
    "\n",
    "import os\n",
    "for dirname, _, filenames in os.walk('/kaggle/input'):\n",
    "    for filename in filenames:\n",
    "        print(os.path.join(dirname, filename))\n",
    "\n",
    "# You can write up to 20GB to the current directory (/kaggle/working/) that gets preserved as output when you create a version using \"Save & Run All\" \n",
    "# You can also write temporary files to /kaggle/temp/, but they won't be saved outside of the current session"
   ]
  },
  {
   "cell_type": "markdown",
   "metadata": {},
   "source": [
    "# **G2M (Go-to-Market strategy) Insight for Cab Investment Firm EDA (Exploratory Data Analysis)**"
   ]
  },
  {
   "cell_type": "markdown",
   "metadata": {},
   "source": [
    "# 0. Problem Definition and Delivery"
   ]
  },
  {
   "cell_type": "markdown",
   "metadata": {},
   "source": [
    "\n",
    "\n",
    "\n",
    "◾XYZ is a private firm in US. Due to remarkable growth in the Cab Industry in last few years and multiple key players in the market, it is planning for an investment in Cab industry and as per their Go-to-Market(G2M) strategy they want to understand the market before taking final decision.\n",
    "\n",
    "◾XYZ is interested in using your actionable insights to help them identify the right company to make their investment.\n",
    "\n",
    "#### **Dataset**\n",
    "There have been provided 4 individual data sets. Time period of data is from **31/01/2016** to **31/12/2018**.\n",
    "Below are the list of datasets which are provided for the analysis:\n",
    "\n",
    "**Cab_Data.csv** – this file includes details of transaction for 2 cab companies\n",
    "\n",
    "**Customer_ID.csv** – this is a mapping table that contains a unique identifier which links the customer’s demographic details\n",
    "\n",
    "**Transaction_ID.csv** – this is a mapping table that contains transaction to customer mapping and payment mode\n",
    "\n",
    "**City.csv** – this file contains list of US cities, their population and number of cab users\n",
    "\n",
    "**Author : Ugur Selim Ozen**\n"
   ]
  },
  {
   "cell_type": "code",
   "execution_count": null,
   "metadata": {},
   "outputs": [],
   "source": [
    "# I imported following python libraries to utilize in EDA process.\n",
    "import numpy as np\n",
    "import pandas as pd\n",
    "import matplotlib.pyplot as plt\n",
    "import seaborn as sns\n",
    "from scipy import stats\n",
    "import plotly.express as px\n",
    "import plotly.graph_objs as go\n",
    "import plotly\n",
    "import plotly.graph_objects as go\n",
    "import datetime"
   ]
  },
  {
   "cell_type": "markdown",
   "metadata": {},
   "source": [
    "# 1. Data Overview\n",
    "\n",
    "#### In this section , I analyzed dataset's shape(entries,features) , missing values(NA or Null values) , feature's datatypes and looked at head of dataset's."
   ]
  },
  {
   "cell_type": "code",
   "execution_count": null,
   "metadata": {},
   "outputs": [],
   "source": [
    "pathfile1 = '/kaggle/input/cabs-fare-data/Cab_Data.csv'\n",
    "CabData = pd.read_csv(pathfile1)\n",
    "missing_value = 0\n",
    "for column in CabData.columns :\n",
    "    missing_value += CabData[column].isna().sum() + CabData[column].isnull().sum()\n",
    "print('CabData dataset has {} entries , {} features and {} missing values'.format(CabData.shape[0] ,CabData.shape[1] ,missing_value))\n",
    "print(\"\\nFeature's datatypes\\n\\n{}\".format(CabData.dtypes))\n",
    "CabData.head(10)"
   ]
  },
  {
   "cell_type": "code",
   "execution_count": null,
   "metadata": {},
   "outputs": [],
   "source": [
    "pathfile2 = '/kaggle/input/cabs-fare-data/City.csv'\n",
    "City = pd.read_csv(pathfile2)\n",
    "missing_value = 0\n",
    "for column in City.columns :\n",
    "    missing_value += City[column].isna().sum() + City[column].isnull().sum()\n",
    "print('City dataset has {} entries , {} features and {} missing values'.format(City.shape[0] ,City.shape[1] ,missing_value))\n",
    "print(\"\\nFeature's datatypes\\n\\n{}\".format(City.dtypes))\n",
    "City.head(20)"
   ]
  },
  {
   "cell_type": "code",
   "execution_count": null,
   "metadata": {},
   "outputs": [],
   "source": [
    "pathfile3 = '/kaggle/input/cabs-fare-data/Customer_ID.csv'\n",
    "CustomerID = pd.read_csv(pathfile3)\n",
    "missing_value = 0\n",
    "for column in CustomerID.columns :\n",
    "    missing_value += CustomerID[column].isna().sum() + CustomerID[column].isnull().sum()\n",
    "print('CustomerID dataset has {} entries , {} features and {} missing values'.format(CustomerID.shape[0] ,CustomerID.shape[1] ,missing_value))\n",
    "print(\"\\nFeature's datatypes\\n\\n{}\".format(CustomerID.dtypes))\n",
    "CustomerID.head(10)"
   ]
  },
  {
   "cell_type": "code",
   "execution_count": null,
   "metadata": {},
   "outputs": [],
   "source": [
    "pathfile4 = '/kaggle/input/cabs-fare-data/Transaction_ID.csv'\n",
    "TransactionID = pd.read_csv(pathfile4)\n",
    "missing_value = 0\n",
    "for column in TransactionID.columns :\n",
    "    missing_value += TransactionID[column].isna().sum() + TransactionID[column].isnull().sum()\n",
    "print('TransactionID dataset has {} entries , {} features and {} missing values'.format(TransactionID.shape[0] ,TransactionID.shape[1] ,missing_value))\n",
    "print(\"\\nFeature's datatypes\\n\\n{}\".format(TransactionID.dtypes))\n",
    "TransactionID.head(10)"
   ]
  },
  {
   "cell_type": "markdown",
   "metadata": {},
   "source": [
    "#### **Merging All Datasets to MasterData** "
   ]
  },
  {
   "cell_type": "code",
   "execution_count": null,
   "metadata": {},
   "outputs": [],
   "source": [
    "# Here merged all 4 files into one MasterData  to analyze entire dataset.\n",
    "MasterData = CabData.merge(TransactionID, on= 'Transaction ID').merge(CustomerID, on ='Customer ID').merge(City, on = 'City')\n",
    "missing_value = 0\n",
    "for column in MasterData.columns :\n",
    "    missing_value += MasterData[column].isna().sum() + MasterData[column].isnull().sum()\n",
    "print('MasterData dataset has {} entries , {} features and {} missing values'.format(MasterData.shape[0] ,MasterData.shape[1] ,missing_value))\n",
    "print(\"\\nFeature's datatypes\\n\\n{}\".format(MasterData.dtypes))\n",
    "MasterData.head(10)"
   ]
  },
  {
   "cell_type": "markdown",
   "metadata": {},
   "source": [
    "# 2. Data Cleaning and Feature Engineering\n",
    "\n",
    "#### In this section , I transformed some features to appropriate datatypes and formats."
   ]
  },
  {
   "cell_type": "code",
   "execution_count": null,
   "metadata": {},
   "outputs": [],
   "source": [
    "#removing ',' in population and users column values\n",
    "#replacing spaces with '_' in column names \n",
    "\n",
    "for column in MasterData.columns:\n",
    "    if ' ' in column:\n",
    "        MasterData = MasterData.rename(columns={column:column.replace(' ','_')})\n",
    "        \n",
    "for column in [\"Population\",\"Users\"] :\n",
    "    \n",
    "        MasterData[column] = MasterData[column].str.replace(',','')\n",
    "        \n",
    "MasterData.head(10)"
   ]
  },
  {
   "cell_type": "code",
   "execution_count": null,
   "metadata": {},
   "outputs": [],
   "source": [
    "# Converted some columns from object to category or int64 datatypes to work with appropriate ones.\n",
    "# Converted Data of Travel column to datetime object.\n",
    "\n",
    "MasterData['Date_of_Travel'] = pd.to_datetime(MasterData['Date_of_Travel'])\n",
    "\n",
    "for column in [\"Company\", \"City\" , \"Payment_Mode\" , \"Gender\" ] :\n",
    "    \n",
    "        MasterData[column] = MasterData[column].astype('category')\n",
    "        \n",
    "        \n",
    "for column in [\"Population\", \"Users\" ] :\n",
    "    \n",
    "        MasterData[column] = MasterData[column].astype('int64')\n",
    "        \n",
    "print(\"\\nFeature's datatypes\\n\\n{}\".format(MasterData.dtypes))"
   ]
  },
  {
   "cell_type": "markdown",
   "metadata": {},
   "source": [
    "# 3. Statistical Overview and Data Analysis\n",
    "\n",
    "#### In this section , I analyzed statinfos , distributions , outliers , boxplots , correlations , covariance and so on of some columns of entire MasterData."
   ]
  },
  {
   "cell_type": "code",
   "execution_count": null,
   "metadata": {},
   "outputs": [],
   "source": [
    "# Here I splitted MasterData into two dataset for every Cab Firm to analyze them individually.\n",
    "Pink_MasterData = MasterData [MasterData['Company'] == 'Pink Cab'] \n",
    "Yellow_MasterData = MasterData [MasterData['Company'] == 'Yellow Cab']\n",
    "selected_columns = ['KM_Travelled','Price_Charged','Cost_of_Trip', 'Age' ,'Income_(USD/Month)', 'Population' , 'Users']"
   ]
  },
  {
   "cell_type": "code",
   "execution_count": null,
   "metadata": {},
   "outputs": [],
   "source": [
    "# Getting the statinfo's of selected columns from MasterData for Pink Cab Firm\n",
    "filtered_Pink_MasterData = Pink_MasterData[selected_columns]\n",
    "Pink_Cab_StatsInfo = filtered_Pink_MasterData.describe()\n",
    "Pink_Cab_StatsInfo"
   ]
  },
  {
   "cell_type": "code",
   "execution_count": null,
   "metadata": {},
   "outputs": [],
   "source": [
    "# Getting the statinfo's of selected columns from MasterData for Pink Cab Firm\n",
    "filtered_Yellow_MasterData = Yellow_MasterData[selected_columns]\n",
    "Yellow_Cab_StatsInfo = filtered_Yellow_MasterData.describe()\n",
    "Yellow_Cab_StatsInfo"
   ]
  },
  {
   "cell_type": "code",
   "execution_count": null,
   "metadata": {},
   "outputs": [],
   "source": [
    "#The KDE curves and distribtion plots of selected variables with respect to Cab Firms drawn below.\n",
    "fig,axes = plt.subplots(1, 3 , figsize=(26,8), sharey=True)\n",
    "fig.suptitle('Distributions of Variables')\n",
    "sns.histplot(ax=axes[0], data=MasterData , x='Cost_of_Trip' , kde = True , hue=\"Company\")\n",
    "sns.histplot(ax=axes[1], data=MasterData , x='Price_Charged' , kde = True , hue=\"Company\")\n",
    "sns.histplot(ax=axes[2], data=MasterData , x='Income_(USD/Month)' , kde = True , hue=\"Company\") "
   ]
  },
  {
   "cell_type": "code",
   "execution_count": null,
   "metadata": {},
   "outputs": [],
   "source": [
    "#The KDE curves and distribtion plots of selected variables with respect to Cab Firms drawn below.\n",
    "fig,axes = plt.subplots(1, 2 ,figsize=(22,9), sharey=True)\n",
    "fig.suptitle('Distributions of Variables')\n",
    "sns.histplot(ax=axes[0],data=MasterData , x='Age' , kde = True , hue=\"Company\")\n",
    "sns.histplot(ax=axes[1], data=MasterData , x='KM_Travelled' , kde = True , hue=\"Company\")"
   ]
  },
  {
   "cell_type": "code",
   "execution_count": null,
   "metadata": {},
   "outputs": [],
   "source": [
    "#The KDE curves and distribtion plots of selected variables with respect to Cab Firms drawn below.\n",
    "fig,axes = plt.subplots(1, 2 , figsize=(22 ,9), sharey=True)\n",
    "fig.suptitle('Distributions of Variables')\n",
    "sns.histplot(ax=axes[0], data=MasterData , x='Population' , kde = True , hue=\"Company\")\n",
    "sns.histplot(ax=axes[1], data=MasterData , x='Users' , kde = True , hue=\"Company\")"
   ]
  },
  {
   "cell_type": "code",
   "execution_count": null,
   "metadata": {},
   "outputs": [],
   "source": [
    "#Outlier points and lower-upper limits were analyzed by IQR method by filtering the data from the statistical value table of the desired variables.\n",
    "def showIQRstats(dataFrame_statsinfo,column_name):\n",
    "    \n",
    "    mean   = dataFrame_statsinfo[column_name][1]\n",
    "    median = dataFrame_statsinfo[column_name][5]\n",
    "    median_mean_ratio = median/mean\n",
    "    Q1     = dataFrame_statsinfo[column_name][4]\n",
    "    Q3     = dataFrame_statsinfo[column_name][6]\n",
    "    IQR    = Q3-Q1\n",
    "    upper_band = Q3 + 1.5*IQR\n",
    "    lower_band = Q1 - 1.5*IQR\n",
    "    \n",
    "    print('\\n\\n' + \"mean of : \" + str(column_name) + \" is \" + str(mean) +\n",
    "          '\\n' + \"median of : \" + str(column_name) + \" is \" + str(median) +\n",
    "          '\\n' + \"median/mean ratio of : \" +  str(column_name) + \" is \" + str(median_mean_ratio) +\n",
    "          '\\n' + \"Q1 value of : \"  + str(column_name) + \" is \"  + str(Q1) +\n",
    "          '\\n' + \"Q3 value of : \"  + str(column_name) + \" is \"  + str(Q3) + \n",
    "          '\\n' + \"IQR value of : \" + str(column_name) + \" is \" + str(IQR) + \n",
    "          '\\n' + \"Upper and Lower Limits of \" + str(column_name) + \" is \"  + str((lower_band,upper_band))\n",
    "         )\n",
    "    \n",
    "    return upper_band , lower_band"
   ]
  },
  {
   "cell_type": "code",
   "execution_count": null,
   "metadata": {},
   "outputs": [],
   "source": [
    "print('Statistical infos of Pink Cab Firm :')\n",
    "for column_name in selected_columns :\n",
    "    upper_band , lower_band = showIQRstats(Pink_Cab_StatsInfo , column_name)\n",
    "    outliers = filtered_Pink_MasterData[(filtered_Pink_MasterData[column_name] < lower_band) | (filtered_Pink_MasterData[column_name] > upper_band)][column_name].values\n",
    "    print('\\n' + str(column_name) + \" has \" + str(len(outliers)) + \" outliers : \"    + str(outliers))\n",
    "    print('\\n\\n**********************************************************\\n')"
   ]
  },
  {
   "cell_type": "code",
   "execution_count": null,
   "metadata": {},
   "outputs": [],
   "source": [
    "print('Statistical infos of Yellow Cab Firm :')\n",
    "for column_name in selected_columns :\n",
    "    upper_band , lower_band = showIQRstats(Yellow_Cab_StatsInfo , column_name)\n",
    "    outliers = filtered_Yellow_MasterData[(filtered_Yellow_MasterData[column_name] < lower_band) | (filtered_Yellow_MasterData[column_name] > upper_band)][column_name].values\n",
    "    print('\\n' + str(column_name) + \" has \" + str(len(outliers)) + \" outliers : \"    + str(outliers))\n",
    "    print('\\n\\n**********************************************************\\n')"
   ]
  },
  {
   "cell_type": "code",
   "execution_count": null,
   "metadata": {},
   "outputs": [],
   "source": [
    "#Boxplot distributions of the desired variables were drawn.\n",
    "fig,axes = plt.subplots(2, 3, figsize=(25, 8), sharey=True)\n",
    "fig.suptitle('Boxplot Distributions of the Variables')\n",
    "\n",
    "sns.boxplot(ax=axes[0,0], x='KM_Travelled' ,        data=filtered_Pink_MasterData ).set_ylabel(\"Pink Cab\")\n",
    "sns.boxplot(ax=axes[0,1], x='Price_Charged'   ,     data=filtered_Pink_MasterData  ) .set_ylabel(\"Pink Cab\")\n",
    "sns.boxplot(ax=axes[0,2], x='Cost_of_Trip' ,        data=filtered_Pink_MasterData ).set_ylabel(\"Pink Cab\")\n",
    "sns.boxplot(ax=axes[1,0], x='KM_Travelled' ,        data=filtered_Yellow_MasterData ).set_ylabel(\"Yellow Cab\")\n",
    "sns.boxplot(ax=axes[1,1], x='Price_Charged'   ,     data=filtered_Yellow_MasterData  ) .set_ylabel(\"Yellow Cab\")\n",
    "sns.boxplot(ax=axes[1,2], x='Cost_of_Trip' ,        data=filtered_Yellow_MasterData ).set_ylabel(\"Yellow Cab\")\n"
   ]
  },
  {
   "cell_type": "code",
   "execution_count": null,
   "metadata": {},
   "outputs": [],
   "source": [
    "#Boxplot distributions of the desired variables were drawn.\n",
    "fig,axes = plt.subplots(2, 3, figsize=(25, 8), sharey=True)\n",
    "fig.suptitle('Boxplot Distributions of the Variables')\n",
    "sns.boxplot(ax=axes[0,0], x='Age' ,                 data=filtered_Pink_MasterData ).set_ylabel(\"Pink Cab\")\n",
    "sns.boxplot(ax=axes[0,1], x='Income_(USD/Month)' ,  data=filtered_Pink_MasterData  ) .set_ylabel(\"Pink Cab\")\n",
    "sns.boxplot(ax=axes[0,2], x='Population' ,          data=filtered_Pink_MasterData ).set_ylabel(\"Pink Cab\")\n",
    "sns.boxplot(ax=axes[1,0], x='Age' ,                 data=filtered_Yellow_MasterData ).set_ylabel(\"Yellow Cab\")\n",
    "sns.boxplot(ax=axes[1,1], x='Income_(USD/Month)' ,  data=filtered_Yellow_MasterData  ) .set_ylabel(\"Yellow Cab\")\n",
    "sns.boxplot(ax=axes[1,2], x='Population' ,          data=filtered_Yellow_MasterData ).set_ylabel(\"Yellow Cab\")"
   ]
  },
  {
   "cell_type": "code",
   "execution_count": null,
   "metadata": {},
   "outputs": [],
   "source": [
    "#Boxplot distributions of the desired variables were drawn.\n",
    "fig,axes = plt.subplots(1, 2, figsize=(25, 8), sharey=True)\n",
    "sns.boxplot(ax=axes[0], x='Users' ,    data=filtered_Pink_MasterData ).set_ylabel(\"Pink Cab\")\n",
    "sns.boxplot(ax=axes[1], x='Users'   ,  data=filtered_Yellow_MasterData  ) .set_ylabel(\"Yellow Cab\")"
   ]
  },
  {
   "cell_type": "code",
   "execution_count": null,
   "metadata": {},
   "outputs": [],
   "source": [
    "# Here visualized the correlation of MasterData features by heatmap for Pink Cab Firm.\n",
    "Pink_Cab_Corr = filtered_Pink_MasterData.corr()\n",
    "plt.figure(figsize=(20,10))\n",
    "sns.heatmap(Pink_Cab_Corr,annot=True,vmin=-1,vmax=1,cmap='coolwarm')"
   ]
  },
  {
   "cell_type": "code",
   "execution_count": null,
   "metadata": {},
   "outputs": [],
   "source": [
    "# Here visualized the correlation of MasterData features by heatmap for Pink Cab Firm.\n",
    "Yellow_Cab_Corr = filtered_Yellow_MasterData.corr()\n",
    "plt.figure(figsize=(20,10))\n",
    "sns.heatmap(Yellow_Cab_Corr,annot=True,vmin=-1,vmax=1,cmap='coolwarm')"
   ]
  },
  {
   "cell_type": "code",
   "execution_count": null,
   "metadata": {},
   "outputs": [],
   "source": [
    "# Here visualized scatter plots of MasterData features to see correlations between them if exists\n",
    "fig,axes = plt.subplots(1, 2, figsize=(25, 8), sharey=True)\n",
    "fig.suptitle('Boxplot Distributions')\n",
    "sns.scatterplot(ax=axes[0],data=MasterData, x='KM_Travelled', y='Price_Charged' , hue=\"Company\"  ).set_title(\"KM_Travelled  - Price_Charged\")\n",
    "sns.scatterplot(ax=axes[1],data=MasterData, x='KM_Travelled', y='Cost_of_Trip' , hue=\"Company\").set_title(\"KM_Travelled  - Cost_of_Trip\")"
   ]
  },
  {
   "cell_type": "code",
   "execution_count": null,
   "metadata": {},
   "outputs": [],
   "source": [
    "# Here visualized scatter plots of MasterData features to see correlations between them if exists\n",
    "fig,axes = plt.subplots(figsize=(16, 6), sharey=True)\n",
    "fig.suptitle('Boxplot Distributions')\n",
    "sns.scatterplot(data=MasterData, x='Price_Charged', y='Cost_of_Trip' , hue=\"Company\").set_title(\"Price_Charged - Cost_of_Trip\")"
   ]
  },
  {
   "cell_type": "code",
   "execution_count": null,
   "metadata": {},
   "outputs": [],
   "source": [
    "# Here visualized scatter plots of MasterData features to see correlations between them if exists\n",
    "fig,axes = plt.subplots(figsize=(16, 6), sharey=True)\n",
    "fig.suptitle('Boxplot Distributions')\n",
    "sns.scatterplot(data=MasterData, x='Users', y='Population' , hue=\"Company\"  ).set_title(\"Population  - Users\")"
   ]
  },
  {
   "cell_type": "code",
   "execution_count": null,
   "metadata": {},
   "outputs": [],
   "source": [
    "# Here visualized scatter plots of MasterData features to see correlations between them if exists\n",
    "fig,axes = plt.subplots(1, 2, figsize=(25, 8), sharey=True)\n",
    "fig.suptitle('Pink Cab Firm Boxplot Distributions')\n",
    "sns.scatterplot(ax=axes[0],data=MasterData, x='Population', y='Price_Charged' , hue=\"Company\").set_title(\"Population  - Price_Charged\")\n",
    "sns.scatterplot(ax=axes[1],data=MasterData, x='Users', y='Price_Charged' , hue=\"Company\").set_title(\"Users - Price_Charged\")"
   ]
  },
  {
   "cell_type": "code",
   "execution_count": null,
   "metadata": {},
   "outputs": [],
   "source": [
    "# Obtained covariance values for given features.\n",
    "\n",
    "cov1  = np.cov(MasterData['KM_Travelled'],MasterData['Price_Charged'])[0][1]\n",
    "cov2  = np.cov(MasterData['KM_Travelled'],MasterData['Cost_of_Trip'])[0][1]\n",
    "cov3  = np.cov(MasterData['Price_Charged'],MasterData['Cost_of_Trip'])[0][1]\n",
    "cov4  = np.cov(MasterData['Users'],MasterData['Population'])[0][1]\n",
    "cov5  = np.cov(MasterData['Population'],MasterData['Price_Charged'])[0][1]\n",
    "cov6  = np.cov(MasterData['Users'],MasterData['Price_Charged'])[0][1]\n",
    "\n",
    "print('Covariance for  KM_Travelled - Price_Charged : '+ str(cov1))\n",
    "print('Covariance for  KM_Travelled - Cost_of_Trip : '+ str(cov2))\n",
    "print('Covariance for  Price_Charged - Cost_of_Trip : '+ str(cov3))\n",
    "print('Covariance for  Users - Population : '+ str(cov4))\n",
    "print('Covariance for  Population - Price_Charged : '+ str(cov5))\n",
    "print('Covariance for  Users - Price_Charged : '+ str(cov6))\n"
   ]
  },
  {
   "cell_type": "code",
   "execution_count": null,
   "metadata": {},
   "outputs": [],
   "source": [
    "# Obtained pearson correlation coefficients for given features.\n",
    "\n",
    "pcorr_coef1 , _ = stats.pearsonr(MasterData['KM_Travelled'],MasterData['Price_Charged'])\n",
    "pcorr_coef2 , _ = stats.pearsonr(MasterData['KM_Travelled'],MasterData['Cost_of_Trip'])\n",
    "pcorr_coef3 , _ = stats.pearsonr(MasterData['Price_Charged'],MasterData['Cost_of_Trip'])\n",
    "pcorr_coef4 , _ = stats.pearsonr(MasterData['Users'],MasterData['Population'])\n",
    "pcorr_coef5 , _ = stats.pearsonr(MasterData['Population'],MasterData['Price_Charged'])\n",
    "pcorr_coef6 , _ = stats.pearsonr(MasterData['Users'],MasterData['Price_Charged'])\n",
    "\n",
    "print('pearson correlation coefficient for  KM_Travelled - Price_Charged : '+ str(pcorr_coef1))\n",
    "print('pearson correlation coefficient for  KM_Travelled - Cost_of_Trip : '+ str(pcorr_coef2))\n",
    "print('pearson correlation coefficient for  Price_Charged - Cost_of_Trip : '+ str(pcorr_coef3))\n",
    "print('pearson correlation coefficient for  Users - Population : '+ str(pcorr_coef4))\n",
    "print('pearson correlation coefficient for  Population - Price_Charged : '+ str(pcorr_coef5))\n",
    "print('pearson correlation coefficient for  Users - Price_Charged : '+ str(pcorr_coef6))"
   ]
  },
  {
   "cell_type": "code",
   "execution_count": null,
   "metadata": {},
   "outputs": [],
   "source": [
    "# Obtained spearman rank correlations and p - values for given features. \n",
    "spearman_rank_coeff1   = stats.spearmanr(MasterData['KM_Travelled'],MasterData['Price_Charged'])\n",
    "spearman_rank_coeff2   = stats.spearmanr(MasterData['KM_Travelled'],MasterData['Cost_of_Trip'])\n",
    "spearman_rank_coeff3   = stats.spearmanr(MasterData['Price_Charged'],MasterData['Cost_of_Trip'])\n",
    "spearman_rank_coeff4   = stats.spearmanr(MasterData['Users'],MasterData['Population'])\n",
    "spearman_rank_coeff5   = stats.spearmanr(MasterData['Population'],MasterData['Price_Charged'])\n",
    "spearman_rank_coeff6   = stats.spearmanr(MasterData['Users'],MasterData['Price_Charged'])\n",
    "\n",
    "print('spearman rank coefficient coefficient for  KM_Travelled - Price_Charged : '+ str(spearman_rank_coeff1))\n",
    "print('spearman rank coefficient coefficient for  KM_Travelled - Cost_of_Trip : '+ str(spearman_rank_coeff2))\n",
    "print('spearman rank coefficient coefficient for  Price_Charged - Cost_of_Trip : '+ str(spearman_rank_coeff3))\n",
    "print('spearman rank coefficient coefficient for  Users - Population : '+ str(spearman_rank_coeff4))\n",
    "print('spearman rank coefficient coefficient for  Population - Price_Charged : '+ str(spearman_rank_coeff5))\n",
    "print('spearman rank coefficient coefficient for  Users - Price_Charged : '+ str(spearman_rank_coeff6))"
   ]
  },
  {
   "cell_type": "markdown",
   "metadata": {},
   "source": [
    "#### ⚫ From the statistical data analysis ; We see that there is **strongly positive correlation** between **KM_Travelled - Price_Charged**  , **KM_Travelled - Cost_of_Trip** , **Price_Charged - Cost_of_Trip** , **Users - Population**  and also we prove that correlations by using spearman rank correlation , pearson correlation coefficient statistical tests and zero p-values which are lower than 0.05 value to satisfy the correlation values as statistically. "
   ]
  },
  {
   "cell_type": "markdown",
   "metadata": {
    "execution": {
     "iopub.execute_input": "2021-10-08T11:49:37.590628Z",
     "iopub.status.busy": "2021-10-08T11:49:37.589329Z",
     "iopub.status.idle": "2021-10-08T11:49:37.594691Z",
     "shell.execute_reply": "2021-10-08T11:49:37.593878Z",
     "shell.execute_reply.started": "2021-10-08T11:49:37.590574Z"
    }
   },
   "source": [
    "# 4. Inferencial Data Analysis\n",
    "\n",
    "#### In this section ,  I analyzed MasterData and some meaningful pieces of MasterData which are extracted from it to make a sensable decision which Cab Firm is most valueble for investing in future times by taking insights and inferences from data analysis and visualizations with different aspects."
   ]
  },
  {
   "cell_type": "code",
   "execution_count": null,
   "metadata": {},
   "outputs": [],
   "source": [
    "data0 = MasterData.groupby(\"Company\").count()\n",
    "\n",
    "fig1 = px.pie(data0,\n",
    "                        values=data0.Users,\n",
    "                        names=data0.index ,title=\"Pink & Yellow Cab Firm Total Users Overview\"\n",
    "                        )\n",
    "fig1.update_traces(\n",
    "                        textposition='inside',\n",
    "                        textinfo='percent+label'\n",
    "                        )\n",
    "fig1.update_layout( width = 1100 , height = 600 )"
   ]
  },
  {
   "cell_type": "markdown",
   "metadata": {},
   "source": [
    "#### ⚫ As seen from this Pie Chart; The total number of users of **Yellow Cab** is **approximately 3 times that of Pink Cab**."
   ]
  },
  {
   "cell_type": "code",
   "execution_count": null,
   "metadata": {},
   "outputs": [],
   "source": [
    "data1_0 = MasterData[MasterData[\"Company\"] == \"Pink Cab\"].groupby(\"City\").count()\n",
    "data1_1 = MasterData[MasterData[\"Company\"] == \"Yellow Cab\"].groupby(\"City\").count()\n",
    "\n",
    "fig = go.Figure()\n",
    "fig.add_trace(go.Bar(\n",
    "                    x=data1_0.index,\n",
    "                    y=data1_0['Users'],\n",
    "                    name='Pink Cab',\n",
    "                    marker_color='indianred' \n",
    "                    ))            \n",
    "fig.add_trace(go.Bar(\n",
    "                    x=data1_1.index,\n",
    "                    y=data1_1['Users'],\n",
    "                    name='Yellow Cab',\n",
    "                    marker_color='blue'\n",
    "                    ))\n",
    "fig.update_layout(\n",
    "    yaxis_title=\"Users\",\n",
    "    title=\"Pink & Yellow Cab Firm Users Distribution Over City\" )"
   ]
  },
  {
   "cell_type": "markdown",
   "metadata": {},
   "source": [
    "#### ⚫ As seen from this Bar Chart; For the **Yellow Cab** Company, the highest number of users on a city basis are in **New York, Washington and Chicago**, while for the **Pink Cab** Company, the most are in **Los Angeles, New York and San Diego**."
   ]
  },
  {
   "cell_type": "code",
   "execution_count": null,
   "metadata": {},
   "outputs": [],
   "source": [
    "data2_0 = MasterData.groupby(\"City\").count()\n",
    "fig1 = px.pie(data2_0,\n",
    "                        values=data2_0.Users,\n",
    "                        names=data2_0.index ,title=\"Total Users Overview by Cities\"\n",
    "                        )\n",
    "fig1.update_traces(\n",
    "                        textposition='inside',\n",
    "                        textinfo='percent+label'\n",
    "                        )\n",
    "fig1.update_layout( width = 1100 , height = 600 )"
   ]
  },
  {
   "cell_type": "markdown",
   "metadata": {},
   "source": [
    "#### ⚫ As seen from this Pie Chart; On the basis of **cities**, the **highest number of total users**  are in **New York, Chicago, Los Angeles, Washington and Boston**."
   ]
  },
  {
   "cell_type": "code",
   "execution_count": null,
   "metadata": {},
   "outputs": [],
   "source": [
    "MasterData[\"User_Pop_Ratio\"] = MasterData[\"Users\"] / MasterData[\"Population\"]\n",
    "MasterData[\"Profit_of_Trip\"] = MasterData[\"Price_Charged\"] - MasterData[\"Cost_of_Trip\"]\n",
    "data2_1 = MasterData.groupby(\"City\").sum()\n",
    "fig1 = px.pie(data2_1,\n",
    "                        values=data2_1.Profit_of_Trip,\n",
    "                        names=data2_1.index ,title=\"Total Market Profit Share by Cities\"\n",
    "                        )\n",
    "fig1.update_traces(\n",
    "                        textposition='inside',\n",
    "                        textinfo='percent+label'\n",
    "                        )\n",
    "fig1.update_layout( width = 1100 , height = 600 )"
   ]
  },
  {
   "cell_type": "markdown",
   "metadata": {},
   "source": [
    "#### ⚫ As seen from this Pie Chart; **More than half of the total market profit share** on the basis of cities belongs to **New York**."
   ]
  },
  {
   "cell_type": "code",
   "execution_count": null,
   "metadata": {},
   "outputs": [],
   "source": [
    "pinkData = MasterData[MasterData['Company'] == 'Pink Cab']\n",
    "yellowData = MasterData[MasterData['Company'] == 'Yellow Cab']\n",
    "\n",
    "dict1 = {\"Pink Cab\" : [pinkData[\"Profit_of_Trip\"].sum()] ,\"Yellow Cab\" : [yellowData[\"Profit_of_Trip\"].sum()] }\n",
    "\n",
    "data2_2 = pd.DataFrame(dict1).T\n",
    "\n",
    "fig1 = px.pie(data2_2,\n",
    "                        values=data2_2[0],\n",
    "                        names=data2_2.index ,title=\"Total Market Profit Share by Cab Firms\"\n",
    "                        )\n",
    "fig1.update_traces(\n",
    "                        textposition='inside',\n",
    "                        textinfo='percent+label'\n",
    "                        )\n",
    "fig1.update_layout( width = 1100 , height = 600 )"
   ]
  },
  {
   "cell_type": "markdown",
   "metadata": {},
   "source": [
    "#### ⚫ As seen from this Pie Chart; The **total market profit share** of **Yellow Cab** is **approximately 9 times that of Pink Cab**."
   ]
  },
  {
   "cell_type": "code",
   "execution_count": null,
   "metadata": {},
   "outputs": [],
   "source": [
    "data3_0 = MasterData.groupby(\"Gender\").count()\n",
    "fig1 = px.pie(data3_0,\n",
    "                        values=data3_0.Users,\n",
    "                        names=data3_0.index ,title=\"Total Users Overview by Gender\"\n",
    "                        )\n",
    "fig1.update_traces(\n",
    "                        textposition='inside',\n",
    "                        textinfo='percent+label'\n",
    "                        )\n",
    "fig1.update_layout( width = 1100 , height = 600 )"
   ]
  },
  {
   "cell_type": "markdown",
   "metadata": {},
   "source": [
    "#### ⚫ As seen from this Pie Chart; In the **distribution of users by gender**, there is an approximate **3 to 2 ratio for men and women**."
   ]
  },
  {
   "cell_type": "code",
   "execution_count": null,
   "metadata": {},
   "outputs": [],
   "source": [
    "data3_1 = MasterData[MasterData[\"Company\"] == \"Pink Cab\"].groupby(\"Gender\").count()\n",
    "data3_2 = MasterData[MasterData[\"Company\"] == \"Yellow Cab\"].groupby(\"Gender\").count()\n",
    "\n",
    "fig = go.Figure()\n",
    "fig.add_trace(go.Bar(\n",
    "                    x=data3_1.index,\n",
    "                    y=data3_1['Users'],\n",
    "                    name='Pink Cab',\n",
    "                    marker_color='pink' \n",
    "                    ))            \n",
    "fig.add_trace(go.Bar(\n",
    "                    x=data3_2.index,\n",
    "                    y=data3_2['Users'],\n",
    "                    name='Yellow Cab',\n",
    "                    marker_color='orange'\n",
    "                    ))\n",
    "fig.update_layout(\n",
    "    yaxis_title=\"Users\",\n",
    "    title=\"Pink & Yellow Cab Firm Users Distribution Over Gender\" )"
   ]
  },
  {
   "cell_type": "markdown",
   "metadata": {},
   "source": [
    "#### ⚫ As seen from this Bar Chart; When the distribution of users by gender is analyzed on a company basis, while the **male-female ratio is 57.6% - 42.4% in Yellow Cab** Company, the **male-female ratio is 55.9% - 44.1% in Pink Cab** Company."
   ]
  },
  {
   "cell_type": "code",
   "execution_count": null,
   "metadata": {},
   "outputs": [],
   "source": [
    "data3_3 = MasterData.groupby(\"Payment_Mode\").count()\n",
    "fig1 = px.pie(data3_3,\n",
    "                        values=data3_3.Users,\n",
    "                        names=data3_3.index ,title=\"Total Users Overview by Payment Method\"\n",
    "                        )\n",
    "fig1.update_traces(\n",
    "                        textposition='inside',\n",
    "                        textinfo='percent+label'\n",
    "                        )\n",
    "fig1.update_layout( width = 1100 , height = 600 )"
   ]
  },
  {
   "cell_type": "markdown",
   "metadata": {},
   "source": [
    "#### ⚫ As seen from this Pie Chart; Considering the payment preferences of all users, the **credit card- cash payment ratio is 3 to 2**."
   ]
  },
  {
   "cell_type": "code",
   "execution_count": null,
   "metadata": {},
   "outputs": [],
   "source": [
    "ageGroup_Young  = MasterData[(MasterData [\"Age\"] >= 18) & (MasterData [\"Age\"] < 25)].count()\n",
    "ageGroup_Middle = MasterData[(MasterData [\"Age\"] >= 25) & (MasterData [\"Age\"] < 40)].count()\n",
    "ageGroup_Old    = MasterData[(MasterData [\"Age\"] >= 40) & (MasterData [\"Age\"] <= 65)].count()\n",
    "\n",
    "dict = {\"25 > Age >= 18 (YOUNG)\" : ageGroup_Young ,\"40 > Age >= 25 (MIDDLE)\" : ageGroup_Middle , \"65 >= Age >= 40 (OLD)\" : ageGroup_Old }\n",
    "data4_0 = pd.DataFrame(dict).T\n",
    "\n",
    "fig1 = px.pie(data4_0 ,\n",
    "                        values=data4_0.Users,\n",
    "                        names=data4_0.index ,title=\"Total Users Overview by Age Groups\"\n",
    "                        )\n",
    "fig1.update_traces(\n",
    "                        textposition='inside',\n",
    "                        textinfo='percent+label'\n",
    "                        )\n",
    "fig1.update_layout( width = 1100 , height = 600 ) \n",
    "\n",
    " "
   ]
  },
  {
   "cell_type": "markdown",
   "metadata": {},
   "source": [
    "#### ⚫ As seen from this Pie Chart; Looking at the **age distribution of all users**, it is seen that **approximately half of them** are between the ages of **18-25**."
   ]
  },
  {
   "cell_type": "code",
   "execution_count": null,
   "metadata": {},
   "outputs": [],
   "source": [
    "ageGroup_Young_Pink    = MasterData[(MasterData [\"Age\"] >= 18) & (MasterData [\"Age\"] < 25) & (MasterData[\"Company\"] == \"Pink Cab\")] .count()\n",
    "ageGroup_Middle_Pink   = MasterData[(MasterData [\"Age\"] >= 25) & (MasterData [\"Age\"] < 40) & (MasterData[\"Company\"] == \"Pink Cab\")].count()\n",
    "ageGroup_Old_Pink      = MasterData[(MasterData [\"Age\"] >= 40) & (MasterData [\"Age\"] <= 65) & (MasterData[\"Company\"] == \"Pink Cab\")].count()\n",
    "\n",
    "ageGroup_Young_Yellow  = MasterData[(MasterData [\"Age\"] >= 18) & (MasterData [\"Age\"] < 25) & (MasterData[\"Company\"] == \"Yellow Cab\")] .count()\n",
    "ageGroup_Middle_Yellow = MasterData[(MasterData [\"Age\"] >= 25) & (MasterData [\"Age\"] < 40) & (MasterData[\"Company\"] == \"Yellow Cab\")].count()\n",
    "ageGroup_Old_Yellow    = MasterData[(MasterData [\"Age\"] >= 40) & (MasterData [\"Age\"] <= 65) & (MasterData[\"Company\"] == \"Yellow Cab\")].count()\n",
    "\n",
    "dict0 = { \"25 > Age >= 18 (YOUNG)\" : ageGroup_Young_Pink ,\"40 > Age >= 25 (MIDDLE)\" : ageGroup_Middle_Pink , \"65 >= Age >= 40 (OLD)\" : ageGroup_Old_Pink }\n",
    "\n",
    "dict1 = { \"25 > Age >= 18 (YOUNG)\" : ageGroup_Young_Yellow ,\"40 > Age >= 25 (MIDDLE)\" : ageGroup_Middle_Yellow , \"65 >= Age >= 40 (OLD)\" : ageGroup_Old_Yellow }\n",
    "\n",
    "data4_1 = pd.DataFrame(dict0).T\n",
    "data4_2 = pd.DataFrame(dict1).T\n",
    "\n",
    "fig = go.Figure()\n",
    "fig.add_trace(go.Bar(\n",
    "                    x=data4_1.index,\n",
    "                    y=data4_1['Users'],\n",
    "                    name='Pink Cab',\n",
    "                    marker_color='pink' \n",
    "                    ))            \n",
    "fig.add_trace(go.Bar(\n",
    "                    x=data4_2.index,\n",
    "                    y=data4_2['Users'],\n",
    "                    name='Yellow Cab',\n",
    "                    marker_color='orange'\n",
    "                    ))\n",
    "fig.update_layout(\n",
    "    yaxis_title=\"Users\",\n",
    "    title=\"Pink & Yellow Cab Firm Users Distributions by Age Groups\" )"
   ]
  },
  {
   "cell_type": "markdown",
   "metadata": {},
   "source": [
    "#### ⚫ As seen from this Bar Chart; Looking at the **age distribution of all users in the basis of companies**, it is seen that both have the **same percentage distribution for every age group** ."
   ]
  },
  {
   "cell_type": "code",
   "execution_count": null,
   "metadata": {},
   "outputs": [],
   "source": [
    "data5_0 = MasterData.groupby(\"City\")[\"Income_(USD/Month)\"].mean()\n",
    "data5_0 = pd.DataFrame(data5_0)\n",
    "fig1 = px.pie(data5_0,\n",
    "                        values=data5_0[\"Income_(USD/Month)\"],\n",
    "                        names=data5_0.index ,title=\"Average Income by Cities\"\n",
    "                        )\n",
    "fig1.update_traces(\n",
    "                        textposition='inside',\n",
    "                        textinfo='percent+label'\n",
    "                        )\n",
    "fig1.update_layout( width = 1100 , height = 600 )\n"
   ]
  },
  {
   "cell_type": "markdown",
   "metadata": {},
   "source": [
    "#### ⚫ As seen from this Pie Chart; The **average income of all users by city** is approximately **equal**."
   ]
  },
  {
   "cell_type": "code",
   "execution_count": null,
   "metadata": {},
   "outputs": [],
   "source": [
    "data5_1 = MasterData.groupby(\"Company\")[\"Income_(USD/Month)\"].mean()\n",
    "data5_1 = pd.DataFrame(data5_1)\n",
    "fig1 = px.pie(data5_1,\n",
    "                        values=data5_1[\"Income_(USD/Month)\"],\n",
    "                        names=data5_1.index ,title=\"Average Income by Cab Firm\"\n",
    "                        )\n",
    "fig1.update_traces(\n",
    "                        textposition='inside',\n",
    "                        textinfo='percent+label'\n",
    "                        )\n",
    "fig1.update_layout( width = 1100 , height = 600 )"
   ]
  },
  {
   "cell_type": "markdown",
   "metadata": {},
   "source": [
    "#### ⚫ As seen from this Pie Chart; The **average income of all users by companies** is approximately **equal**."
   ]
  },
  {
   "cell_type": "code",
   "execution_count": null,
   "metadata": {},
   "outputs": [],
   "source": [
    "data5_2 = MasterData.groupby(\"City\")[\"KM_Travelled\"].sum()\n",
    "data5_2 = pd.DataFrame(data5_2)\n",
    "fig1 = px.pie(data5_2,\n",
    "                        values=data5_2[\"KM_Travelled\"],\n",
    "                        names=data5_2.index ,title=\"Total KM Travelled by Cities\"\n",
    "                        )\n",
    "fig1.update_traces(\n",
    "                        textposition='inside',\n",
    "                        textinfo='percent+label'\n",
    "                        )\n",
    "fig1.update_layout( width = 1100 , height = 600 )"
   ]
  },
  {
   "cell_type": "markdown",
   "metadata": {},
   "source": [
    "#### ⚫ As seen from this Pie Chart; On the basis of **cities**, the **most travelled in KM**  are **New York, Chicago, Los Angeles, Washington and Boston**."
   ]
  },
  {
   "cell_type": "code",
   "execution_count": null,
   "metadata": {},
   "outputs": [],
   "source": [
    "data5_3 = MasterData.groupby(\"Company\")[\"KM_Travelled\"].sum()\n",
    "data5_3 = pd.DataFrame(data5_3)\n",
    "fig1 = px.pie(data5_3,\n",
    "                        values=data5_3[\"KM_Travelled\"],\n",
    "                        names=data5_3.index ,title=\"Total KM Travelled by Cab Firm\"\n",
    "                        )\n",
    "fig1.update_traces(\n",
    "                        textposition='inside',\n",
    "                        textinfo='percent+label'\n",
    "                        )\n",
    "fig1.update_layout( width = 1100 , height = 600 )"
   ]
  },
  {
   "cell_type": "markdown",
   "metadata": {},
   "source": [
    "#### ⚫ As seen from this Pie Chart; The **total travelled in KM** for **Yellow Cab** is **approximately 3 times that of Pink Cab**."
   ]
  },
  {
   "cell_type": "code",
   "execution_count": null,
   "metadata": {},
   "outputs": [],
   "source": [
    "MasterData[\"Profit_per_KM\"] = MasterData[\"Profit_of_Trip\"].sum() / MasterData[\"KM_Travelled\"].sum()\n",
    "data5_4 = MasterData.groupby(\"City\")[\"Profit_per_KM\"].mean()\n",
    "data5_4 = pd.DataFrame(data5_4)\n",
    "\n",
    "fig1 = px.pie(data5_4,\n",
    "                        values=data5_4[\"Profit_per_KM\"],\n",
    "                        names=data5_4.index ,title=\"Average Profit per KM Travelled by Cities\"\n",
    "                        )\n",
    "fig1.update_traces(\n",
    "                        textposition='inside',\n",
    "                        textinfo='percent+label'\n",
    "                        )\n",
    "fig1.update_layout( width = 1100 , height = 600 )"
   ]
  },
  {
   "cell_type": "markdown",
   "metadata": {},
   "source": [
    "#### ⚫ As seen from this Pie Chart; The **average profit per travelled in KM by cities** is approximately **equal**."
   ]
  },
  {
   "cell_type": "code",
   "execution_count": null,
   "metadata": {},
   "outputs": [],
   "source": [
    "data5_5 = MasterData.groupby(\"Company\")[\"Profit_per_KM\"].mean()\n",
    "data5_5 = pd.DataFrame(data5_5)\n",
    "\n",
    "fig1 = px.pie(data5_5,\n",
    "                        values=data5_5[\"Profit_per_KM\"],\n",
    "                        names=data5_5.index ,title=\"Average Profit per KM Travelled by Cab Firm\"\n",
    "                        )\n",
    "fig1.update_traces(\n",
    "                        textposition='inside',\n",
    "                        textinfo='percent+label'\n",
    "                        )\n",
    "fig1.update_layout( width = 1100 , height = 600 )"
   ]
  },
  {
   "cell_type": "markdown",
   "metadata": {},
   "source": [
    "#### ⚫ As seen from this Pie Chart; The **average profit per travelled in KM by companies** is approximately **equal**."
   ]
  },
  {
   "cell_type": "markdown",
   "metadata": {
    "execution": {
     "iopub.execute_input": "2021-10-10T16:38:07.760293Z",
     "iopub.status.busy": "2021-10-10T16:38:07.759956Z",
     "iopub.status.idle": "2021-10-10T16:38:07.76595Z",
     "shell.execute_reply": "2021-10-10T16:38:07.765157Z",
     "shell.execute_reply.started": "2021-10-10T16:38:07.760266Z"
    }
   },
   "source": [
    "#### 5. Time Series Analysis"
   ]
  },
  {
   "cell_type": "code",
   "execution_count": null,
   "metadata": {},
   "outputs": [],
   "source": [
    "MasterData['Year_of_Travel'] = MasterData['Date_of_Travel'].dt.year\n",
    "MasterData['Month_of_Travel'] = MasterData['Date_of_Travel'].dt.month\n",
    "MasterData['Day_of_Travel'] = MasterData['Date_of_Travel'].dt.day\n",
    "\n",
    "MasterData_TimeSeries=MasterData.set_index('Date_of_Travel')\n",
    "MasterData_TimeSeries.head(10)"
   ]
  },
  {
   "cell_type": "code",
   "execution_count": null,
   "metadata": {},
   "outputs": [],
   "source": [
    "years_list = [\"2016\",\"2017\",\"2018\"]\n",
    "\n",
    "def year_pink():\n",
    "    \n",
    "    \n",
    "    \n",
    "    profit_2016 = round ( MasterData[(MasterData['Year_of_Travel'] == 2016) & (MasterData.Company == \"Pink Cab\")][\"Profit_of_Trip\"].sum() ,2)\n",
    "    profit_2017 = round ( MasterData[(MasterData['Year_of_Travel'] == 2017) & (MasterData.Company == \"Pink Cab\")][\"Profit_of_Trip\"].sum() ,2)\n",
    "    profit_2018 = round ( MasterData[(MasterData['Year_of_Travel'] == 2018) & (MasterData.Company == \"Pink Cab\")][\"Profit_of_Trip\"].sum() ,2)\n",
    "    \n",
    "    profits = [profit_2016, profit_2017, profit_2018]\n",
    "    \n",
    "    return profits\n",
    "\n",
    "   \n",
    "\n",
    "def year_yellow():\n",
    "    \n",
    "    \n",
    "    profit_2016 = round ( MasterData[(MasterData['Year_of_Travel'] == 2016) & (MasterData.Company == \"Yellow Cab\")][\"Profit_of_Trip\"].sum() ,2)\n",
    "    profit_2017 = round ( MasterData[(MasterData['Year_of_Travel'] == 2017) & (MasterData.Company == \"Yellow Cab\")][\"Profit_of_Trip\"].sum() ,2)\n",
    "    profit_2018 = round ( MasterData[(MasterData['Year_of_Travel'] == 2018) & (MasterData.Company == \"Yellow Cab\")][\"Profit_of_Trip\"].sum() ,2)\n",
    "    \n",
    "    profits = [profit_2016, profit_2017, profit_2018]\n",
    "    \n",
    "    return profits\n",
    "   \n",
    "\n",
    "yellow = year_yellow()\n",
    "pink = year_pink()\n",
    "zippedy = zip(yellow,years_list)\n",
    "zippedp = zip(pink,years_list)\n",
    "\n",
    "datap = pd.DataFrame(zippedp,columns=[\"Profit\",\"Year\"])\n",
    "datay = pd.DataFrame(zippedy,columns=[\"Profit\",\"Year\"])\n",
    "\n",
    "fig = go.Figure()\n",
    "fig.add_trace(go.Scatter(x=datay.Year, y=datay.Profit,\n",
    "                    mode='lines+markers',\n",
    "                    name='Yellow Cab'\n",
    "                    ))\n",
    "fig.add_trace(go.Scatter(x=datap.Year, y=datap.Profit,\n",
    "                    mode='lines+markers',\n",
    "                    name='Pink Cab'\n",
    "                     ))\n",
    "fig.update_layout(\n",
    "    title=\"Total Profit per year by Cab Firm\",\n",
    "    xaxis_title=\"Years\",\n",
    "    yaxis_title=\"Profits\",\n",
    "    legend_title=\"Cab Companies\",\n",
    ")\n",
    "\n",
    "fig.show()\n"
   ]
  },
  {
   "cell_type": "markdown",
   "metadata": {},
   "source": [
    "#### ⚫ As seen from this Pie Chart; \n",
    "In 2016 , The **total market profit share** of **Yellow Cab** is **approximately 8.15 times that of Pink Cab**.\n",
    "In 2017 , The **total market profit share** of **Yellow Cab** is **approximately 8.16 times that of Pink Cab**.\n",
    "In 2018 , The **total market profit share** of **Yellow Cab** is **approximately 8.66 times that of Pink Cab**"
   ]
  },
  {
   "cell_type": "markdown",
   "metadata": {},
   "source": [
    "### ⚫ **Overall Conclusion**\n",
    "\n",
    "When we consider for both Cab Firms in terms of **total market profit share** , **total user share**  , **yearly market profit share** , **total travelled in KM by Users**  ;  we will recommend **Yellow Cab Firm** for investment. \n"
   ]
  },
  {
   "cell_type": "code",
   "execution_count": null,
   "metadata": {},
   "outputs": [],
   "source": [
    "MasterData.info()"
   ]
  }
 ],
 "metadata": {
  "kernelspec": {
   "display_name": "Python 3 (ipykernel)",
   "language": "python",
   "name": "python3"
  },
  "language_info": {
   "codemirror_mode": {
    "name": "ipython",
    "version": 3
   },
   "file_extension": ".py",
   "mimetype": "text/x-python",
   "name": "python",
   "nbconvert_exporter": "python",
   "pygments_lexer": "ipython3",
   "version": "3.8.12"
  }
 },
 "nbformat": 4,
 "nbformat_minor": 4
}
