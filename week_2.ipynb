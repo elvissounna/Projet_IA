{
  "nbformat": 4,
  "nbformat_minor": 0,
  "metadata": {
    "colab": {
      "name": "week_2",
      "provenance": [],
      "authorship_tag": "ABX9TyNI58m69s61vQlLqP/NYIWu",
      "include_colab_link": true
    },
    "kernelspec": {
      "name": "python3",
      "display_name": "Python 3"
    },
    "language_info": {
      "name": "python"
    }
  },
  "cells": [
    {
      "cell_type": "markdown",
      "metadata": {
        "id": "view-in-github",
        "colab_type": "text"
      },
      "source": [
        "<a href=\"https://colab.research.google.com/github/elvissounna/Projet_IA/blob/main/week_2.ipynb\" target=\"_parent\"><img src=\"https://colab.research.google.com/assets/colab-badge.svg\" alt=\"Open In Colab\"/></a>"
      ]
    },
    {
      "cell_type": "code",
      "source": [
        "from google.colab import drive\n",
        "drive.mount(\"/content/drive\")"
      ],
      "metadata": {
        "colab": {
          "base_uri": "https://localhost:8080/"
        },
        "id": "FN6rmdC35Tw3",
        "outputId": "c1eeaa94-0042-4da6-b8b1-c6a6b8135293"
      },
      "execution_count": null,
      "outputs": [
        {
          "output_type": "stream",
          "name": "stdout",
          "text": [
            "Mounted at /content/drive\n"
          ]
        }
      ]
    },
    {
      "cell_type": "code",
      "execution_count": null,
      "metadata": {
        "id": "FFBr-U-KVw2U"
      },
      "outputs": [],
      "source": [
        "import os\n",
        "import pandas as pd\n",
        "import numpy as np\n",
        "import matplotlib_inline\n",
        "import matplotlib.pyplot as plt\n",
        "os.chdir(\"/content/drive/MyDrive/DataSets/DataSets\")\n"
      ]
    },
    {
      "cell_type": "code",
      "source": [
        ""
      ],
      "metadata": {
        "id": "GcdpyTuZ4JsE"
      },
      "execution_count": null,
      "outputs": []
    },
    {
      "cell_type": "code",
      "source": [
        "#Visualization and analysis of Cab_Data file.\n",
        "cab = pd.read_csv(\"Cab_data.csv\")\n",
        "cab.info()"
      ],
      "metadata": {
        "id": "2Z5GcYhehGPS",
        "colab": {
          "base_uri": "https://localhost:8080/"
        },
        "outputId": "98148e74-ecd3-47cf-f3de-1b1f285403f8"
      },
      "execution_count": null,
      "outputs": [
        {
          "output_type": "stream",
          "name": "stdout",
          "text": [
            "<class 'pandas.core.frame.DataFrame'>\n",
            "RangeIndex: 359392 entries, 0 to 359391\n",
            "Data columns (total 7 columns):\n",
            " #   Column          Non-Null Count   Dtype  \n",
            "---  ------          --------------   -----  \n",
            " 0   Transaction ID  359392 non-null  int64  \n",
            " 1   Date of Travel  359392 non-null  object \n",
            " 2   Company         359392 non-null  object \n",
            " 3   City            359392 non-null  object \n",
            " 4   KM Travelled    359392 non-null  float64\n",
            " 5   Price Charged   359392 non-null  float64\n",
            " 6   Cost of Trip    359392 non-null  float64\n",
            "dtypes: float64(3), int64(1), object(3)\n",
            "memory usage: 19.2+ MB\n"
          ]
        }
      ]
    },
    {
      "cell_type": "code",
      "source": [
        ""
      ],
      "metadata": {
        "id": "FOpTZr5o4Ilt"
      },
      "execution_count": null,
      "outputs": []
    },
    {
      "cell_type": "code",
      "source": [
        "#Affichons les premières lignes du DataSet ainsi que sa taille\n",
        "print(cab.head(30))\n",
        "print(cab.shape)"
      ],
      "metadata": {
        "colab": {
          "base_uri": "https://localhost:8080/"
        },
        "id": "aGpmELYfhGbo",
        "outputId": "6036b54e-4eee-4634-d375-ddaf3637a831"
      },
      "execution_count": null,
      "outputs": [
        {
          "output_type": "stream",
          "name": "stdout",
          "text": [
            "    Transaction ID Date of Travel   Company        City  KM Travelled  \\\n",
            "0         10000011     08-01-2016  Pink Cab  ATLANTA GA         30.45   \n",
            "1         10000012     06-01-2016  Pink Cab  ATLANTA GA         28.62   \n",
            "2         10000013     02-01-2016  Pink Cab  ATLANTA GA          9.04   \n",
            "3         10000014     07-01-2016  Pink Cab  ATLANTA GA         33.17   \n",
            "4         10000015     03-01-2016  Pink Cab  ATLANTA GA          8.73   \n",
            "5         10000016     07-01-2016  Pink Cab  ATLANTA GA          6.06   \n",
            "6         10000017     03-01-2016  Pink Cab   AUSTIN TX         44.00   \n",
            "7         10000018     07-01-2016  Pink Cab   AUSTIN TX         35.65   \n",
            "8         10000019     12-01-2016  Pink Cab   BOSTON MA         14.40   \n",
            "9         10000020     06-01-2016  Pink Cab   BOSTON MA         10.89   \n",
            "10        10000021     11-01-2016  Pink Cab   BOSTON MA         39.60   \n",
            "11        10000022     06-01-2016  Pink Cab   BOSTON MA         21.80   \n",
            "12        10000023     11-01-2016  Pink Cab   BOSTON MA         12.00   \n",
            "13        10000024     06-01-2016  Pink Cab   BOSTON MA         32.67   \n",
            "14        10000025     08-01-2016  Pink Cab   BOSTON MA         25.52   \n",
            "15        10000026     10-01-2016  Pink Cab   BOSTON MA         15.54   \n",
            "16        10000027     07-01-2016  Pink Cab   BOSTON MA          6.65   \n",
            "17        10000028     08-01-2016  Pink Cab   BOSTON MA         34.22   \n",
            "18        10000029     02-01-2016  Pink Cab   BOSTON MA         21.34   \n",
            "19        10000030     02-01-2016  Pink Cab   BOSTON MA         41.30   \n",
            "20        10000031     06-01-2016  Pink Cab   BOSTON MA          1.96   \n",
            "21        10000032     07-01-2016  Pink Cab   BOSTON MA         13.44   \n",
            "22        10000033     12-01-2016  Pink Cab   BOSTON MA         23.40   \n",
            "23        10000034     03-01-2016  Pink Cab  CHICAGO IL         23.20   \n",
            "24        10000035     09-01-2016  Pink Cab  CHICAGO IL          4.48   \n",
            "25        10000036     11-01-2016  Pink Cab  CHICAGO IL         37.76   \n",
            "26        10000037     11-01-2016  Pink Cab  CHICAGO IL         14.56   \n",
            "27        10000038     08-01-2016  Pink Cab  CHICAGO IL         39.55   \n",
            "28        10000039     10-01-2016  Pink Cab  CHICAGO IL          6.66   \n",
            "29        10000040     07-01-2016  Pink Cab  CHICAGO IL         37.05   \n",
            "\n",
            "    Price Charged  Cost of Trip  \n",
            "0          370.95       313.635  \n",
            "1          358.52       334.854  \n",
            "2          125.20        97.632  \n",
            "3          377.40       351.602  \n",
            "4          114.62        97.776  \n",
            "5           72.43        63.024  \n",
            "6          576.15       475.200  \n",
            "7          466.10       377.890  \n",
            "8          191.61       146.880  \n",
            "9          156.98       113.256  \n",
            "10         570.83       475.200  \n",
            "11         317.27       220.180  \n",
            "12         158.01       134.400  \n",
            "13         470.94       392.040  \n",
            "14         360.79       298.584  \n",
            "15         234.78       169.386  \n",
            "16         101.39        76.475  \n",
            "17         498.02       407.218  \n",
            "18         324.21       226.204  \n",
            "19         646.06       454.300  \n",
            "20          27.71        20.776  \n",
            "21         193.74       145.152  \n",
            "22         295.15       259.740  \n",
            "23         396.73       278.400  \n",
            "24          55.27        51.520  \n",
            "25         541.76       407.808  \n",
            "26         191.33       171.808  \n",
            "27         540.93       454.825  \n",
            "28          95.55        68.598  \n",
            "29         447.12       381.615  \n",
            "(359392, 7)\n"
          ]
        }
      ]
    },
    {
      "cell_type": "code",
      "source": [
        "# Visualisons le nombre de données manquantes pour chaque variable\n",
        "cab.isna().sum()\n"
      ],
      "metadata": {
        "colab": {
          "base_uri": "https://localhost:8080/"
        },
        "id": "13ONsRvY-sKa",
        "outputId": "bdbfa668-ef93-4842-aa5b-99160555ffa3"
      },
      "execution_count": null,
      "outputs": [
        {
          "output_type": "execute_result",
          "data": {
            "text/plain": [
              "Transaction ID    0\n",
              "Date of Travel    0\n",
              "Company           0\n",
              "City              0\n",
              "KM Travelled      0\n",
              "Price Charged     0\n",
              "Cost of Trip      0\n",
              "dtype: int64"
            ]
          },
          "metadata": {},
          "execution_count": 5
        }
      ]
    },
    {
      "cell_type": "code",
      "source": [
        "print(cab[\"Date of Travel\"].dtypes)\n",
        "# On peut remarquer que le format n'est pas celui indiqué pour indiquer la date.\n",
        "# Nous allons donc le convertir"
      ],
      "metadata": {
        "colab": {
          "base_uri": "https://localhost:8080/"
        },
        "id": "0rLz3NeV_xZ_",
        "outputId": "3baf90f0-a1bd-4154-b1c1-a087754aeaae"
      },
      "execution_count": null,
      "outputs": [
        {
          "output_type": "stream",
          "name": "stdout",
          "text": [
            "object\n"
          ]
        }
      ]
    },
    {
      "cell_type": "code",
      "source": [
        "# revisualisons le dataset\n",
        "print(cab['Date of Travel'])"
      ],
      "metadata": {
        "colab": {
          "base_uri": "https://localhost:8080/"
        },
        "id": "hFMSlFnzGWvz",
        "outputId": "3f868fad-60df-4c25-e507-cdee12f6667f"
      },
      "execution_count": null,
      "outputs": [
        {
          "output_type": "stream",
          "name": "stdout",
          "text": [
            "0         08-01-2016\n",
            "1         06-01-2016\n",
            "2         02-01-2016\n",
            "3         07-01-2016\n",
            "4         03-01-2016\n",
            "             ...    \n",
            "359387    08-01-2018\n",
            "359388    04-01-2018\n",
            "359389    05-01-2018\n",
            "359390    05-01-2018\n",
            "359391    02-01-2018\n",
            "Name: Date of Travel, Length: 359392, dtype: object\n"
          ]
        }
      ]
    },
    {
      "cell_type": "code",
      "source": [
        "cab['Date of Travel']  = pd.to_datetime(cab['Date of Travel'] ).dt.date\n",
        "cab.head()\n",
        "\n"
      ],
      "metadata": {
        "colab": {
          "base_uri": "https://localhost:8080/",
          "height": 206
        },
        "id": "YyB5hHyqJrEV",
        "outputId": "20f77370-bf68-428a-cc8a-ce3ad01da109"
      },
      "execution_count": null,
      "outputs": [
        {
          "output_type": "execute_result",
          "data": {
            "text/plain": [
              "   Transaction ID Date of Travel   Company        City  KM Travelled  \\\n",
              "0        10000011     1970-01-01  Pink Cab  ATLANTA GA         30.45   \n",
              "1        10000012     1970-01-01  Pink Cab  ATLANTA GA         28.62   \n",
              "2        10000013     1970-01-01  Pink Cab  ATLANTA GA          9.04   \n",
              "3        10000014     1970-01-01  Pink Cab  ATLANTA GA         33.17   \n",
              "4        10000015     1970-01-01  Pink Cab  ATLANTA GA          8.73   \n",
              "\n",
              "   Price Charged  Cost of Trip  \n",
              "0         370.95       313.635  \n",
              "1         358.52       334.854  \n",
              "2         125.20        97.632  \n",
              "3         377.40       351.602  \n",
              "4         114.62        97.776  "
            ],
            "text/html": [
              "\n",
              "  <div id=\"df-d4bc629e-ad31-4f43-b8d5-44d68f9e0778\">\n",
              "    <div class=\"colab-df-container\">\n",
              "      <div>\n",
              "<style scoped>\n",
              "    .dataframe tbody tr th:only-of-type {\n",
              "        vertical-align: middle;\n",
              "    }\n",
              "\n",
              "    .dataframe tbody tr th {\n",
              "        vertical-align: top;\n",
              "    }\n",
              "\n",
              "    .dataframe thead th {\n",
              "        text-align: right;\n",
              "    }\n",
              "</style>\n",
              "<table border=\"1\" class=\"dataframe\">\n",
              "  <thead>\n",
              "    <tr style=\"text-align: right;\">\n",
              "      <th></th>\n",
              "      <th>Transaction ID</th>\n",
              "      <th>Date of Travel</th>\n",
              "      <th>Company</th>\n",
              "      <th>City</th>\n",
              "      <th>KM Travelled</th>\n",
              "      <th>Price Charged</th>\n",
              "      <th>Cost of Trip</th>\n",
              "    </tr>\n",
              "  </thead>\n",
              "  <tbody>\n",
              "    <tr>\n",
              "      <th>0</th>\n",
              "      <td>10000011</td>\n",
              "      <td>1970-01-01</td>\n",
              "      <td>Pink Cab</td>\n",
              "      <td>ATLANTA GA</td>\n",
              "      <td>30.45</td>\n",
              "      <td>370.95</td>\n",
              "      <td>313.635</td>\n",
              "    </tr>\n",
              "    <tr>\n",
              "      <th>1</th>\n",
              "      <td>10000012</td>\n",
              "      <td>1970-01-01</td>\n",
              "      <td>Pink Cab</td>\n",
              "      <td>ATLANTA GA</td>\n",
              "      <td>28.62</td>\n",
              "      <td>358.52</td>\n",
              "      <td>334.854</td>\n",
              "    </tr>\n",
              "    <tr>\n",
              "      <th>2</th>\n",
              "      <td>10000013</td>\n",
              "      <td>1970-01-01</td>\n",
              "      <td>Pink Cab</td>\n",
              "      <td>ATLANTA GA</td>\n",
              "      <td>9.04</td>\n",
              "      <td>125.20</td>\n",
              "      <td>97.632</td>\n",
              "    </tr>\n",
              "    <tr>\n",
              "      <th>3</th>\n",
              "      <td>10000014</td>\n",
              "      <td>1970-01-01</td>\n",
              "      <td>Pink Cab</td>\n",
              "      <td>ATLANTA GA</td>\n",
              "      <td>33.17</td>\n",
              "      <td>377.40</td>\n",
              "      <td>351.602</td>\n",
              "    </tr>\n",
              "    <tr>\n",
              "      <th>4</th>\n",
              "      <td>10000015</td>\n",
              "      <td>1970-01-01</td>\n",
              "      <td>Pink Cab</td>\n",
              "      <td>ATLANTA GA</td>\n",
              "      <td>8.73</td>\n",
              "      <td>114.62</td>\n",
              "      <td>97.776</td>\n",
              "    </tr>\n",
              "  </tbody>\n",
              "</table>\n",
              "</div>\n",
              "      <button class=\"colab-df-convert\" onclick=\"convertToInteractive('df-d4bc629e-ad31-4f43-b8d5-44d68f9e0778')\"\n",
              "              title=\"Convert this dataframe to an interactive table.\"\n",
              "              style=\"display:none;\">\n",
              "        \n",
              "  <svg xmlns=\"http://www.w3.org/2000/svg\" height=\"24px\"viewBox=\"0 0 24 24\"\n",
              "       width=\"24px\">\n",
              "    <path d=\"M0 0h24v24H0V0z\" fill=\"none\"/>\n",
              "    <path d=\"M18.56 5.44l.94 2.06.94-2.06 2.06-.94-2.06-.94-.94-2.06-.94 2.06-2.06.94zm-11 1L8.5 8.5l.94-2.06 2.06-.94-2.06-.94L8.5 2.5l-.94 2.06-2.06.94zm10 10l.94 2.06.94-2.06 2.06-.94-2.06-.94-.94-2.06-.94 2.06-2.06.94z\"/><path d=\"M17.41 7.96l-1.37-1.37c-.4-.4-.92-.59-1.43-.59-.52 0-1.04.2-1.43.59L10.3 9.45l-7.72 7.72c-.78.78-.78 2.05 0 2.83L4 21.41c.39.39.9.59 1.41.59.51 0 1.02-.2 1.41-.59l7.78-7.78 2.81-2.81c.8-.78.8-2.07 0-2.86zM5.41 20L4 18.59l7.72-7.72 1.47 1.35L5.41 20z\"/>\n",
              "  </svg>\n",
              "      </button>\n",
              "      \n",
              "  <style>\n",
              "    .colab-df-container {\n",
              "      display:flex;\n",
              "      flex-wrap:wrap;\n",
              "      gap: 12px;\n",
              "    }\n",
              "\n",
              "    .colab-df-convert {\n",
              "      background-color: #E8F0FE;\n",
              "      border: none;\n",
              "      border-radius: 50%;\n",
              "      cursor: pointer;\n",
              "      display: none;\n",
              "      fill: #1967D2;\n",
              "      height: 32px;\n",
              "      padding: 0 0 0 0;\n",
              "      width: 32px;\n",
              "    }\n",
              "\n",
              "    .colab-df-convert:hover {\n",
              "      background-color: #E2EBFA;\n",
              "      box-shadow: 0px 1px 2px rgba(60, 64, 67, 0.3), 0px 1px 3px 1px rgba(60, 64, 67, 0.15);\n",
              "      fill: #174EA6;\n",
              "    }\n",
              "\n",
              "    [theme=dark] .colab-df-convert {\n",
              "      background-color: #3B4455;\n",
              "      fill: #D2E3FC;\n",
              "    }\n",
              "\n",
              "    [theme=dark] .colab-df-convert:hover {\n",
              "      background-color: #434B5C;\n",
              "      box-shadow: 0px 1px 3px 1px rgba(0, 0, 0, 0.15);\n",
              "      filter: drop-shadow(0px 1px 2px rgba(0, 0, 0, 0.3));\n",
              "      fill: #FFFFFF;\n",
              "    }\n",
              "  </style>\n",
              "\n",
              "      <script>\n",
              "        const buttonEl =\n",
              "          document.querySelector('#df-d4bc629e-ad31-4f43-b8d5-44d68f9e0778 button.colab-df-convert');\n",
              "        buttonEl.style.display =\n",
              "          google.colab.kernel.accessAllowed ? 'block' : 'none';\n",
              "\n",
              "        async function convertToInteractive(key) {\n",
              "          const element = document.querySelector('#df-d4bc629e-ad31-4f43-b8d5-44d68f9e0778');\n",
              "          const dataTable =\n",
              "            await google.colab.kernel.invokeFunction('convertToInteractive',\n",
              "                                                     [key], {});\n",
              "          if (!dataTable) return;\n",
              "\n",
              "          const docLinkHtml = 'Like what you see? Visit the ' +\n",
              "            '<a target=\"_blank\" href=https://colab.research.google.com/notebooks/data_table.ipynb>data table notebook</a>'\n",
              "            + ' to learn more about interactive tables.';\n",
              "          element.innerHTML = '';\n",
              "          dataTable['output_type'] = 'display_data';\n",
              "          await google.colab.output.renderOutput(dataTable, element);\n",
              "          const docLink = document.createElement('div');\n",
              "          docLink.innerHTML = docLinkHtml;\n",
              "          element.appendChild(docLink);\n",
              "        }\n",
              "      </script>\n",
              "    </div>\n",
              "  </div>\n",
              "  "
            ]
          },
          "metadata": {},
          "execution_count": 19
        }
      ]
    },
    {
      "cell_type": "code",
      "source": [
        "# On peut faire une visions statistique élémentaire globale sur notre jeu de données\n",
        "print(cab.describe(include = 'all'))"
      ],
      "metadata": {
        "colab": {
          "base_uri": "https://localhost:8080/"
        },
        "id": "5i2v9yeChGe1",
        "outputId": "ea9533d6-2190-4c58-e675-c12101c50df7"
      },
      "execution_count": null,
      "outputs": [
        {
          "output_type": "stream",
          "name": "stdout",
          "text": [
            "        Transaction ID Date of Travel     Company         City   KM Travelled  \\\n",
            "count     3.593920e+05         359392      359392       359392  359392.000000   \n",
            "unique             NaN           1095           2           19            NaN   \n",
            "top                NaN     05-01-2018  Yellow Cab  NEW YORK NY            NaN   \n",
            "freq               NaN           2022      274681        99885            NaN   \n",
            "mean      1.022076e+07            NaN         NaN          NaN      22.567254   \n",
            "std       1.268058e+05            NaN         NaN          NaN      12.233526   \n",
            "min       1.000001e+07            NaN         NaN          NaN       1.900000   \n",
            "25%       1.011081e+07            NaN         NaN          NaN      12.000000   \n",
            "50%       1.022104e+07            NaN         NaN          NaN      22.440000   \n",
            "75%       1.033094e+07            NaN         NaN          NaN      32.960000   \n",
            "max       1.044011e+07            NaN         NaN          NaN      48.000000   \n",
            "\n",
            "        Price Charged   Cost of Trip  \n",
            "count   359392.000000  359392.000000  \n",
            "unique            NaN            NaN  \n",
            "top               NaN            NaN  \n",
            "freq              NaN            NaN  \n",
            "mean       423.443311     286.190113  \n",
            "std        274.378911     157.993661  \n",
            "min         15.600000      19.000000  \n",
            "25%        206.437500     151.200000  \n",
            "50%        386.360000     282.480000  \n",
            "75%        583.660000     413.683200  \n",
            "max       2048.030000     691.200000  \n"
          ]
        }
      ]
    },
    {
      "cell_type": "code",
      "source": [
        ""
      ],
      "metadata": {
        "id": "_dqGWrRfjjvb"
      },
      "execution_count": null,
      "outputs": []
    },
    {
      "cell_type": "code",
      "source": [
        "#Visualisation of City.csv file"
      ],
      "metadata": {
        "id": "tmT4mb79jj2b"
      },
      "execution_count": null,
      "outputs": []
    },
    {
      "cell_type": "code",
      "source": [
        "city = pd.read_csv(\"City.csv\")\n",
        "print(city.head(15))\n",
        "print(city.info())"
      ],
      "metadata": {
        "colab": {
          "base_uri": "https://localhost:8080/"
        },
        "id": "Wx4Uc87AhGiD",
        "outputId": "3a412593-c8fe-484d-bc9e-e6eeb1d657b6"
      },
      "execution_count": null,
      "outputs": [
        {
          "output_type": "stream",
          "name": "stdout",
          "text": [
            "                City   Population      Users\n",
            "0        NEW YORK NY   8,405,837    302,149 \n",
            "1         CHICAGO IL   1,955,130    164,468 \n",
            "2     LOS ANGELES CA   1,595,037    144,132 \n",
            "3           MIAMI FL   1,339,155     17,675 \n",
            "4     SILICON VALLEY   1,177,609     27,247 \n",
            "5      ORANGE COUNTY   1,030,185     12,994 \n",
            "6       SAN DIEGO CA     959,307     69,995 \n",
            "7         PHOENIX AZ     943,999      6,133 \n",
            "8          DALLAS TX     942,908     22,157 \n",
            "9         ATLANTA GA     814,885     24,701 \n",
            "10         DENVER CO     754,233     12,421 \n",
            "11         AUSTIN TX     698,371     14,978 \n",
            "12        SEATTLE WA     671,238     25,063 \n",
            "13         TUCSON AZ     631,442      5,712 \n",
            "14  SAN FRANCISCO CA     629,591    213,609 \n",
            "<class 'pandas.core.frame.DataFrame'>\n",
            "RangeIndex: 20 entries, 0 to 19\n",
            "Data columns (total 3 columns):\n",
            " #   Column      Non-Null Count  Dtype \n",
            "---  ------      --------------  ----- \n",
            " 0   City        20 non-null     object\n",
            " 1   Population  20 non-null     object\n",
            " 2   Users       20 non-null     object\n",
            "dtypes: object(3)\n",
            "memory usage: 608.0+ bytes\n",
            "None\n"
          ]
        }
      ]
    },
    {
      "cell_type": "code",
      "source": [
        ""
      ],
      "metadata": {
        "id": "XTobrPhJkW2K"
      },
      "execution_count": null,
      "outputs": []
    },
    {
      "cell_type": "code",
      "source": [
        "#Visualisation and analysis of Customer_ID.csv"
      ],
      "metadata": {
        "id": "Cj7-fF3ckW-U"
      },
      "execution_count": null,
      "outputs": []
    },
    {
      "cell_type": "code",
      "source": [
        "customer = pd.read_csv(\"Customer_ID.csv\")\n",
        "print(customer.head(15))"
      ],
      "metadata": {
        "colab": {
          "base_uri": "https://localhost:8080/"
        },
        "id": "oYPiEWdOkXA5",
        "outputId": "f3866f64-5eb2-4b9f-b642-742ef9381043"
      },
      "execution_count": null,
      "outputs": [
        {
          "output_type": "stream",
          "name": "stdout",
          "text": [
            "    Customer ID Gender  Age  Income (USD/Month)\n",
            "0         29290   Male   28               10813\n",
            "1         27703   Male   27                9237\n",
            "2         28712   Male   53               11242\n",
            "3         28020   Male   23               23327\n",
            "4         27182   Male   33                8536\n",
            "5         27318   Male   25               13984\n",
            "6         33788   Male   23               23788\n",
            "7         34106   Male   19               19980\n",
            "8         59799   Male   33               19271\n",
            "9         57982   Male   57                5068\n",
            "10        58774   Male   20               23602\n",
            "11        58627   Male   28               27338\n",
            "12        59007   Male   63                6683\n",
            "13        58215   Male   25                6862\n",
            "14        59372   Male   53                4912\n"
          ]
        }
      ]
    },
    {
      "cell_type": "code",
      "source": [
        ""
      ],
      "metadata": {
        "id": "8wd0ICKZkXDj"
      },
      "execution_count": null,
      "outputs": []
    },
    {
      "cell_type": "code",
      "source": [
        "# Visualisation and analysis of Trnsaction_ID.csv file  "
      ],
      "metadata": {
        "id": "JeSKqot1kXGU"
      },
      "execution_count": null,
      "outputs": []
    },
    {
      "cell_type": "code",
      "source": [
        ""
      ],
      "metadata": {
        "id": "RakQ5JsC4DrD"
      },
      "execution_count": null,
      "outputs": []
    },
    {
      "cell_type": "code",
      "source": [
        "transaction = pd.read_csv(\"Transaction_ID.csv\")\n",
        "print(transaction.head(15))\n",
        "print(transaction.shape)"
      ],
      "metadata": {
        "colab": {
          "base_uri": "https://localhost:8080/"
        },
        "id": "6GZatdq4kXI-",
        "outputId": "d34617e6-a18d-406c-8fa0-97079f383ef3"
      },
      "execution_count": null,
      "outputs": [
        {
          "output_type": "stream",
          "name": "stdout",
          "text": [
            "    Transaction ID  Customer ID Payment_Mode\n",
            "0         10000011        29290         Card\n",
            "1         10000012        27703         Card\n",
            "2         10000013        28712         Cash\n",
            "3         10000014        28020         Cash\n",
            "4         10000015        27182         Card\n",
            "5         10000016        27318         Cash\n",
            "6         10000017        33788         Card\n",
            "7         10000018        34106         Card\n",
            "8         10000019        59799         Cash\n",
            "9         10000020        57982         Cash\n",
            "10        10000021        58774         Cash\n",
            "11        10000022        58627         Card\n",
            "12        10000023        59007         Card\n",
            "13        10000024        58215         Cash\n",
            "14        10000025        59372         Cash\n",
            "(440098, 3)\n"
          ]
        }
      ]
    },
    {
      "cell_type": "code",
      "source": [
        "#transaction['Payment_Mode']\n",
        "cash = transaction.loc[transaction['Payment_Mode'] == \"Cash\"]\n",
        "print(cash.head())\n",
        "print(cash.shape)"
      ],
      "metadata": {
        "colab": {
          "base_uri": "https://localhost:8080/"
        },
        "id": "M4C-NCeukXMP",
        "outputId": "3d9d8fed-63e2-4df5-d63e-3551af76328c"
      },
      "execution_count": null,
      "outputs": [
        {
          "output_type": "stream",
          "name": "stdout",
          "text": [
            "   Transaction ID  Customer ID Payment_Mode\n",
            "2        10000013        28712         Cash\n",
            "3        10000014        28020         Cash\n",
            "5        10000016        27318         Cash\n",
            "8        10000019        59799         Cash\n",
            "9        10000020        57982         Cash\n",
            "(176107, 3)\n"
          ]
        }
      ]
    },
    {
      "cell_type": "code",
      "source": [
        "440098-176107"
      ],
      "metadata": {
        "colab": {
          "base_uri": "https://localhost:8080/"
        },
        "id": "jusVfo2MkXPT",
        "outputId": "1ea47444-c21c-4a4e-93c0-03c75181123f"
      },
      "execution_count": null,
      "outputs": [
        {
          "output_type": "execute_result",
          "data": {
            "text/plain": [
              "263991"
            ]
          },
          "metadata": {},
          "execution_count": 24
        }
      ]
    },
    {
      "cell_type": "code",
      "source": [
        ""
      ],
      "metadata": {
        "id": "fIJkpEsUkXRu"
      },
      "execution_count": null,
      "outputs": []
    },
    {
      "cell_type": "code",
      "source": [
        ""
      ],
      "metadata": {
        "id": "6hzVx0XhkXTy"
      },
      "execution_count": null,
      "outputs": []
    },
    {
      "cell_type": "code",
      "source": [
        ""
      ],
      "metadata": {
        "id": "aaPP-UWBkXWS"
      },
      "execution_count": null,
      "outputs": []
    },
    {
      "cell_type": "code",
      "source": [
        ""
      ],
      "metadata": {
        "id": "GqhCUsmrhGoN"
      },
      "execution_count": null,
      "outputs": []
    },
    {
      "cell_type": "code",
      "source": [
        ""
      ],
      "metadata": {
        "id": "AuCENGajhGxx"
      },
      "execution_count": null,
      "outputs": []
    },
    {
      "cell_type": "code",
      "source": [
        ""
      ],
      "metadata": {
        "id": "P_KX910FhHC3"
      },
      "execution_count": null,
      "outputs": []
    },
    {
      "cell_type": "code",
      "source": [
        ""
      ],
      "metadata": {
        "id": "Un9dqpHwhHGL"
      },
      "execution_count": null,
      "outputs": []
    }
  ]
}