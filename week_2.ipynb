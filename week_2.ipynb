{
 "cells": [
  {
   "cell_type": "markdown",
   "metadata": {},
   "source": [
    "#                               PROJET IA MASTER 1 BIG DATA ET MANAGEMENT"
   ]
  },
  {
   "cell_type": "markdown",
   "metadata": {},
   "source": [
    "Poroni and Elvis  est une entreprise privée aux États-Unis. En raison de la croissance remarquable de l'industrie des taxi au cours des dernières années et de plusieurs acteurs clés du marché, d'énormes investissements sont prévus et, conformément à sa stratégie Go-to-Market (plan d'action d'entreprise, visant à procéder avec succès au lancement d'un produit ou service. Sa démarche consiste à mobiliser les ressources internes et externes d'une entreprise pour augmenter le taux de réussite de l'opération), ils souhaitent comprendre le marché avant de prendre décision finale.\n",
    "Les investisseurs souhaitent utiliser vos informations afin d'identifier la bonne entreprise pour réaliser leur investissement.\n",
    "\n",
    "Base de données\n",
    "4 ensembles de données individuelles ont été fournies. La périodedes enrégistrement va du 31/01/2016 au 31/12/2018. Vous trouverez ci-dessous la liste des ensembles de données fournies pour l'analyse :\n",
    "\n",
    "Cab_Data.csv - ce fichier contient les détails de la transaction pour 2 compagnies de taxi\n",
    "\n",
    "Customer_ID.csv - il s'agit d'une table de mappage qui contient un identifiant unique reliant les détails démographiques du client\n",
    "\n",
    "Transaction_ID.csv - il s'agit d'une table de mappage qui contient le mappage de la transaction au client et le mode de paiement\n",
    "\n",
    "City.csv - ce fichier contient la liste des villes américaines, leur population et le nombre d'utilisateurs de taxi"
   ]
  },
  {
   "cell_type": "code",
   "execution_count": null,
   "metadata": {},
   "outputs": [],
   "source": []
  },
  {
   "cell_type": "markdown",
   "metadata": {},
   "source": [
    "Tout d'abord nous allons importer les librairies nécessaires"
   ]
  },
  {
   "cell_type": "code",
   "execution_count": 1,
   "metadata": {
    "colab": {
     "base_uri": "https://localhost:8080/"
    },
    "id": "FN6rmdC35Tw3",
    "outputId": "d9d7fdbf-57d4-4889-86f6-29d5a5cb18bf"
   },
   "outputs": [],
   "source": [
    "#from google.colab import drive\n",
    "#drive.mount(\"/content/drive\")"
   ]
  },
  {
   "cell_type": "code",
   "execution_count": 6,
   "metadata": {
    "id": "FFBr-U-KVw2U"
   },
   "outputs": [],
   "source": [
    "import os\n",
    "import pandas as pd\n",
    "import numpy as np\n",
    "import matplotlib.pyplot as plt\n",
    "import seaborn as sns\n",
    "#os.chdir(\"/content/drive/MyDrive/DataSets/DataSets\")\n",
    "os.chdir(\"./DataSets_Week_2-main\")"
   ]
  },
  {
   "cell_type": "code",
   "execution_count": null,
   "metadata": {
    "id": "GcdpyTuZ4JsE"
   },
   "outputs": [],
   "source": []
  },
  {
   "cell_type": "code",
   "execution_count": 8,
   "metadata": {
    "colab": {
     "base_uri": "https://localhost:8080/"
    },
    "id": "2Z5GcYhehGPS",
    "outputId": "87cde8af-86f1-40d9-8ca4-3de0bba10b9c"
   },
   "outputs": [
    {
     "name": "stdout",
     "output_type": "stream",
     "text": [
      "<class 'pandas.core.frame.DataFrame'>\n",
      "RangeIndex: 359392 entries, 0 to 359391\n",
      "Data columns (total 7 columns):\n",
      " #   Column          Non-Null Count   Dtype  \n",
      "---  ------          --------------   -----  \n",
      " 0   Transaction ID  359392 non-null  int64  \n",
      " 1   Date of Travel  359392 non-null  object \n",
      " 2   Company         359392 non-null  object \n",
      " 3   City            359392 non-null  object \n",
      " 4   KM Travelled    359392 non-null  float64\n",
      " 5   Price Charged   359392 non-null  float64\n",
      " 6   Cost of Trip    359392 non-null  float64\n",
      "dtypes: float64(3), int64(1), object(3)\n",
      "memory usage: 19.2+ MB\n"
     ]
    },
    {
     "data": {
      "text/plain": [
       "(359392, 7)"
      ]
     },
     "execution_count": 8,
     "metadata": {},
     "output_type": "execute_result"
    }
   ],
   "source": [
    "#Visualisation et analyse du fichier Cab_Data.\n",
    "cab = pd.read_csv(\"Cab_data.csv\")\n",
    "cab.info()\n",
    "cab.shape"
   ]
  },
  {
   "cell_type": "code",
   "execution_count": null,
   "metadata": {
    "id": "FOpTZr5o4Ilt"
   },
   "outputs": [],
   "source": []
  },
  {
   "cell_type": "code",
   "execution_count": 9,
   "metadata": {
    "colab": {
     "base_uri": "https://localhost:8080/"
    },
    "id": "13ONsRvY-sKa",
    "outputId": "6c014feb-67a8-4148-b0d8-6dcd3143d786"
   },
   "outputs": [
    {
     "data": {
      "text/plain": [
       "Transaction ID    0\n",
       "Date of Travel    0\n",
       "Company           0\n",
       "City              0\n",
       "KM Travelled      0\n",
       "Price Charged     0\n",
       "Cost of Trip      0\n",
       "dtype: int64"
      ]
     },
     "execution_count": 9,
     "metadata": {},
     "output_type": "execute_result"
    }
   ],
   "source": [
    "# Visualisons le nombre de données manquantes pour chaque variable\n",
    "cab.isna().sum()\n"
   ]
  },
  {
   "cell_type": "code",
   "execution_count": 10,
   "metadata": {
    "id": "aGpmELYfhGbo"
   },
   "outputs": [
    {
     "name": "stdout",
     "output_type": "stream",
     "text": [
      "   Transaction ID Date of Travel   Company        City  KM Travelled  \\\n",
      "0        10000011     08-01-2016  Pink Cab  ATLANTA GA         30.45   \n",
      "1        10000012     06-01-2016  Pink Cab  ATLANTA GA         28.62   \n",
      "2        10000013     02-01-2016  Pink Cab  ATLANTA GA          9.04   \n",
      "3        10000014     07-01-2016  Pink Cab  ATLANTA GA         33.17   \n",
      "4        10000015     03-01-2016  Pink Cab  ATLANTA GA          8.73   \n",
      "5        10000016     07-01-2016  Pink Cab  ATLANTA GA          6.06   \n",
      "6        10000017     03-01-2016  Pink Cab   AUSTIN TX         44.00   \n",
      "7        10000018     07-01-2016  Pink Cab   AUSTIN TX         35.65   \n",
      "8        10000019     12-01-2016  Pink Cab   BOSTON MA         14.40   \n",
      "9        10000020     06-01-2016  Pink Cab   BOSTON MA         10.89   \n",
      "\n",
      "   Price Charged  Cost of Trip  \n",
      "0         370.95       313.635  \n",
      "1         358.52       334.854  \n",
      "2         125.20        97.632  \n",
      "3         377.40       351.602  \n",
      "4         114.62        97.776  \n",
      "5          72.43        63.024  \n",
      "6         576.15       475.200  \n",
      "7         466.10       377.890  \n",
      "8         191.61       146.880  \n",
      "9         156.98       113.256  \n"
     ]
    }
   ],
   "source": [
    "#Affichons les premières lignes du Dataframe \n",
    "print(cab.head(10))"
   ]
  },
  {
   "cell_type": "code",
   "execution_count": 4,
   "metadata": {
    "colab": {
     "base_uri": "https://localhost:8080/"
    },
    "id": "0rLz3NeV_xZ_",
    "outputId": "3baf90f0-a1bd-4154-b1c1-a087754aeaae"
   },
   "outputs": [
    {
     "name": "stdout",
     "output_type": "stream",
     "text": [
      "int64\n"
     ]
    }
   ],
   "source": [
    "#On se sent effrayé par la manière dont la date a été enrégistrée. Du coup on va visualiser cette colonne\n",
    "print(cab[\"Date of Travel\"].dtypes)\n",
    "# On peut remarquer que le format n'est pas celui indiqué pour indiquer la date.\n",
    "# Nous allons donc le convertir"
   ]
  },
  {
   "cell_type": "code",
   "execution_count": null,
   "metadata": {
    "id": "aekxvwUC8m-f"
   },
   "outputs": [],
   "source": []
  },
  {
   "cell_type": "code",
   "execution_count": 7,
   "metadata": {
    "id": "S3XmqPZe8n3e"
   },
   "outputs": [],
   "source": [
    "# Importons premièrement le package nécessaire pour effectuer cette conversion"
   ]
  },
  {
   "cell_type": "code",
   "execution_count": 5,
   "metadata": {
    "id": "fIFPbKV87JSp"
   },
   "outputs": [],
   "source": [
    "from datetime import datetime, timedelta"
   ]
  },
  {
   "cell_type": "code",
   "execution_count": 6,
   "metadata": {
    "id": "YyB5hHyqJrEV"
   },
   "outputs": [],
   "source": [
    "def to_date_format(n):\n",
    "    date_str =(datetime(1899,12,30) + timedelta(n-1)).strftime(\"%d-%m-%Y\")\n",
    "    date_date =  datetime.strptime(date_str, \"%d-%m-%Y\")\n",
    "    return date_date\n",
    "\n"
   ]
  },
  {
   "cell_type": "code",
   "execution_count": 7,
   "metadata": {
    "id": "bwifLK2a7_xX"
   },
   "outputs": [],
   "source": [
    "cab['Date of Travel']=cab['Date of Travel'].apply(lambda x:to_date_format(x))"
   ]
  },
  {
   "cell_type": "code",
   "execution_count": 8,
   "metadata": {
    "colab": {
     "base_uri": "https://localhost:8080/",
     "height": 206
    },
    "id": "Lc34286E7zeW",
    "outputId": "efd1461d-b9d2-45b5-f1e6-38fca094bf0e"
   },
   "outputs": [
    {
     "data": {
      "text/html": [
       "<div>\n",
       "<style scoped>\n",
       "    .dataframe tbody tr th:only-of-type {\n",
       "        vertical-align: middle;\n",
       "    }\n",
       "\n",
       "    .dataframe tbody tr th {\n",
       "        vertical-align: top;\n",
       "    }\n",
       "\n",
       "    .dataframe thead th {\n",
       "        text-align: right;\n",
       "    }\n",
       "</style>\n",
       "<table border=\"1\" class=\"dataframe\">\n",
       "  <thead>\n",
       "    <tr style=\"text-align: right;\">\n",
       "      <th></th>\n",
       "      <th>Transaction ID</th>\n",
       "      <th>Date of Travel</th>\n",
       "      <th>Company</th>\n",
       "      <th>City</th>\n",
       "      <th>KM Travelled</th>\n",
       "      <th>Price Charged</th>\n",
       "      <th>Cost of Trip</th>\n",
       "    </tr>\n",
       "  </thead>\n",
       "  <tbody>\n",
       "    <tr>\n",
       "      <th>0</th>\n",
       "      <td>10000011</td>\n",
       "      <td>2016-01-07</td>\n",
       "      <td>Pink Cab</td>\n",
       "      <td>ATLANTA GA</td>\n",
       "      <td>30.45</td>\n",
       "      <td>370.95</td>\n",
       "      <td>313.635</td>\n",
       "    </tr>\n",
       "    <tr>\n",
       "      <th>1</th>\n",
       "      <td>10000012</td>\n",
       "      <td>2016-01-05</td>\n",
       "      <td>Pink Cab</td>\n",
       "      <td>ATLANTA GA</td>\n",
       "      <td>28.62</td>\n",
       "      <td>358.52</td>\n",
       "      <td>334.854</td>\n",
       "    </tr>\n",
       "    <tr>\n",
       "      <th>2</th>\n",
       "      <td>10000013</td>\n",
       "      <td>2016-01-01</td>\n",
       "      <td>Pink Cab</td>\n",
       "      <td>ATLANTA GA</td>\n",
       "      <td>9.04</td>\n",
       "      <td>125.20</td>\n",
       "      <td>97.632</td>\n",
       "    </tr>\n",
       "    <tr>\n",
       "      <th>3</th>\n",
       "      <td>10000014</td>\n",
       "      <td>2016-01-06</td>\n",
       "      <td>Pink Cab</td>\n",
       "      <td>ATLANTA GA</td>\n",
       "      <td>33.17</td>\n",
       "      <td>377.40</td>\n",
       "      <td>351.602</td>\n",
       "    </tr>\n",
       "    <tr>\n",
       "      <th>4</th>\n",
       "      <td>10000015</td>\n",
       "      <td>2016-01-02</td>\n",
       "      <td>Pink Cab</td>\n",
       "      <td>ATLANTA GA</td>\n",
       "      <td>8.73</td>\n",
       "      <td>114.62</td>\n",
       "      <td>97.776</td>\n",
       "    </tr>\n",
       "  </tbody>\n",
       "</table>\n",
       "</div>"
      ],
      "text/plain": [
       "   Transaction ID Date of Travel   Company        City  KM Travelled  \\\n",
       "0        10000011     2016-01-07  Pink Cab  ATLANTA GA         30.45   \n",
       "1        10000012     2016-01-05  Pink Cab  ATLANTA GA         28.62   \n",
       "2        10000013     2016-01-01  Pink Cab  ATLANTA GA          9.04   \n",
       "3        10000014     2016-01-06  Pink Cab  ATLANTA GA         33.17   \n",
       "4        10000015     2016-01-02  Pink Cab  ATLANTA GA          8.73   \n",
       "\n",
       "   Price Charged  Cost of Trip  \n",
       "0         370.95       313.635  \n",
       "1         358.52       334.854  \n",
       "2         125.20        97.632  \n",
       "3         377.40       351.602  \n",
       "4         114.62        97.776  "
      ]
     },
     "execution_count": 8,
     "metadata": {},
     "output_type": "execute_result"
    }
   ],
   "source": [
    "cab.head()"
   ]
  },
  {
   "cell_type": "code",
   "execution_count": 9,
   "metadata": {
    "colab": {
     "base_uri": "https://localhost:8080/"
    },
    "id": "hFMSlFnzGWvz",
    "outputId": "5a76adcf-cdde-4bb0-e282-0b9a92c2eaf1"
   },
   "outputs": [
    {
     "name": "stdout",
     "output_type": "stream",
     "text": [
      "datetime64[ns]\n"
     ]
    }
   ],
   "source": [
    "# revisualisons le type de la variable \"Date of Travel\"\n",
    "print(cab['Date of Travel'].dtypes)"
   ]
  },
  {
   "cell_type": "code",
   "execution_count": null,
   "metadata": {
    "id": "OI-JMNWo86RF"
   },
   "outputs": [],
   "source": []
  },
  {
   "cell_type": "code",
   "execution_count": 13,
   "metadata": {
    "id": "g0NakCIn9ZN4"
   },
   "outputs": [],
   "source": [
    "# On peut classifier nos données en fonction de la date par ordre croissant"
   ]
  },
  {
   "cell_type": "code",
   "execution_count": 11,
   "metadata": {
    "colab": {
     "base_uri": "https://localhost:8080/",
     "height": 380
    },
    "id": "tWnZU36E9R0p",
    "outputId": "dd503fa9-fee4-448c-c05c-9550e3611b69"
   },
   "outputs": [
    {
     "name": "stdout",
     "output_type": "stream",
     "text": [
      "(359392, 7)\n"
     ]
    },
    {
     "data": {
      "text/html": [
       "<div>\n",
       "<style scoped>\n",
       "    .dataframe tbody tr th:only-of-type {\n",
       "        vertical-align: middle;\n",
       "    }\n",
       "\n",
       "    .dataframe tbody tr th {\n",
       "        vertical-align: top;\n",
       "    }\n",
       "\n",
       "    .dataframe thead th {\n",
       "        text-align: right;\n",
       "    }\n",
       "</style>\n",
       "<table border=\"1\" class=\"dataframe\">\n",
       "  <thead>\n",
       "    <tr style=\"text-align: right;\">\n",
       "      <th></th>\n",
       "      <th>Transaction ID</th>\n",
       "      <th>Date of Travel</th>\n",
       "      <th>Company</th>\n",
       "      <th>City</th>\n",
       "      <th>KM Travelled</th>\n",
       "      <th>Price Charged</th>\n",
       "      <th>Cost of Trip</th>\n",
       "    </tr>\n",
       "  </thead>\n",
       "  <tbody>\n",
       "    <tr>\n",
       "      <th>0</th>\n",
       "      <td>10136329</td>\n",
       "      <td>01-01-2017</td>\n",
       "      <td>Yellow Cab</td>\n",
       "      <td>WASHINGTON DC</td>\n",
       "      <td>23.28</td>\n",
       "      <td>522.73</td>\n",
       "      <td>284.9472</td>\n",
       "    </tr>\n",
       "    <tr>\n",
       "      <th>1</th>\n",
       "      <td>10132568</td>\n",
       "      <td>01-01-2017</td>\n",
       "      <td>Yellow Cab</td>\n",
       "      <td>BOSTON MA</td>\n",
       "      <td>11.22</td>\n",
       "      <td>215.50</td>\n",
       "      <td>153.4896</td>\n",
       "    </tr>\n",
       "    <tr>\n",
       "      <th>2</th>\n",
       "      <td>10132560</td>\n",
       "      <td>01-01-2017</td>\n",
       "      <td>Yellow Cab</td>\n",
       "      <td>BOSTON MA</td>\n",
       "      <td>29.76</td>\n",
       "      <td>511.36</td>\n",
       "      <td>407.1168</td>\n",
       "    </tr>\n",
       "    <tr>\n",
       "      <th>3</th>\n",
       "      <td>10132555</td>\n",
       "      <td>01-01-2017</td>\n",
       "      <td>Yellow Cab</td>\n",
       "      <td>BOSTON MA</td>\n",
       "      <td>32.19</td>\n",
       "      <td>592.27</td>\n",
       "      <td>459.6732</td>\n",
       "    </tr>\n",
       "    <tr>\n",
       "      <th>4</th>\n",
       "      <td>10132554</td>\n",
       "      <td>01-01-2017</td>\n",
       "      <td>Yellow Cab</td>\n",
       "      <td>BOSTON MA</td>\n",
       "      <td>10.26</td>\n",
       "      <td>205.68</td>\n",
       "      <td>144.0504</td>\n",
       "    </tr>\n",
       "    <tr>\n",
       "      <th>5</th>\n",
       "      <td>10132550</td>\n",
       "      <td>01-01-2017</td>\n",
       "      <td>Yellow Cab</td>\n",
       "      <td>BOSTON MA</td>\n",
       "      <td>28.34</td>\n",
       "      <td>510.90</td>\n",
       "      <td>350.2824</td>\n",
       "    </tr>\n",
       "    <tr>\n",
       "      <th>6</th>\n",
       "      <td>10132545</td>\n",
       "      <td>01-01-2017</td>\n",
       "      <td>Yellow Cab</td>\n",
       "      <td>BOSTON MA</td>\n",
       "      <td>2.91</td>\n",
       "      <td>53.34</td>\n",
       "      <td>40.1580</td>\n",
       "    </tr>\n",
       "    <tr>\n",
       "      <th>7</th>\n",
       "      <td>10132544</td>\n",
       "      <td>01-01-2017</td>\n",
       "      <td>Yellow Cab</td>\n",
       "      <td>BOSTON MA</td>\n",
       "      <td>10.53</td>\n",
       "      <td>201.04</td>\n",
       "      <td>135.2052</td>\n",
       "    </tr>\n",
       "    <tr>\n",
       "      <th>8</th>\n",
       "      <td>10132537</td>\n",
       "      <td>01-01-2017</td>\n",
       "      <td>Yellow Cab</td>\n",
       "      <td>BOSTON MA</td>\n",
       "      <td>4.08</td>\n",
       "      <td>84.91</td>\n",
       "      <td>58.7520</td>\n",
       "    </tr>\n",
       "    <tr>\n",
       "      <th>9</th>\n",
       "      <td>10132532</td>\n",
       "      <td>01-01-2017</td>\n",
       "      <td>Yellow Cab</td>\n",
       "      <td>BOSTON MA</td>\n",
       "      <td>36.40</td>\n",
       "      <td>636.52</td>\n",
       "      <td>436.8000</td>\n",
       "    </tr>\n",
       "  </tbody>\n",
       "</table>\n",
       "</div>"
      ],
      "text/plain": [
       "   Transaction ID Date of Travel     Company           City  KM Travelled  \\\n",
       "0        10136329     01-01-2017  Yellow Cab  WASHINGTON DC         23.28   \n",
       "1        10132568     01-01-2017  Yellow Cab      BOSTON MA         11.22   \n",
       "2        10132560     01-01-2017  Yellow Cab      BOSTON MA         29.76   \n",
       "3        10132555     01-01-2017  Yellow Cab      BOSTON MA         32.19   \n",
       "4        10132554     01-01-2017  Yellow Cab      BOSTON MA         10.26   \n",
       "5        10132550     01-01-2017  Yellow Cab      BOSTON MA         28.34   \n",
       "6        10132545     01-01-2017  Yellow Cab      BOSTON MA          2.91   \n",
       "7        10132544     01-01-2017  Yellow Cab      BOSTON MA         10.53   \n",
       "8        10132537     01-01-2017  Yellow Cab      BOSTON MA          4.08   \n",
       "9        10132532     01-01-2017  Yellow Cab      BOSTON MA         36.40   \n",
       "\n",
       "   Price Charged  Cost of Trip  \n",
       "0         522.73      284.9472  \n",
       "1         215.50      153.4896  \n",
       "2         511.36      407.1168  \n",
       "3         592.27      459.6732  \n",
       "4         205.68      144.0504  \n",
       "5         510.90      350.2824  \n",
       "6          53.34       40.1580  \n",
       "7         201.04      135.2052  \n",
       "8          84.91       58.7520  \n",
       "9         636.52      436.8000  "
      ]
     },
     "execution_count": 11,
     "metadata": {},
     "output_type": "execute_result"
    }
   ],
   "source": [
    "cab = cab.sort_values(by = ['Date of Travel'])\n",
    "\n",
    "cab = cab.reset_index(drop = True )\n",
    "\n",
    "print(cab.shape)\n",
    "cab.head(10)"
   ]
  },
  {
   "cell_type": "code",
   "execution_count": 15,
   "metadata": {
    "colab": {
     "base_uri": "https://localhost:8080/",
     "height": 512
    },
    "id": "5i2v9yeChGe1",
    "outputId": "7370f62a-d86b-4c5f-e09d-77ace0cc4fa6"
   },
   "outputs": [
    {
     "name": "stderr",
     "output_type": "stream",
     "text": [
      "C:\\Users\\Admin\\AppData\\Local\\Temp/ipykernel_13724/470114121.py:2: FutureWarning: Treating datetime data as categorical rather than numeric in `.describe` is deprecated and will be removed in a future version of pandas. Specify `datetime_is_numeric=True` to silence this warning and adopt the future behavior now.\n",
      "  round(cab.describe(include = 'all'))\n"
     ]
    },
    {
     "data": {
      "text/html": [
       "<div>\n",
       "<style scoped>\n",
       "    .dataframe tbody tr th:only-of-type {\n",
       "        vertical-align: middle;\n",
       "    }\n",
       "\n",
       "    .dataframe tbody tr th {\n",
       "        vertical-align: top;\n",
       "    }\n",
       "\n",
       "    .dataframe thead th {\n",
       "        text-align: right;\n",
       "    }\n",
       "</style>\n",
       "<table border=\"1\" class=\"dataframe\">\n",
       "  <thead>\n",
       "    <tr style=\"text-align: right;\">\n",
       "      <th></th>\n",
       "      <th>Transaction ID</th>\n",
       "      <th>Date of Travel</th>\n",
       "      <th>Company</th>\n",
       "      <th>City</th>\n",
       "      <th>KM Travelled</th>\n",
       "      <th>Price Charged</th>\n",
       "      <th>Cost of Trip</th>\n",
       "    </tr>\n",
       "  </thead>\n",
       "  <tbody>\n",
       "    <tr>\n",
       "      <th>count</th>\n",
       "      <td>359392.0</td>\n",
       "      <td>359392</td>\n",
       "      <td>359392</td>\n",
       "      <td>359392</td>\n",
       "      <td>359392.0</td>\n",
       "      <td>359392.0</td>\n",
       "      <td>359392.0</td>\n",
       "    </tr>\n",
       "    <tr>\n",
       "      <th>unique</th>\n",
       "      <td>NaN</td>\n",
       "      <td>1095</td>\n",
       "      <td>2</td>\n",
       "      <td>19</td>\n",
       "      <td>NaN</td>\n",
       "      <td>NaN</td>\n",
       "      <td>NaN</td>\n",
       "    </tr>\n",
       "    <tr>\n",
       "      <th>top</th>\n",
       "      <td>NaN</td>\n",
       "      <td>2018-01-04 00:00:00</td>\n",
       "      <td>Yellow Cab</td>\n",
       "      <td>NEW YORK NY</td>\n",
       "      <td>NaN</td>\n",
       "      <td>NaN</td>\n",
       "      <td>NaN</td>\n",
       "    </tr>\n",
       "    <tr>\n",
       "      <th>freq</th>\n",
       "      <td>NaN</td>\n",
       "      <td>2022</td>\n",
       "      <td>274681</td>\n",
       "      <td>99885</td>\n",
       "      <td>NaN</td>\n",
       "      <td>NaN</td>\n",
       "      <td>NaN</td>\n",
       "    </tr>\n",
       "    <tr>\n",
       "      <th>first</th>\n",
       "      <td>NaN</td>\n",
       "      <td>2016-01-01 00:00:00</td>\n",
       "      <td>NaN</td>\n",
       "      <td>NaN</td>\n",
       "      <td>NaN</td>\n",
       "      <td>NaN</td>\n",
       "      <td>NaN</td>\n",
       "    </tr>\n",
       "    <tr>\n",
       "      <th>last</th>\n",
       "      <td>NaN</td>\n",
       "      <td>2018-12-30 00:00:00</td>\n",
       "      <td>NaN</td>\n",
       "      <td>NaN</td>\n",
       "      <td>NaN</td>\n",
       "      <td>NaN</td>\n",
       "      <td>NaN</td>\n",
       "    </tr>\n",
       "    <tr>\n",
       "      <th>mean</th>\n",
       "      <td>10220761.0</td>\n",
       "      <td>NaN</td>\n",
       "      <td>NaN</td>\n",
       "      <td>NaN</td>\n",
       "      <td>23.0</td>\n",
       "      <td>423.0</td>\n",
       "      <td>286.0</td>\n",
       "    </tr>\n",
       "    <tr>\n",
       "      <th>std</th>\n",
       "      <td>126806.0</td>\n",
       "      <td>NaN</td>\n",
       "      <td>NaN</td>\n",
       "      <td>NaN</td>\n",
       "      <td>12.0</td>\n",
       "      <td>274.0</td>\n",
       "      <td>158.0</td>\n",
       "    </tr>\n",
       "    <tr>\n",
       "      <th>min</th>\n",
       "      <td>10000011.0</td>\n",
       "      <td>NaN</td>\n",
       "      <td>NaN</td>\n",
       "      <td>NaN</td>\n",
       "      <td>2.0</td>\n",
       "      <td>16.0</td>\n",
       "      <td>19.0</td>\n",
       "    </tr>\n",
       "    <tr>\n",
       "      <th>25%</th>\n",
       "      <td>10110810.0</td>\n",
       "      <td>NaN</td>\n",
       "      <td>NaN</td>\n",
       "      <td>NaN</td>\n",
       "      <td>12.0</td>\n",
       "      <td>206.0</td>\n",
       "      <td>151.0</td>\n",
       "    </tr>\n",
       "    <tr>\n",
       "      <th>50%</th>\n",
       "      <td>10221036.0</td>\n",
       "      <td>NaN</td>\n",
       "      <td>NaN</td>\n",
       "      <td>NaN</td>\n",
       "      <td>22.0</td>\n",
       "      <td>386.0</td>\n",
       "      <td>282.0</td>\n",
       "    </tr>\n",
       "    <tr>\n",
       "      <th>75%</th>\n",
       "      <td>10330937.0</td>\n",
       "      <td>NaN</td>\n",
       "      <td>NaN</td>\n",
       "      <td>NaN</td>\n",
       "      <td>33.0</td>\n",
       "      <td>584.0</td>\n",
       "      <td>414.0</td>\n",
       "    </tr>\n",
       "    <tr>\n",
       "      <th>max</th>\n",
       "      <td>10440107.0</td>\n",
       "      <td>NaN</td>\n",
       "      <td>NaN</td>\n",
       "      <td>NaN</td>\n",
       "      <td>48.0</td>\n",
       "      <td>2048.0</td>\n",
       "      <td>691.0</td>\n",
       "    </tr>\n",
       "  </tbody>\n",
       "</table>\n",
       "</div>"
      ],
      "text/plain": [
       "        Transaction ID       Date of Travel     Company         City  \\\n",
       "count         359392.0               359392      359392       359392   \n",
       "unique             NaN                 1095           2           19   \n",
       "top                NaN  2018-01-04 00:00:00  Yellow Cab  NEW YORK NY   \n",
       "freq               NaN                 2022      274681        99885   \n",
       "first              NaN  2016-01-01 00:00:00         NaN          NaN   \n",
       "last               NaN  2018-12-30 00:00:00         NaN          NaN   \n",
       "mean        10220761.0                  NaN         NaN          NaN   \n",
       "std           126806.0                  NaN         NaN          NaN   \n",
       "min         10000011.0                  NaN         NaN          NaN   \n",
       "25%         10110810.0                  NaN         NaN          NaN   \n",
       "50%         10221036.0                  NaN         NaN          NaN   \n",
       "75%         10330937.0                  NaN         NaN          NaN   \n",
       "max         10440107.0                  NaN         NaN          NaN   \n",
       "\n",
       "        KM Travelled  Price Charged  Cost of Trip  \n",
       "count       359392.0       359392.0      359392.0  \n",
       "unique           NaN            NaN           NaN  \n",
       "top              NaN            NaN           NaN  \n",
       "freq             NaN            NaN           NaN  \n",
       "first            NaN            NaN           NaN  \n",
       "last             NaN            NaN           NaN  \n",
       "mean            23.0          423.0         286.0  \n",
       "std             12.0          274.0         158.0  \n",
       "min              2.0           16.0          19.0  \n",
       "25%             12.0          206.0         151.0  \n",
       "50%             22.0          386.0         282.0  \n",
       "75%             33.0          584.0         414.0  \n",
       "max             48.0         2048.0         691.0  "
      ]
     },
     "execution_count": 15,
     "metadata": {},
     "output_type": "execute_result"
    }
   ],
   "source": [
    "# On peut faire une visions statistique élémentaire globale sur notre jeu de données avec la fonction roun pour plus joli\n",
    "round(cab.describe(include = 'all'))"
   ]
  },
  {
   "cell_type": "code",
   "execution_count": 12,
   "metadata": {
    "id": "_dqGWrRfjjvb"
   },
   "outputs": [
    {
     "name": "stdout",
     "output_type": "stream",
     "text": [
      "\n",
      "Feature's datatypes\n",
      "\n",
      "Transaction ID      int64\n",
      "Date of Travel     object\n",
      "Company            object\n",
      "City               object\n",
      "KM Travelled      float64\n",
      "Price Charged     float64\n",
      "Cost of Trip      float64\n",
      "dtype: object\n"
     ]
    }
   ],
   "source": [
    "print(\"\\nFeature's datatypes\\n\\n{}\".format(cab.dtypes))"
   ]
  },
  {
   "cell_type": "code",
   "execution_count": 13,
   "metadata": {},
   "outputs": [
    {
     "name": "stdout",
     "output_type": "stream",
     "text": [
      "Cab dataset has 359392 entries , 7 features\n"
     ]
    }
   ],
   "source": [
    "\n",
    "print('Cab dataset has {} entries , {} features'.format(cab.shape[0] ,cab.shape[1]))"
   ]
  },
  {
   "cell_type": "markdown",
   "metadata": {
    "id": "tmT4mb79jj2b"
   },
   "source": [
    "Visualisation du fichier City.csv"
   ]
  },
  {
   "cell_type": "code",
   "execution_count": 14,
   "metadata": {
    "colab": {
     "base_uri": "https://localhost:8080/"
    },
    "id": "Wx4Uc87AhGiD",
    "outputId": "a1a0c04f-6b5c-4331-cd3c-bcec3963c7db"
   },
   "outputs": [
    {
     "name": "stdout",
     "output_type": "stream",
     "text": [
      "<class 'pandas.core.frame.DataFrame'>\n",
      "RangeIndex: 20 entries, 0 to 19\n",
      "Data columns (total 3 columns):\n",
      " #   Column      Non-Null Count  Dtype \n",
      "---  ------      --------------  ----- \n",
      " 0   City        20 non-null     object\n",
      " 1   Population  20 non-null     object\n",
      " 2   Users       20 non-null     object\n",
      "dtypes: object(3)\n",
      "memory usage: 608.0+ bytes\n",
      "None\n",
      "(20, 3)\n"
     ]
    }
   ],
   "source": [
    "city = pd.read_csv(\"City.csv\")\n",
    "print(city.info())\n",
    "print(city.shape)"
   ]
  },
  {
   "cell_type": "code",
   "execution_count": 15,
   "metadata": {},
   "outputs": [
    {
     "data": {
      "text/html": [
       "<div>\n",
       "<style scoped>\n",
       "    .dataframe tbody tr th:only-of-type {\n",
       "        vertical-align: middle;\n",
       "    }\n",
       "\n",
       "    .dataframe tbody tr th {\n",
       "        vertical-align: top;\n",
       "    }\n",
       "\n",
       "    .dataframe thead th {\n",
       "        text-align: right;\n",
       "    }\n",
       "</style>\n",
       "<table border=\"1\" class=\"dataframe\">\n",
       "  <thead>\n",
       "    <tr style=\"text-align: right;\">\n",
       "      <th></th>\n",
       "      <th>City</th>\n",
       "      <th>Population</th>\n",
       "      <th>Users</th>\n",
       "    </tr>\n",
       "  </thead>\n",
       "  <tbody>\n",
       "    <tr>\n",
       "      <th>0</th>\n",
       "      <td>NEW YORK NY</td>\n",
       "      <td>8,405,837</td>\n",
       "      <td>302,149</td>\n",
       "    </tr>\n",
       "    <tr>\n",
       "      <th>1</th>\n",
       "      <td>CHICAGO IL</td>\n",
       "      <td>1,955,130</td>\n",
       "      <td>164,468</td>\n",
       "    </tr>\n",
       "    <tr>\n",
       "      <th>2</th>\n",
       "      <td>LOS ANGELES CA</td>\n",
       "      <td>1,595,037</td>\n",
       "      <td>144,132</td>\n",
       "    </tr>\n",
       "    <tr>\n",
       "      <th>3</th>\n",
       "      <td>MIAMI FL</td>\n",
       "      <td>1,339,155</td>\n",
       "      <td>17,675</td>\n",
       "    </tr>\n",
       "    <tr>\n",
       "      <th>4</th>\n",
       "      <td>SILICON VALLEY</td>\n",
       "      <td>1,177,609</td>\n",
       "      <td>27,247</td>\n",
       "    </tr>\n",
       "    <tr>\n",
       "      <th>5</th>\n",
       "      <td>ORANGE COUNTY</td>\n",
       "      <td>1,030,185</td>\n",
       "      <td>12,994</td>\n",
       "    </tr>\n",
       "    <tr>\n",
       "      <th>6</th>\n",
       "      <td>SAN DIEGO CA</td>\n",
       "      <td>959,307</td>\n",
       "      <td>69,995</td>\n",
       "    </tr>\n",
       "    <tr>\n",
       "      <th>7</th>\n",
       "      <td>PHOENIX AZ</td>\n",
       "      <td>943,999</td>\n",
       "      <td>6,133</td>\n",
       "    </tr>\n",
       "    <tr>\n",
       "      <th>8</th>\n",
       "      <td>DALLAS TX</td>\n",
       "      <td>942,908</td>\n",
       "      <td>22,157</td>\n",
       "    </tr>\n",
       "    <tr>\n",
       "      <th>9</th>\n",
       "      <td>ATLANTA GA</td>\n",
       "      <td>814,885</td>\n",
       "      <td>24,701</td>\n",
       "    </tr>\n",
       "  </tbody>\n",
       "</table>\n",
       "</div>"
      ],
      "text/plain": [
       "             City   Population      Users\n",
       "0     NEW YORK NY   8,405,837    302,149 \n",
       "1      CHICAGO IL   1,955,130    164,468 \n",
       "2  LOS ANGELES CA   1,595,037    144,132 \n",
       "3        MIAMI FL   1,339,155     17,675 \n",
       "4  SILICON VALLEY   1,177,609     27,247 \n",
       "5   ORANGE COUNTY   1,030,185     12,994 \n",
       "6    SAN DIEGO CA     959,307     69,995 \n",
       "7      PHOENIX AZ     943,999      6,133 \n",
       "8       DALLAS TX     942,908     22,157 \n",
       "9      ATLANTA GA     814,885     24,701 "
      ]
     },
     "execution_count": 15,
     "metadata": {},
     "output_type": "execute_result"
    }
   ],
   "source": [
    "city.head(10)"
   ]
  },
  {
   "cell_type": "code",
   "execution_count": null,
   "metadata": {},
   "outputs": [],
   "source": []
  },
  {
   "cell_type": "code",
   "execution_count": 21,
   "metadata": {
    "id": "XTobrPhJkW2K"
   },
   "outputs": [],
   "source": [
    "# On remarque la présence des virgules entre les valeurs des variables Population et Users.\n",
    "# Pour cela nous allons les transormer en float afin de ne pas avoir d'ennuie lors de l'élaboration des calculs statistiques"
   ]
  },
  {
   "cell_type": "code",
   "execution_count": 16,
   "metadata": {
    "id": "BT2MWsrsA9KQ"
   },
   "outputs": [],
   "source": [
    "city['Population'] = [x.replace(',','') for x in city['Population']]\n",
    "city['Users'] = [x.replace(',','') for x in city['Users']]\n",
    "city['Population'] = city['Population'].astype(float)\n",
    "city['Users'] = city['Users'].astype(float)"
   ]
  },
  {
   "cell_type": "code",
   "execution_count": null,
   "metadata": {},
   "outputs": [],
   "source": []
  },
  {
   "cell_type": "code",
   "execution_count": 17,
   "metadata": {
    "id": "QV93yP-uBcRh",
    "scrolled": true
   },
   "outputs": [
    {
     "data": {
      "text/html": [
       "<div>\n",
       "<style scoped>\n",
       "    .dataframe tbody tr th:only-of-type {\n",
       "        vertical-align: middle;\n",
       "    }\n",
       "\n",
       "    .dataframe tbody tr th {\n",
       "        vertical-align: top;\n",
       "    }\n",
       "\n",
       "    .dataframe thead th {\n",
       "        text-align: right;\n",
       "    }\n",
       "</style>\n",
       "<table border=\"1\" class=\"dataframe\">\n",
       "  <thead>\n",
       "    <tr style=\"text-align: right;\">\n",
       "      <th></th>\n",
       "      <th>City</th>\n",
       "      <th>Population</th>\n",
       "      <th>Users</th>\n",
       "    </tr>\n",
       "  </thead>\n",
       "  <tbody>\n",
       "    <tr>\n",
       "      <th>0</th>\n",
       "      <td>NEW YORK NY</td>\n",
       "      <td>8405837.0</td>\n",
       "      <td>302149.0</td>\n",
       "    </tr>\n",
       "    <tr>\n",
       "      <th>1</th>\n",
       "      <td>CHICAGO IL</td>\n",
       "      <td>1955130.0</td>\n",
       "      <td>164468.0</td>\n",
       "    </tr>\n",
       "    <tr>\n",
       "      <th>2</th>\n",
       "      <td>LOS ANGELES CA</td>\n",
       "      <td>1595037.0</td>\n",
       "      <td>144132.0</td>\n",
       "    </tr>\n",
       "    <tr>\n",
       "      <th>3</th>\n",
       "      <td>MIAMI FL</td>\n",
       "      <td>1339155.0</td>\n",
       "      <td>17675.0</td>\n",
       "    </tr>\n",
       "    <tr>\n",
       "      <th>4</th>\n",
       "      <td>SILICON VALLEY</td>\n",
       "      <td>1177609.0</td>\n",
       "      <td>27247.0</td>\n",
       "    </tr>\n",
       "    <tr>\n",
       "      <th>5</th>\n",
       "      <td>ORANGE COUNTY</td>\n",
       "      <td>1030185.0</td>\n",
       "      <td>12994.0</td>\n",
       "    </tr>\n",
       "    <tr>\n",
       "      <th>6</th>\n",
       "      <td>SAN DIEGO CA</td>\n",
       "      <td>959307.0</td>\n",
       "      <td>69995.0</td>\n",
       "    </tr>\n",
       "    <tr>\n",
       "      <th>7</th>\n",
       "      <td>PHOENIX AZ</td>\n",
       "      <td>943999.0</td>\n",
       "      <td>6133.0</td>\n",
       "    </tr>\n",
       "    <tr>\n",
       "      <th>8</th>\n",
       "      <td>DALLAS TX</td>\n",
       "      <td>942908.0</td>\n",
       "      <td>22157.0</td>\n",
       "    </tr>\n",
       "    <tr>\n",
       "      <th>9</th>\n",
       "      <td>ATLANTA GA</td>\n",
       "      <td>814885.0</td>\n",
       "      <td>24701.0</td>\n",
       "    </tr>\n",
       "  </tbody>\n",
       "</table>\n",
       "</div>"
      ],
      "text/plain": [
       "             City  Population     Users\n",
       "0     NEW YORK NY   8405837.0  302149.0\n",
       "1      CHICAGO IL   1955130.0  164468.0\n",
       "2  LOS ANGELES CA   1595037.0  144132.0\n",
       "3        MIAMI FL   1339155.0   17675.0\n",
       "4  SILICON VALLEY   1177609.0   27247.0\n",
       "5   ORANGE COUNTY   1030185.0   12994.0\n",
       "6    SAN DIEGO CA    959307.0   69995.0\n",
       "7      PHOENIX AZ    943999.0    6133.0\n",
       "8       DALLAS TX    942908.0   22157.0\n",
       "9      ATLANTA GA    814885.0   24701.0"
      ]
     },
     "execution_count": 17,
     "metadata": {},
     "output_type": "execute_result"
    }
   ],
   "source": [
    "city.head(10)"
   ]
  },
  {
   "cell_type": "code",
   "execution_count": 18,
   "metadata": {
    "colab": {
     "base_uri": "https://localhost:8080/"
    },
    "id": "jX9HGFuEBK4f",
    "outputId": "92366f6b-a907-4d41-fa46-f6bfe6032ba5"
   },
   "outputs": [
    {
     "data": {
      "text/plain": [
       "City           object\n",
       "Population    float64\n",
       "Users         float64\n",
       "dtype: object"
      ]
     },
     "execution_count": 18,
     "metadata": {},
     "output_type": "execute_result"
    }
   ],
   "source": [
    "# On peut maintenant vérifier si le type a effectivement changer\n",
    "city.dtypes"
   ]
  },
  {
   "cell_type": "code",
   "execution_count": null,
   "metadata": {},
   "outputs": [],
   "source": []
  },
  {
   "cell_type": "markdown",
   "metadata": {
    "id": "Cj7-fF3ckW-U"
   },
   "source": [
    "Visualisation du fichier Customer_ID.csv"
   ]
  },
  {
   "cell_type": "code",
   "execution_count": 17,
   "metadata": {
    "colab": {
     "base_uri": "https://localhost:8080/"
    },
    "id": "oYPiEWdOkXA5",
    "outputId": "f3866f64-5eb2-4b9f-b642-742ef9381043"
   },
   "outputs": [
    {
     "name": "stdout",
     "output_type": "stream",
     "text": [
      "    Customer ID Gender  Age  Income (USD/Month)\n",
      "0         29290   Male   28               10813\n",
      "1         27703   Male   27                9237\n",
      "2         28712   Male   53               11242\n",
      "3         28020   Male   23               23327\n",
      "4         27182   Male   33                8536\n",
      "5         27318   Male   25               13984\n",
      "6         33788   Male   23               23788\n",
      "7         34106   Male   19               19980\n",
      "8         59799   Male   33               19271\n",
      "9         57982   Male   57                5068\n",
      "10        58774   Male   20               23602\n",
      "11        58627   Male   28               27338\n",
      "12        59007   Male   63                6683\n",
      "13        58215   Male   25                6862\n",
      "14        59372   Male   53                4912\n",
      "\n",
      " \n",
      "Customer ID            int64\n",
      "Gender                object\n",
      "Age                    int64\n",
      "Income (USD/Month)     int64\n",
      "dtype: object\n"
     ]
    }
   ],
   "source": [
    "customer = pd.read_csv(\"Customer_ID.csv\")\n",
    "print(customer.head(15))\n",
    "print(\"\\n \\n{}\".format(customer.dtypes))"
   ]
  },
  {
   "cell_type": "code",
   "execution_count": null,
   "metadata": {
    "id": "8wd0ICKZkXDj"
   },
   "outputs": [],
   "source": []
  },
  {
   "cell_type": "markdown",
   "metadata": {
    "id": "JeSKqot1kXGU"
   },
   "source": [
    " Visualisation du fichier Transaction_ID.csv file  "
   ]
  },
  {
   "cell_type": "code",
   "execution_count": 18,
   "metadata": {
    "colab": {
     "base_uri": "https://localhost:8080/"
    },
    "id": "6GZatdq4kXI-",
    "outputId": "d34617e6-a18d-406c-8fa0-97079f383ef3"
   },
   "outputs": [
    {
     "name": "stdout",
     "output_type": "stream",
     "text": [
      "    Transaction ID  Customer ID Payment_Mode\n",
      "0         10000011        29290         Card\n",
      "1         10000012        27703         Card\n",
      "2         10000013        28712         Cash\n",
      "3         10000014        28020         Cash\n",
      "4         10000015        27182         Card\n",
      "5         10000016        27318         Cash\n",
      "6         10000017        33788         Card\n",
      "7         10000018        34106         Card\n",
      "8         10000019        59799         Cash\n",
      "9         10000020        57982         Cash\n",
      "10        10000021        58774         Cash\n",
      "11        10000022        58627         Card\n",
      "12        10000023        59007         Card\n",
      "13        10000024        58215         Cash\n",
      "14        10000025        59372         Cash\n",
      "(440098, 3)\n"
     ]
    }
   ],
   "source": [
    "transaction = pd.read_csv(\"Transaction_ID.csv\")\n",
    "print(transaction.head(15))\n",
    "print(transaction.shape)"
   ]
  },
  {
   "cell_type": "code",
   "execution_count": 19,
   "metadata": {
    "id": "fIJkpEsUkXRu"
   },
   "outputs": [
    {
     "name": "stdout",
     "output_type": "stream",
     "text": [
      "\n",
      " \n",
      "Transaction ID     int64\n",
      "Customer ID        int64\n",
      "Payment_Mode      object\n",
      "dtype: object\n"
     ]
    }
   ],
   "source": [
    "print(\"\\n \\n{}\".format(transaction.dtypes) )"
   ]
  },
  {
   "cell_type": "code",
   "execution_count": null,
   "metadata": {},
   "outputs": [],
   "source": []
  },
  {
   "cell_type": "markdown",
   "metadata": {},
   "source": [
    "# On peut maintenant fusionner nos 4 Datasets en un seul afin d'avoir une vue générale des données"
   ]
  },
  {
   "cell_type": "markdown",
   "metadata": {},
   "source": [
    " Pour ce faire, afin d'avoir face à nous toutes les colonnes, on va afficher\n",
    "juste les premières lignes de chacun de nos 4 datasets."
   ]
  },
  {
   "cell_type": "code",
   "execution_count": 31,
   "metadata": {},
   "outputs": [
    {
     "data": {
      "text/html": [
       "<div>\n",
       "<style scoped>\n",
       "    .dataframe tbody tr th:only-of-type {\n",
       "        vertical-align: middle;\n",
       "    }\n",
       "\n",
       "    .dataframe tbody tr th {\n",
       "        vertical-align: top;\n",
       "    }\n",
       "\n",
       "    .dataframe thead th {\n",
       "        text-align: right;\n",
       "    }\n",
       "</style>\n",
       "<table border=\"1\" class=\"dataframe\">\n",
       "  <thead>\n",
       "    <tr style=\"text-align: right;\">\n",
       "      <th></th>\n",
       "      <th>Transaction ID</th>\n",
       "      <th>Date of Travel</th>\n",
       "      <th>Company</th>\n",
       "      <th>City</th>\n",
       "      <th>KM Travelled</th>\n",
       "      <th>Price Charged</th>\n",
       "      <th>Cost of Trip</th>\n",
       "    </tr>\n",
       "  </thead>\n",
       "  <tbody>\n",
       "    <tr>\n",
       "      <th>0</th>\n",
       "      <td>10001340</td>\n",
       "      <td>2016-01-01</td>\n",
       "      <td>Yellow Cab</td>\n",
       "      <td>WASHINGTON DC</td>\n",
       "      <td>10.2</td>\n",
       "      <td>202.54</td>\n",
       "      <td>135.864</td>\n",
       "    </tr>\n",
       "  </tbody>\n",
       "</table>\n",
       "</div>"
      ],
      "text/plain": [
       "   Transaction ID Date of Travel     Company           City  KM Travelled  \\\n",
       "0        10001340     2016-01-01  Yellow Cab  WASHINGTON DC          10.2   \n",
       "\n",
       "   Price Charged  Cost of Trip  \n",
       "0         202.54       135.864  "
      ]
     },
     "execution_count": 31,
     "metadata": {},
     "output_type": "execute_result"
    }
   ],
   "source": [
    "cab.head(1)"
   ]
  },
  {
   "cell_type": "code",
   "execution_count": 32,
   "metadata": {},
   "outputs": [
    {
     "data": {
      "text/html": [
       "<div>\n",
       "<style scoped>\n",
       "    .dataframe tbody tr th:only-of-type {\n",
       "        vertical-align: middle;\n",
       "    }\n",
       "\n",
       "    .dataframe tbody tr th {\n",
       "        vertical-align: top;\n",
       "    }\n",
       "\n",
       "    .dataframe thead th {\n",
       "        text-align: right;\n",
       "    }\n",
       "</style>\n",
       "<table border=\"1\" class=\"dataframe\">\n",
       "  <thead>\n",
       "    <tr style=\"text-align: right;\">\n",
       "      <th></th>\n",
       "      <th>Customer ID</th>\n",
       "      <th>Gender</th>\n",
       "      <th>Age</th>\n",
       "      <th>Income (USD/Month)</th>\n",
       "    </tr>\n",
       "  </thead>\n",
       "  <tbody>\n",
       "    <tr>\n",
       "      <th>0</th>\n",
       "      <td>29290</td>\n",
       "      <td>Male</td>\n",
       "      <td>28</td>\n",
       "      <td>10813</td>\n",
       "    </tr>\n",
       "  </tbody>\n",
       "</table>\n",
       "</div>"
      ],
      "text/plain": [
       "   Customer ID Gender  Age  Income (USD/Month)\n",
       "0        29290   Male   28               10813"
      ]
     },
     "execution_count": 32,
     "metadata": {},
     "output_type": "execute_result"
    }
   ],
   "source": [
    "customer.head(1)"
   ]
  },
  {
   "cell_type": "code",
   "execution_count": 33,
   "metadata": {},
   "outputs": [
    {
     "data": {
      "text/html": [
       "<div>\n",
       "<style scoped>\n",
       "    .dataframe tbody tr th:only-of-type {\n",
       "        vertical-align: middle;\n",
       "    }\n",
       "\n",
       "    .dataframe tbody tr th {\n",
       "        vertical-align: top;\n",
       "    }\n",
       "\n",
       "    .dataframe thead th {\n",
       "        text-align: right;\n",
       "    }\n",
       "</style>\n",
       "<table border=\"1\" class=\"dataframe\">\n",
       "  <thead>\n",
       "    <tr style=\"text-align: right;\">\n",
       "      <th></th>\n",
       "      <th>City</th>\n",
       "      <th>Population</th>\n",
       "      <th>Users</th>\n",
       "    </tr>\n",
       "  </thead>\n",
       "  <tbody>\n",
       "    <tr>\n",
       "      <th>0</th>\n",
       "      <td>NEW YORK NY</td>\n",
       "      <td>8405837.0</td>\n",
       "      <td>302149.0</td>\n",
       "    </tr>\n",
       "  </tbody>\n",
       "</table>\n",
       "</div>"
      ],
      "text/plain": [
       "          City  Population     Users\n",
       "0  NEW YORK NY   8405837.0  302149.0"
      ]
     },
     "execution_count": 33,
     "metadata": {},
     "output_type": "execute_result"
    }
   ],
   "source": [
    "city.head(1)"
   ]
  },
  {
   "cell_type": "code",
   "execution_count": 34,
   "metadata": {},
   "outputs": [
    {
     "data": {
      "text/html": [
       "<div>\n",
       "<style scoped>\n",
       "    .dataframe tbody tr th:only-of-type {\n",
       "        vertical-align: middle;\n",
       "    }\n",
       "\n",
       "    .dataframe tbody tr th {\n",
       "        vertical-align: top;\n",
       "    }\n",
       "\n",
       "    .dataframe thead th {\n",
       "        text-align: right;\n",
       "    }\n",
       "</style>\n",
       "<table border=\"1\" class=\"dataframe\">\n",
       "  <thead>\n",
       "    <tr style=\"text-align: right;\">\n",
       "      <th></th>\n",
       "      <th>Transaction ID</th>\n",
       "      <th>Customer ID</th>\n",
       "      <th>Payment_Mode</th>\n",
       "    </tr>\n",
       "  </thead>\n",
       "  <tbody>\n",
       "    <tr>\n",
       "      <th>0</th>\n",
       "      <td>10000011</td>\n",
       "      <td>29290</td>\n",
       "      <td>Card</td>\n",
       "    </tr>\n",
       "  </tbody>\n",
       "</table>\n",
       "</div>"
      ],
      "text/plain": [
       "   Transaction ID  Customer ID Payment_Mode\n",
       "0        10000011        29290         Card"
      ]
     },
     "execution_count": 34,
     "metadata": {},
     "output_type": "execute_result"
    }
   ],
   "source": [
    "transaction.head(1)"
   ]
  },
  {
   "cell_type": "code",
   "execution_count": null,
   "metadata": {},
   "outputs": [],
   "source": []
  },
  {
   "cell_type": "code",
   "execution_count": 20,
   "metadata": {},
   "outputs": [
    {
     "name": "stdout",
     "output_type": "stream",
     "text": [
      "Le Dataframe principal  359392 enrégistrements, 14 colonnes, 0 valeurs manquantes\n"
     ]
    },
    {
     "data": {
      "text/plain": [
       "Transaction ID          int64\n",
       "Date of Travel         object\n",
       "Company                object\n",
       "City                   object\n",
       "KM Travelled          float64\n",
       "Price Charged         float64\n",
       "Cost of Trip          float64\n",
       "Customer ID             int64\n",
       "Payment_Mode           object\n",
       "Population            float64\n",
       "Users                 float64\n",
       "Gender                 object\n",
       "Age                     int64\n",
       "Income (USD/Month)      int64\n",
       "dtype: object"
      ]
     },
     "execution_count": 20,
     "metadata": {},
     "output_type": "execute_result"
    }
   ],
   "source": [
    "principal= cab.merge(transaction, on=\"Transaction ID\").merge(city, on= \"City\").merge(customer, on= \"Customer ID\")\n",
    "\n",
    "print(\"Le Dataframe principal  {} enrégistrements, {} colonnes, {} valeurs manquantes\".format(principal.shape[0], principal.shape[1],principal.isna().sum().sum()))\n",
    "\n",
    "principal.dtypes"
   ]
  },
  {
   "cell_type": "code",
   "execution_count": 28,
   "metadata": {},
   "outputs": [],
   "source": [
    "#replacing spaces with '_' in column names \n",
    "\n",
    "for column in principal.columns:\n",
    "    if ' ' in column:\n",
    "        principal = principal.rename(columns={column:column.replace(' ','_')})\n"
   ]
  },
  {
   "cell_type": "code",
   "execution_count": 30,
   "metadata": {},
   "outputs": [],
   "source": [
    "# Converted some columns from object to category or int64 datatypes to work with appropriate ones.\n",
    "# Converted Data of Travel column to datetime object.\n",
    "\n",
    "principal['Date_of_Travel'] = pd.to_datetime(principal['Date_of_Travel'])\n",
    "\n",
    "for column in [\"Company\", \"City\" , \"Payment_Mode\" , \"Gender\" ] :\n",
    "    \n",
    "        principal[column] = principal[column].astype('category')\n",
    "        \n",
    "        \n",
    "for column in [\"Population\", \"Users\" ] :\n",
    "    \n",
    "        principal[column] = principal[column].astype('int64')"
   ]
  },
  {
   "cell_type": "markdown",
   "metadata": {},
   "source": [
    "## Etudes et analyses statistiques\n",
    "\n",
    "Nous passons maintenant aux différentes études statistiques. Nous nnous concentrons plus sur les différentes thématiques: Distribution, Valeurs abérantes, Correlation, Covariance..."
   ]
  },
  {
   "cell_type": "markdown",
   "metadata": {},
   "source": [
    "Avant de tout commencer, on va visualiser le dataset principal et effectuer les dernières opérations de nettoyage telles ques: Renommer les features dans le but d'éliminer les espaces, Se rassurer des types de données si elles sont en ligne avec les attentes et principes de la statistique."
   ]
  },
  {
   "cell_type": "code",
   "execution_count": 31,
   "metadata": {},
   "outputs": [
    {
     "data": {
      "text/html": [
       "<div>\n",
       "<style scoped>\n",
       "    .dataframe tbody tr th:only-of-type {\n",
       "        vertical-align: middle;\n",
       "    }\n",
       "\n",
       "    .dataframe tbody tr th {\n",
       "        vertical-align: top;\n",
       "    }\n",
       "\n",
       "    .dataframe thead th {\n",
       "        text-align: right;\n",
       "    }\n",
       "</style>\n",
       "<table border=\"1\" class=\"dataframe\">\n",
       "  <thead>\n",
       "    <tr style=\"text-align: right;\">\n",
       "      <th></th>\n",
       "      <th>Transaction_ID</th>\n",
       "      <th>Date_of_Travel</th>\n",
       "      <th>Company</th>\n",
       "      <th>City</th>\n",
       "      <th>KM_Travelled</th>\n",
       "      <th>Price_Charged</th>\n",
       "      <th>Cost_of_Trip</th>\n",
       "      <th>Customer_ID</th>\n",
       "      <th>Payment_Mode</th>\n",
       "      <th>Population</th>\n",
       "      <th>Users</th>\n",
       "      <th>Gender</th>\n",
       "      <th>Age</th>\n",
       "      <th>Income_(USD/Month)</th>\n",
       "    </tr>\n",
       "  </thead>\n",
       "  <tbody>\n",
       "    <tr>\n",
       "      <th>0</th>\n",
       "      <td>10136329</td>\n",
       "      <td>2017-01-01</td>\n",
       "      <td>Yellow Cab</td>\n",
       "      <td>WASHINGTON DC</td>\n",
       "      <td>23.28</td>\n",
       "      <td>522.73</td>\n",
       "      <td>284.9472</td>\n",
       "      <td>52983</td>\n",
       "      <td>Card</td>\n",
       "      <td>418859</td>\n",
       "      <td>127001</td>\n",
       "      <td>Male</td>\n",
       "      <td>24</td>\n",
       "      <td>32171</td>\n",
       "    </tr>\n",
       "    <tr>\n",
       "      <th>1</th>\n",
       "      <td>10253016</td>\n",
       "      <td>2017-01-11</td>\n",
       "      <td>Yellow Cab</td>\n",
       "      <td>WASHINGTON DC</td>\n",
       "      <td>44.80</td>\n",
       "      <td>813.70</td>\n",
       "      <td>607.4880</td>\n",
       "      <td>52983</td>\n",
       "      <td>Cash</td>\n",
       "      <td>418859</td>\n",
       "      <td>127001</td>\n",
       "      <td>Male</td>\n",
       "      <td>24</td>\n",
       "      <td>32171</td>\n",
       "    </tr>\n",
       "    <tr>\n",
       "      <th>2</th>\n",
       "      <td>10299396</td>\n",
       "      <td>2018-03-02</td>\n",
       "      <td>Yellow Cab</td>\n",
       "      <td>WASHINGTON DC</td>\n",
       "      <td>9.80</td>\n",
       "      <td>178.38</td>\n",
       "      <td>119.9520</td>\n",
       "      <td>52983</td>\n",
       "      <td>Card</td>\n",
       "      <td>418859</td>\n",
       "      <td>127001</td>\n",
       "      <td>Male</td>\n",
       "      <td>24</td>\n",
       "      <td>32171</td>\n",
       "    </tr>\n",
       "    <tr>\n",
       "      <th>3</th>\n",
       "      <td>10358659</td>\n",
       "      <td>2018-03-08</td>\n",
       "      <td>Yellow Cab</td>\n",
       "      <td>WASHINGTON DC</td>\n",
       "      <td>36.36</td>\n",
       "      <td>571.98</td>\n",
       "      <td>506.1312</td>\n",
       "      <td>52983</td>\n",
       "      <td>Card</td>\n",
       "      <td>418859</td>\n",
       "      <td>127001</td>\n",
       "      <td>Male</td>\n",
       "      <td>24</td>\n",
       "      <td>32171</td>\n",
       "    </tr>\n",
       "    <tr>\n",
       "      <th>4</th>\n",
       "      <td>10001379</td>\n",
       "      <td>2016-07-01</td>\n",
       "      <td>Yellow Cab</td>\n",
       "      <td>WASHINGTON DC</td>\n",
       "      <td>39.55</td>\n",
       "      <td>708.82</td>\n",
       "      <td>517.3140</td>\n",
       "      <td>52983</td>\n",
       "      <td>Card</td>\n",
       "      <td>418859</td>\n",
       "      <td>127001</td>\n",
       "      <td>Male</td>\n",
       "      <td>24</td>\n",
       "      <td>32171</td>\n",
       "    </tr>\n",
       "    <tr>\n",
       "      <th>5</th>\n",
       "      <td>10240617</td>\n",
       "      <td>2017-08-10</td>\n",
       "      <td>Yellow Cab</td>\n",
       "      <td>WASHINGTON DC</td>\n",
       "      <td>25.20</td>\n",
       "      <td>550.10</td>\n",
       "      <td>347.7600</td>\n",
       "      <td>52983</td>\n",
       "      <td>Card</td>\n",
       "      <td>418859</td>\n",
       "      <td>127001</td>\n",
       "      <td>Male</td>\n",
       "      <td>24</td>\n",
       "      <td>32171</td>\n",
       "    </tr>\n",
       "    <tr>\n",
       "      <th>6</th>\n",
       "      <td>10240614</td>\n",
       "      <td>2017-10-13</td>\n",
       "      <td>Yellow Cab</td>\n",
       "      <td>WASHINGTON DC</td>\n",
       "      <td>44.40</td>\n",
       "      <td>977.88</td>\n",
       "      <td>628.7040</td>\n",
       "      <td>52983</td>\n",
       "      <td>Card</td>\n",
       "      <td>418859</td>\n",
       "      <td>127001</td>\n",
       "      <td>Male</td>\n",
       "      <td>24</td>\n",
       "      <td>32171</td>\n",
       "    </tr>\n",
       "    <tr>\n",
       "      <th>7</th>\n",
       "      <td>10123910</td>\n",
       "      <td>2016-12-14</td>\n",
       "      <td>Yellow Cab</td>\n",
       "      <td>WASHINGTON DC</td>\n",
       "      <td>39.24</td>\n",
       "      <td>593.52</td>\n",
       "      <td>522.6768</td>\n",
       "      <td>52983</td>\n",
       "      <td>Card</td>\n",
       "      <td>418859</td>\n",
       "      <td>127001</td>\n",
       "      <td>Male</td>\n",
       "      <td>24</td>\n",
       "      <td>32171</td>\n",
       "    </tr>\n",
       "    <tr>\n",
       "      <th>8</th>\n",
       "      <td>10004202</td>\n",
       "      <td>2016-01-16</td>\n",
       "      <td>Yellow Cab</td>\n",
       "      <td>WASHINGTON DC</td>\n",
       "      <td>14.95</td>\n",
       "      <td>325.69</td>\n",
       "      <td>197.3400</td>\n",
       "      <td>52983</td>\n",
       "      <td>Cash</td>\n",
       "      <td>418859</td>\n",
       "      <td>127001</td>\n",
       "      <td>Male</td>\n",
       "      <td>24</td>\n",
       "      <td>32171</td>\n",
       "    </tr>\n",
       "    <tr>\n",
       "      <th>9</th>\n",
       "      <td>10415868</td>\n",
       "      <td>2018-11-19</td>\n",
       "      <td>Yellow Cab</td>\n",
       "      <td>WASHINGTON DC</td>\n",
       "      <td>24.50</td>\n",
       "      <td>366.66</td>\n",
       "      <td>323.4000</td>\n",
       "      <td>52983</td>\n",
       "      <td>Cash</td>\n",
       "      <td>418859</td>\n",
       "      <td>127001</td>\n",
       "      <td>Male</td>\n",
       "      <td>24</td>\n",
       "      <td>32171</td>\n",
       "    </tr>\n",
       "  </tbody>\n",
       "</table>\n",
       "</div>"
      ],
      "text/plain": [
       "   Transaction_ID Date_of_Travel     Company           City  KM_Travelled  \\\n",
       "0        10136329     2017-01-01  Yellow Cab  WASHINGTON DC         23.28   \n",
       "1        10253016     2017-01-11  Yellow Cab  WASHINGTON DC         44.80   \n",
       "2        10299396     2018-03-02  Yellow Cab  WASHINGTON DC          9.80   \n",
       "3        10358659     2018-03-08  Yellow Cab  WASHINGTON DC         36.36   \n",
       "4        10001379     2016-07-01  Yellow Cab  WASHINGTON DC         39.55   \n",
       "5        10240617     2017-08-10  Yellow Cab  WASHINGTON DC         25.20   \n",
       "6        10240614     2017-10-13  Yellow Cab  WASHINGTON DC         44.40   \n",
       "7        10123910     2016-12-14  Yellow Cab  WASHINGTON DC         39.24   \n",
       "8        10004202     2016-01-16  Yellow Cab  WASHINGTON DC         14.95   \n",
       "9        10415868     2018-11-19  Yellow Cab  WASHINGTON DC         24.50   \n",
       "\n",
       "   Price_Charged  Cost_of_Trip  Customer_ID Payment_Mode  Population   Users  \\\n",
       "0         522.73      284.9472        52983         Card      418859  127001   \n",
       "1         813.70      607.4880        52983         Cash      418859  127001   \n",
       "2         178.38      119.9520        52983         Card      418859  127001   \n",
       "3         571.98      506.1312        52983         Card      418859  127001   \n",
       "4         708.82      517.3140        52983         Card      418859  127001   \n",
       "5         550.10      347.7600        52983         Card      418859  127001   \n",
       "6         977.88      628.7040        52983         Card      418859  127001   \n",
       "7         593.52      522.6768        52983         Card      418859  127001   \n",
       "8         325.69      197.3400        52983         Cash      418859  127001   \n",
       "9         366.66      323.4000        52983         Cash      418859  127001   \n",
       "\n",
       "  Gender  Age  Income_(USD/Month)  \n",
       "0   Male   24               32171  \n",
       "1   Male   24               32171  \n",
       "2   Male   24               32171  \n",
       "3   Male   24               32171  \n",
       "4   Male   24               32171  \n",
       "5   Male   24               32171  \n",
       "6   Male   24               32171  \n",
       "7   Male   24               32171  \n",
       "8   Male   24               32171  \n",
       "9   Male   24               32171  "
      ]
     },
     "execution_count": 31,
     "metadata": {},
     "output_type": "execute_result"
    }
   ],
   "source": [
    "principal.head(10)"
   ]
  },
  {
   "cell_type": "code",
   "execution_count": 29,
   "metadata": {},
   "outputs": [
    {
     "data": {
      "text/plain": [
       "Transaction ID                 int64\n",
       "Date of Travel        datetime64[ns]\n",
       "Company                       object\n",
       "City                          object\n",
       "KM Travelled                 float64\n",
       "Price Charged                float64\n",
       "Cost of Trip                 float64\n",
       "Customer ID                    int64\n",
       "Payment_Mode                  object\n",
       "Population                   float64\n",
       "Users                        float64\n",
       "Gender                        object\n",
       "Age                            int64\n",
       "Income (USD/Month)             int64\n",
       "dtype: object"
      ]
     },
     "execution_count": 29,
     "metadata": {},
     "output_type": "execute_result"
    }
   ],
   "source": [
    "principal.dtypes"
   ]
  },
  {
   "cell_type": "code",
   "execution_count": null,
   "metadata": {
    "id": "6hzVx0XhkXTy"
   },
   "outputs": [],
   "source": []
  },
  {
   "cell_type": "markdown",
   "metadata": {},
   "source": [
    "Maintenant que tout est bon, on peut faire une première visualisation graphique\n",
    "\n"
   ]
  },
  {
   "cell_type": "code",
   "execution_count": 31,
   "metadata": {},
   "outputs": [
    {
     "data": {
      "text/plain": [
       "Text(0.5, 0, 'Cout par trajet')"
      ]
     },
     "execution_count": 31,
     "metadata": {},
     "output_type": "execute_result"
    },
    {
     "data": {
      "image/png": "[encoded data removed]",
      "text/plain": [
       "<Figure size 1224x648 with 1 Axes>"
      ]
     },
     "metadata": {
      "needs_background": "light"
     },
     "output_type": "display_data"
    }
   ],
   "source": [
    "plt.figure(figsize=(17,9))\n",
    "sns.histplot(data= principal,x=\"Cost of Trip\",bins=100 , color= 'green')\n",
    "plt.title('Distribution du cout du trajet', fontsize=20)\n",
    "plt.ylabel('Fréquence')\n",
    "plt.xlabel('Cout par trajet')"
   ]
  },
  {
   "cell_type": "code",
   "execution_count": null,
   "metadata": {},
   "outputs": [],
   "source": []
  },
  {
   "cell_type": "markdown",
   "metadata": {},
   "source": [
    "On peut maintenant diviser le Dataset en deux (en fonction du type d'entreprise (Pink et Yellow)"
   ]
  },
  {
   "cell_type": "code",
   "execution_count": 33,
   "metadata": {},
   "outputs": [],
   "source": [
    "groups = principal.groupby(principal.Company)"
   ]
  },
  {
   "cell_type": "code",
   "execution_count": 34,
   "metadata": {},
   "outputs": [],
   "source": [
    "pink = groups.get_group(\"Pink Cab\")\n",
    "yellow = groups.get_group(\"Yellow Cab\")"
   ]
  },
  {
   "cell_type": "code",
   "execution_count": 35,
   "metadata": {},
   "outputs": [
    {
     "data": {
      "text/html": [
       "<div>\n",
       "<style scoped>\n",
       "    .dataframe tbody tr th:only-of-type {\n",
       "        vertical-align: middle;\n",
       "    }\n",
       "\n",
       "    .dataframe tbody tr th {\n",
       "        vertical-align: top;\n",
       "    }\n",
       "\n",
       "    .dataframe thead th {\n",
       "        text-align: right;\n",
       "    }\n",
       "</style>\n",
       "<table border=\"1\" class=\"dataframe\">\n",
       "  <thead>\n",
       "    <tr style=\"text-align: right;\">\n",
       "      <th></th>\n",
       "      <th>Transaction_ID</th>\n",
       "      <th>Date_of_Travel</th>\n",
       "      <th>Company</th>\n",
       "      <th>City</th>\n",
       "      <th>KM_Travelled</th>\n",
       "      <th>Price_Charged</th>\n",
       "      <th>Cost_of_Trip</th>\n",
       "      <th>Customer_ID</th>\n",
       "      <th>Payment_Mode</th>\n",
       "      <th>Population</th>\n",
       "      <th>Users</th>\n",
       "      <th>Gender</th>\n",
       "      <th>Age</th>\n",
       "      <th>Income_(USD/Month)</th>\n",
       "    </tr>\n",
       "  </thead>\n",
       "  <tbody>\n",
       "    <tr>\n",
       "      <th>19</th>\n",
       "      <td>10132362</td>\n",
       "      <td>2017-01-01</td>\n",
       "      <td>Pink Cab</td>\n",
       "      <td>WASHINGTON DC</td>\n",
       "      <td>26.19</td>\n",
       "      <td>408.45</td>\n",
       "      <td>301.185</td>\n",
       "      <td>51936</td>\n",
       "      <td>Card</td>\n",
       "      <td>418859</td>\n",
       "      <td>127001</td>\n",
       "      <td>Male</td>\n",
       "      <td>28</td>\n",
       "      <td>8731</td>\n",
       "    </tr>\n",
       "    <tr>\n",
       "      <th>38</th>\n",
       "      <td>10132361</td>\n",
       "      <td>2017-01-01</td>\n",
       "      <td>Pink Cab</td>\n",
       "      <td>WASHINGTON DC</td>\n",
       "      <td>8.96</td>\n",
       "      <td>120.34</td>\n",
       "      <td>95.872</td>\n",
       "      <td>51539</td>\n",
       "      <td>Card</td>\n",
       "      <td>418859</td>\n",
       "      <td>127001</td>\n",
       "      <td>Female</td>\n",
       "      <td>35</td>\n",
       "      <td>20939</td>\n",
       "    </tr>\n",
       "    <tr>\n",
       "      <th>40</th>\n",
       "      <td>10020577</td>\n",
       "      <td>2016-03-04</td>\n",
       "      <td>Pink Cab</td>\n",
       "      <td>WASHINGTON DC</td>\n",
       "      <td>20.16</td>\n",
       "      <td>242.26</td>\n",
       "      <td>225.792</td>\n",
       "      <td>51539</td>\n",
       "      <td>Cash</td>\n",
       "      <td>418859</td>\n",
       "      <td>127001</td>\n",
       "      <td>Female</td>\n",
       "      <td>35</td>\n",
       "      <td>20939</td>\n",
       "    </tr>\n",
       "    <tr>\n",
       "      <th>48</th>\n",
       "      <td>10132344</td>\n",
       "      <td>2017-01-01</td>\n",
       "      <td>Pink Cab</td>\n",
       "      <td>WASHINGTON DC</td>\n",
       "      <td>5.70</td>\n",
       "      <td>79.60</td>\n",
       "      <td>58.140</td>\n",
       "      <td>51965</td>\n",
       "      <td>Cash</td>\n",
       "      <td>418859</td>\n",
       "      <td>127001</td>\n",
       "      <td>Male</td>\n",
       "      <td>25</td>\n",
       "      <td>21317</td>\n",
       "    </tr>\n",
       "    <tr>\n",
       "      <th>53</th>\n",
       "      <td>10043309</td>\n",
       "      <td>2016-11-06</td>\n",
       "      <td>Pink Cab</td>\n",
       "      <td>WASHINGTON DC</td>\n",
       "      <td>34.50</td>\n",
       "      <td>415.42</td>\n",
       "      <td>396.750</td>\n",
       "      <td>51965</td>\n",
       "      <td>Cash</td>\n",
       "      <td>418859</td>\n",
       "      <td>127001</td>\n",
       "      <td>Male</td>\n",
       "      <td>25</td>\n",
       "      <td>21317</td>\n",
       "    </tr>\n",
       "  </tbody>\n",
       "</table>\n",
       "</div>"
      ],
      "text/plain": [
       "    Transaction_ID Date_of_Travel   Company           City  KM_Travelled  \\\n",
       "19        10132362     2017-01-01  Pink Cab  WASHINGTON DC         26.19   \n",
       "38        10132361     2017-01-01  Pink Cab  WASHINGTON DC          8.96   \n",
       "40        10020577     2016-03-04  Pink Cab  WASHINGTON DC         20.16   \n",
       "48        10132344     2017-01-01  Pink Cab  WASHINGTON DC          5.70   \n",
       "53        10043309     2016-11-06  Pink Cab  WASHINGTON DC         34.50   \n",
       "\n",
       "    Price_Charged  Cost_of_Trip  Customer_ID Payment_Mode  Population   Users  \\\n",
       "19         408.45       301.185        51936         Card      418859  127001   \n",
       "38         120.34        95.872        51539         Card      418859  127001   \n",
       "40         242.26       225.792        51539         Cash      418859  127001   \n",
       "48          79.60        58.140        51965         Cash      418859  127001   \n",
       "53         415.42       396.750        51965         Cash      418859  127001   \n",
       "\n",
       "    Gender  Age  Income_(USD/Month)  \n",
       "19    Male   28                8731  \n",
       "38  Female   35               20939  \n",
       "40  Female   35               20939  \n",
       "48    Male   25               21317  \n",
       "53    Male   25               21317  "
      ]
     },
     "execution_count": 35,
     "metadata": {},
     "output_type": "execute_result"
    }
   ],
   "source": [
    "pink.head()"
   ]
  },
  {
   "cell_type": "code",
   "execution_count": 26,
   "metadata": {
    "id": "aaPP-UWBkXWS"
   },
   "outputs": [
    {
     "data": {
      "text/html": [
       "<div>\n",
       "<style scoped>\n",
       "    .dataframe tbody tr th:only-of-type {\n",
       "        vertical-align: middle;\n",
       "    }\n",
       "\n",
       "    .dataframe tbody tr th {\n",
       "        vertical-align: top;\n",
       "    }\n",
       "\n",
       "    .dataframe thead th {\n",
       "        text-align: right;\n",
       "    }\n",
       "</style>\n",
       "<table border=\"1\" class=\"dataframe\">\n",
       "  <thead>\n",
       "    <tr style=\"text-align: right;\">\n",
       "      <th></th>\n",
       "      <th>Transaction ID</th>\n",
       "      <th>KM Travelled</th>\n",
       "      <th>Price Charged</th>\n",
       "      <th>Cost of Trip</th>\n",
       "      <th>Customer ID</th>\n",
       "      <th>Population</th>\n",
       "      <th>Users</th>\n",
       "      <th>Age</th>\n",
       "      <th>Income (USD/Month)</th>\n",
       "    </tr>\n",
       "  </thead>\n",
       "  <tbody>\n",
       "    <tr>\n",
       "      <th>count</th>\n",
       "      <td>8.471100e+04</td>\n",
       "      <td>84711.000000</td>\n",
       "      <td>84711.000000</td>\n",
       "      <td>84711.000000</td>\n",
       "      <td>84711.000000</td>\n",
       "      <td>8.471100e+04</td>\n",
       "      <td>84711.000000</td>\n",
       "      <td>84711.000000</td>\n",
       "      <td>84711.000000</td>\n",
       "    </tr>\n",
       "    <tr>\n",
       "      <th>mean</th>\n",
       "      <td>1.022394e+07</td>\n",
       "      <td>22.559917</td>\n",
       "      <td>310.800856</td>\n",
       "      <td>248.148682</td>\n",
       "      <td>18422.581577</td>\n",
       "      <td>2.350642e+06</td>\n",
       "      <td>125590.813330</td>\n",
       "      <td>35.322414</td>\n",
       "      <td>15059.047137</td>\n",
       "    </tr>\n",
       "    <tr>\n",
       "      <th>std</th>\n",
       "      <td>1.261782e+05</td>\n",
       "      <td>12.231092</td>\n",
       "      <td>181.995661</td>\n",
       "      <td>135.403345</td>\n",
       "      <td>18084.830799</td>\n",
       "      <td>2.734890e+06</td>\n",
       "      <td>94593.433659</td>\n",
       "      <td>12.644780</td>\n",
       "      <td>7991.077762</td>\n",
       "    </tr>\n",
       "    <tr>\n",
       "      <th>min</th>\n",
       "      <td>1.000001e+07</td>\n",
       "      <td>1.900000</td>\n",
       "      <td>15.600000</td>\n",
       "      <td>19.000000</td>\n",
       "      <td>1.000000</td>\n",
       "      <td>2.489680e+05</td>\n",
       "      <td>3643.000000</td>\n",
       "      <td>18.000000</td>\n",
       "      <td>2000.000000</td>\n",
       "    </tr>\n",
       "    <tr>\n",
       "      <th>25%</th>\n",
       "      <td>1.011014e+07</td>\n",
       "      <td>12.000000</td>\n",
       "      <td>159.970000</td>\n",
       "      <td>131.868000</td>\n",
       "      <td>5317.500000</td>\n",
       "      <td>8.148850e+05</td>\n",
       "      <td>27247.000000</td>\n",
       "      <td>25.000000</td>\n",
       "      <td>8371.000000</td>\n",
       "    </tr>\n",
       "    <tr>\n",
       "      <th>50%</th>\n",
       "      <td>1.022590e+07</td>\n",
       "      <td>22.440000</td>\n",
       "      <td>298.060000</td>\n",
       "      <td>246.330000</td>\n",
       "      <td>8876.000000</td>\n",
       "      <td>1.595037e+06</td>\n",
       "      <td>144132.000000</td>\n",
       "      <td>33.000000</td>\n",
       "      <td>14713.000000</td>\n",
       "    </tr>\n",
       "    <tr>\n",
       "      <th>75%</th>\n",
       "      <td>1.033642e+07</td>\n",
       "      <td>32.960000</td>\n",
       "      <td>441.505000</td>\n",
       "      <td>360.180000</td>\n",
       "      <td>27190.000000</td>\n",
       "      <td>1.955130e+06</td>\n",
       "      <td>164468.000000</td>\n",
       "      <td>42.000000</td>\n",
       "      <td>21055.000000</td>\n",
       "    </tr>\n",
       "    <tr>\n",
       "      <th>max</th>\n",
       "      <td>1.043762e+07</td>\n",
       "      <td>48.000000</td>\n",
       "      <td>1623.480000</td>\n",
       "      <td>576.000000</td>\n",
       "      <td>60000.000000</td>\n",
       "      <td>8.405837e+06</td>\n",
       "      <td>302149.000000</td>\n",
       "      <td>65.000000</td>\n",
       "      <td>35000.000000</td>\n",
       "    </tr>\n",
       "  </tbody>\n",
       "</table>\n",
       "</div>"
      ],
      "text/plain": [
       "       Transaction ID  KM Travelled  Price Charged  Cost of Trip  \\\n",
       "count    8.471100e+04  84711.000000   84711.000000  84711.000000   \n",
       "mean     1.022394e+07     22.559917     310.800856    248.148682   \n",
       "std      1.261782e+05     12.231092     181.995661    135.403345   \n",
       "min      1.000001e+07      1.900000      15.600000     19.000000   \n",
       "25%      1.011014e+07     12.000000     159.970000    131.868000   \n",
       "50%      1.022590e+07     22.440000     298.060000    246.330000   \n",
       "75%      1.033642e+07     32.960000     441.505000    360.180000   \n",
       "max      1.043762e+07     48.000000    1623.480000    576.000000   \n",
       "\n",
       "        Customer ID    Population          Users           Age  \\\n",
       "count  84711.000000  8.471100e+04   84711.000000  84711.000000   \n",
       "mean   18422.581577  2.350642e+06  125590.813330     35.322414   \n",
       "std    18084.830799  2.734890e+06   94593.433659     12.644780   \n",
       "min        1.000000  2.489680e+05    3643.000000     18.000000   \n",
       "25%     5317.500000  8.148850e+05   27247.000000     25.000000   \n",
       "50%     8876.000000  1.595037e+06  144132.000000     33.000000   \n",
       "75%    27190.000000  1.955130e+06  164468.000000     42.000000   \n",
       "max    60000.000000  8.405837e+06  302149.000000     65.000000   \n",
       "\n",
       "       Income (USD/Month)  \n",
       "count        84711.000000  \n",
       "mean         15059.047137  \n",
       "std           7991.077762  \n",
       "min           2000.000000  \n",
       "25%           8371.000000  \n",
       "50%          14713.000000  \n",
       "75%          21055.000000  \n",
       "max          35000.000000  "
      ]
     },
     "execution_count": 26,
     "metadata": {},
     "output_type": "execute_result"
    }
   ],
   "source": [
    "# Premièrement visualisons quelques informations statistiques des deux différents datasets\n",
    "pink.describe()"
   ]
  },
  {
   "cell_type": "code",
   "execution_count": 48,
   "metadata": {
    "id": "GqhCUsmrhGoN"
   },
   "outputs": [
    {
     "data": {
      "text/html": [
       "<div>\n",
       "<style scoped>\n",
       "    .dataframe tbody tr th:only-of-type {\n",
       "        vertical-align: middle;\n",
       "    }\n",
       "\n",
       "    .dataframe tbody tr th {\n",
       "        vertical-align: top;\n",
       "    }\n",
       "\n",
       "    .dataframe thead th {\n",
       "        text-align: right;\n",
       "    }\n",
       "</style>\n",
       "<table border=\"1\" class=\"dataframe\">\n",
       "  <thead>\n",
       "    <tr style=\"text-align: right;\">\n",
       "      <th></th>\n",
       "      <th>Transaction ID</th>\n",
       "      <th>Date of Travel</th>\n",
       "      <th>Company</th>\n",
       "      <th>City</th>\n",
       "      <th>KM Travelled</th>\n",
       "      <th>Price Charged</th>\n",
       "      <th>Cost of Trip</th>\n",
       "      <th>Customer ID</th>\n",
       "      <th>Payment_Mode</th>\n",
       "      <th>Population</th>\n",
       "      <th>Users</th>\n",
       "      <th>Gender</th>\n",
       "      <th>Age</th>\n",
       "      <th>Income (USD/Month)</th>\n",
       "    </tr>\n",
       "  </thead>\n",
       "  <tbody>\n",
       "    <tr>\n",
       "      <th>0</th>\n",
       "      <td>10001340</td>\n",
       "      <td>2016-01-01</td>\n",
       "      <td>Yellow Cab</td>\n",
       "      <td>WASHINGTON DC</td>\n",
       "      <td>10.20</td>\n",
       "      <td>202.54</td>\n",
       "      <td>135.8640</td>\n",
       "      <td>52536</td>\n",
       "      <td>Card</td>\n",
       "      <td>418859.0</td>\n",
       "      <td>127001.0</td>\n",
       "      <td>Male</td>\n",
       "      <td>24</td>\n",
       "      <td>10606</td>\n",
       "    </tr>\n",
       "    <tr>\n",
       "      <th>1</th>\n",
       "      <td>10020018</td>\n",
       "      <td>2016-03-25</td>\n",
       "      <td>Yellow Cab</td>\n",
       "      <td>WASHINGTON DC</td>\n",
       "      <td>5.94</td>\n",
       "      <td>88.50</td>\n",
       "      <td>74.1312</td>\n",
       "      <td>52536</td>\n",
       "      <td>Cash</td>\n",
       "      <td>418859.0</td>\n",
       "      <td>127001.0</td>\n",
       "      <td>Male</td>\n",
       "      <td>24</td>\n",
       "      <td>10606</td>\n",
       "    </tr>\n",
       "    <tr>\n",
       "      <th>3</th>\n",
       "      <td>10164725</td>\n",
       "      <td>2017-04-16</td>\n",
       "      <td>Yellow Cab</td>\n",
       "      <td>WASHINGTON DC</td>\n",
       "      <td>8.08</td>\n",
       "      <td>123.21</td>\n",
       "      <td>104.7168</td>\n",
       "      <td>52536</td>\n",
       "      <td>Card</td>\n",
       "      <td>418859.0</td>\n",
       "      <td>127001.0</td>\n",
       "      <td>Male</td>\n",
       "      <td>24</td>\n",
       "      <td>10606</td>\n",
       "    </tr>\n",
       "    <tr>\n",
       "      <th>4</th>\n",
       "      <td>10188478</td>\n",
       "      <td>2017-06-23</td>\n",
       "      <td>Yellow Cab</td>\n",
       "      <td>WASHINGTON DC</td>\n",
       "      <td>13.80</td>\n",
       "      <td>283.74</td>\n",
       "      <td>168.9120</td>\n",
       "      <td>52536</td>\n",
       "      <td>Cash</td>\n",
       "      <td>418859.0</td>\n",
       "      <td>127001.0</td>\n",
       "      <td>Male</td>\n",
       "      <td>24</td>\n",
       "      <td>10606</td>\n",
       "    </tr>\n",
       "    <tr>\n",
       "      <th>6</th>\n",
       "      <td>10261473</td>\n",
       "      <td>2017-11-16</td>\n",
       "      <td>Yellow Cab</td>\n",
       "      <td>WASHINGTON DC</td>\n",
       "      <td>11.60</td>\n",
       "      <td>180.50</td>\n",
       "      <td>144.7680</td>\n",
       "      <td>52536</td>\n",
       "      <td>Cash</td>\n",
       "      <td>418859.0</td>\n",
       "      <td>127001.0</td>\n",
       "      <td>Male</td>\n",
       "      <td>24</td>\n",
       "      <td>10606</td>\n",
       "    </tr>\n",
       "  </tbody>\n",
       "</table>\n",
       "</div>"
      ],
      "text/plain": [
       "   Transaction ID Date of Travel     Company           City  KM Travelled  \\\n",
       "0        10001340     2016-01-01  Yellow Cab  WASHINGTON DC         10.20   \n",
       "1        10020018     2016-03-25  Yellow Cab  WASHINGTON DC          5.94   \n",
       "3        10164725     2017-04-16  Yellow Cab  WASHINGTON DC          8.08   \n",
       "4        10188478     2017-06-23  Yellow Cab  WASHINGTON DC         13.80   \n",
       "6        10261473     2017-11-16  Yellow Cab  WASHINGTON DC         11.60   \n",
       "\n",
       "   Price Charged  Cost of Trip  Customer ID Payment_Mode  Population  \\\n",
       "0         202.54      135.8640        52536         Card    418859.0   \n",
       "1          88.50       74.1312        52536         Cash    418859.0   \n",
       "3         123.21      104.7168        52536         Card    418859.0   \n",
       "4         283.74      168.9120        52536         Cash    418859.0   \n",
       "6         180.50      144.7680        52536         Cash    418859.0   \n",
       "\n",
       "      Users Gender  Age  Income (USD/Month)  \n",
       "0  127001.0   Male   24               10606  \n",
       "1  127001.0   Male   24               10606  \n",
       "3  127001.0   Male   24               10606  \n",
       "4  127001.0   Male   24               10606  \n",
       "6  127001.0   Male   24               10606  "
      ]
     },
     "execution_count": 48,
     "metadata": {},
     "output_type": "execute_result"
    }
   ],
   "source": [
    "yellow.head()"
   ]
  },
  {
   "cell_type": "code",
   "execution_count": 36,
   "metadata": {},
   "outputs": [
    {
     "data": {
      "text/html": [
       "<div>\n",
       "<style scoped>\n",
       "    .dataframe tbody tr th:only-of-type {\n",
       "        vertical-align: middle;\n",
       "    }\n",
       "\n",
       "    .dataframe tbody tr th {\n",
       "        vertical-align: top;\n",
       "    }\n",
       "\n",
       "    .dataframe thead th {\n",
       "        text-align: right;\n",
       "    }\n",
       "</style>\n",
       "<table border=\"1\" class=\"dataframe\">\n",
       "  <thead>\n",
       "    <tr style=\"text-align: right;\">\n",
       "      <th></th>\n",
       "      <th>Transaction_ID</th>\n",
       "      <th>KM_Travelled</th>\n",
       "      <th>Price_Charged</th>\n",
       "      <th>Cost_of_Trip</th>\n",
       "      <th>Customer_ID</th>\n",
       "      <th>Population</th>\n",
       "      <th>Users</th>\n",
       "      <th>Age</th>\n",
       "      <th>Income_(USD/Month)</th>\n",
       "    </tr>\n",
       "  </thead>\n",
       "  <tbody>\n",
       "    <tr>\n",
       "      <th>count</th>\n",
       "      <td>2.746810e+05</td>\n",
       "      <td>274681.000000</td>\n",
       "      <td>274681.000000</td>\n",
       "      <td>274681.000000</td>\n",
       "      <td>274681.000000</td>\n",
       "      <td>2.746810e+05</td>\n",
       "      <td>274681.000000</td>\n",
       "      <td>274681.000000</td>\n",
       "      <td>274681.000000</td>\n",
       "    </tr>\n",
       "    <tr>\n",
       "      <th>mean</th>\n",
       "      <td>1.021978e+07</td>\n",
       "      <td>22.569517</td>\n",
       "      <td>458.181990</td>\n",
       "      <td>297.922004</td>\n",
       "      <td>19428.831732</td>\n",
       "      <td>3.373228e+06</td>\n",
       "      <td>168473.246981</td>\n",
       "      <td>35.341112</td>\n",
       "      <td>15045.669817</td>\n",
       "    </tr>\n",
       "    <tr>\n",
       "      <th>std</th>\n",
       "      <td>1.269829e+05</td>\n",
       "      <td>12.234298</td>\n",
       "      <td>288.386166</td>\n",
       "      <td>162.548986</td>\n",
       "      <td>21830.791423</td>\n",
       "      <td>3.439014e+06</td>\n",
       "      <td>100570.558886</td>\n",
       "      <td>12.578625</td>\n",
       "      <td>7962.727062</td>\n",
       "    </tr>\n",
       "    <tr>\n",
       "      <th>min</th>\n",
       "      <td>1.000038e+07</td>\n",
       "      <td>1.900000</td>\n",
       "      <td>20.730000</td>\n",
       "      <td>22.800000</td>\n",
       "      <td>1.000000</td>\n",
       "      <td>2.489680e+05</td>\n",
       "      <td>3643.000000</td>\n",
       "      <td>18.000000</td>\n",
       "      <td>2000.000000</td>\n",
       "    </tr>\n",
       "    <tr>\n",
       "      <th>25%</th>\n",
       "      <td>1.011084e+07</td>\n",
       "      <td>11.990000</td>\n",
       "      <td>226.680000</td>\n",
       "      <td>158.400000</td>\n",
       "      <td>2403.000000</td>\n",
       "      <td>6.712380e+05</td>\n",
       "      <td>80021.000000</td>\n",
       "      <td>25.000000</td>\n",
       "      <td>8439.000000</td>\n",
       "    </tr>\n",
       "    <tr>\n",
       "      <th>50%</th>\n",
       "      <td>1.021987e+07</td>\n",
       "      <td>22.440000</td>\n",
       "      <td>425.060000</td>\n",
       "      <td>295.596000</td>\n",
       "      <td>6445.000000</td>\n",
       "      <td>1.595037e+06</td>\n",
       "      <td>144132.000000</td>\n",
       "      <td>33.000000</td>\n",
       "      <td>14676.000000</td>\n",
       "    </tr>\n",
       "    <tr>\n",
       "      <th>75%</th>\n",
       "      <td>1.032939e+07</td>\n",
       "      <td>32.960000</td>\n",
       "      <td>633.880000</td>\n",
       "      <td>432.432000</td>\n",
       "      <td>38916.000000</td>\n",
       "      <td>8.405837e+06</td>\n",
       "      <td>302149.000000</td>\n",
       "      <td>42.000000</td>\n",
       "      <td>21023.000000</td>\n",
       "    </tr>\n",
       "    <tr>\n",
       "      <th>max</th>\n",
       "      <td>1.044011e+07</td>\n",
       "      <td>48.000000</td>\n",
       "      <td>2048.030000</td>\n",
       "      <td>691.200000</td>\n",
       "      <td>60000.000000</td>\n",
       "      <td>8.405837e+06</td>\n",
       "      <td>302149.000000</td>\n",
       "      <td>65.000000</td>\n",
       "      <td>34996.000000</td>\n",
       "    </tr>\n",
       "  </tbody>\n",
       "</table>\n",
       "</div>"
      ],
      "text/plain": [
       "       Transaction_ID   KM_Travelled  Price_Charged   Cost_of_Trip  \\\n",
       "count    2.746810e+05  274681.000000  274681.000000  274681.000000   \n",
       "mean     1.021978e+07      22.569517     458.181990     297.922004   \n",
       "std      1.269829e+05      12.234298     288.386166     162.548986   \n",
       "min      1.000038e+07       1.900000      20.730000      22.800000   \n",
       "25%      1.011084e+07      11.990000     226.680000     158.400000   \n",
       "50%      1.021987e+07      22.440000     425.060000     295.596000   \n",
       "75%      1.032939e+07      32.960000     633.880000     432.432000   \n",
       "max      1.044011e+07      48.000000    2048.030000     691.200000   \n",
       "\n",
       "         Customer_ID    Population          Users            Age  \\\n",
       "count  274681.000000  2.746810e+05  274681.000000  274681.000000   \n",
       "mean    19428.831732  3.373228e+06  168473.246981      35.341112   \n",
       "std     21830.791423  3.439014e+06  100570.558886      12.578625   \n",
       "min         1.000000  2.489680e+05    3643.000000      18.000000   \n",
       "25%      2403.000000  6.712380e+05   80021.000000      25.000000   \n",
       "50%      6445.000000  1.595037e+06  144132.000000      33.000000   \n",
       "75%     38916.000000  8.405837e+06  302149.000000      42.000000   \n",
       "max     60000.000000  8.405837e+06  302149.000000      65.000000   \n",
       "\n",
       "       Income_(USD/Month)  \n",
       "count       274681.000000  \n",
       "mean         15045.669817  \n",
       "std           7962.727062  \n",
       "min           2000.000000  \n",
       "25%           8439.000000  \n",
       "50%          14676.000000  \n",
       "75%          21023.000000  \n",
       "max          34996.000000  "
      ]
     },
     "execution_count": 36,
     "metadata": {},
     "output_type": "execute_result"
    }
   ],
   "source": [
    "yellow.describe()"
   ]
  },
  {
   "cell_type": "code",
   "execution_count": 37,
   "metadata": {},
   "outputs": [
    {
     "data": {
      "text/plain": [
       "<AxesSubplot:xlabel='Income_(USD/Month)', ylabel='Count'>"
      ]
     },
     "execution_count": 37,
     "metadata": {},
     "output_type": "execute_result"
    },
    {
     "data": {
      "image/png": "[encoded data removed]",
      "text/plain": [
       "<Figure size 1872x576 with 3 Axes>"
      ]
     },
     "metadata": {
      "needs_background": "light"
     },
     "output_type": "display_data"
    }
   ],
   "source": [
    "#The KDE curves and distribtion plots of selected variables with respect to Cab Firms drawn below.\n",
    "fig,axes = plt.subplots(1, 3 , figsize=(26,8), sharey=True)\n",
    "fig.suptitle('Distributions of Variables')\n",
    "sns.histplot(ax=axes[0], data=principal , x='Cost_of_Trip' , kde = True , hue=\"Company\")\n",
    "sns.histplot(ax=axes[1], data=principal , x='Price_Charged' , kde = True , hue=\"Company\")\n",
    "sns.histplot(ax=axes[2], data=principal , x='Income_(USD/Month)' , kde = True , hue=\"Company\") "
   ]
  },
  {
   "cell_type": "code",
   "execution_count": 38,
   "metadata": {},
   "outputs": [
    {
     "data": {
      "text/plain": [
       "<AxesSubplot:xlabel='KM_Travelled', ylabel='Count'>"
      ]
     },
     "execution_count": 38,
     "metadata": {},
     "output_type": "execute_result"
    },
    {
     "data": {
      "image/png": "[encoded data removed]",
      "text/plain": [
       "<Figure size 1584x648 with 2 Axes>"
      ]
     },
     "metadata": {
      "needs_background": "light"
     },
     "output_type": "display_data"
    }
   ],
   "source": [
    "#The KDE curves and distribtion plots of selected variables with respect to Cab Firms drawn below.\n",
    "fig,axes = plt.subplots(1, 2 ,figsize=(22,9), sharey=True)\n",
    "fig.suptitle('Distributions of Variables')\n",
    "sns.histplot(ax=axes[0],data=principal , x='Age' , kde = True , hue=\"Company\")\n",
    "sns.histplot(ax=axes[1], data=principal , x='KM_Travelled' , kde = True , hue=\"Company\")"
   ]
  },
  {
   "cell_type": "code",
   "execution_count": 39,
   "metadata": {},
   "outputs": [
    {
     "data": {
      "text/plain": [
       "<AxesSubplot:xlabel='Users', ylabel='Count'>"
      ]
     },
     "execution_count": 39,
     "metadata": {},
     "output_type": "execute_result"
    },
    {
     "data": {
      "image/png": "[encoded data removed]",
      "text/plain": [
       "<Figure size 1584x648 with 2 Axes>"
      ]
     },
     "metadata": {
      "needs_background": "light"
     },
     "output_type": "display_data"
    }
   ],
   "source": [
    "#The KDE curves and distribtion plots of selected variables with respect to Cab Firms drawn below.\n",
    "fig,axes = plt.subplots(1, 2 , figsize=(22 ,9), sharey=True)\n",
    "fig.suptitle('Distributions of Variables')\n",
    "sns.histplot(ax=axes[0], data=principal , x='Population' , kde = True , hue=\"Company\")\n",
    "sns.histplot(ax=axes[1], data=principal , x='Users' , kde = True , hue=\"Company\")"
   ]
  },
  {
   "cell_type": "code",
   "execution_count": null,
   "metadata": {},
   "outputs": [],
   "source": []
  },
  {
   "cell_type": "code",
   "execution_count": null,
   "metadata": {},
   "outputs": [],
   "source": []
  },
  {
   "cell_type": "code",
   "execution_count": null,
   "metadata": {},
   "outputs": [],
   "source": []
  },
  {
   "cell_type": "code",
   "execution_count": null,
   "metadata": {},
   "outputs": [],
   "source": []
  },
  {
   "cell_type": "code",
   "execution_count": null,
   "metadata": {},
   "outputs": [],
   "source": []
  },
  {
   "cell_type": "code",
   "execution_count": null,
   "metadata": {},
   "outputs": [],
   "source": []
  },
  {
   "cell_type": "code",
   "execution_count": null,
   "metadata": {},
   "outputs": [],
   "source": []
  },
  {
   "cell_type": "code",
   "execution_count": null,
   "metadata": {},
   "outputs": [],
   "source": []
  },
  {
   "cell_type": "code",
   "execution_count": null,
   "metadata": {},
   "outputs": [],
   "source": []
  },
  {
   "cell_type": "code",
   "execution_count": null,
   "metadata": {},
   "outputs": [],
   "source": []
  },
  {
   "cell_type": "code",
   "execution_count": null,
   "metadata": {},
   "outputs": [],
   "source": []
  },
  {
   "cell_type": "code",
   "execution_count": null,
   "metadata": {},
   "outputs": [],
   "source": []
  },
  {
   "cell_type": "code",
   "execution_count": null,
   "metadata": {},
   "outputs": [],
   "source": []
  },
  {
   "cell_type": "code",
   "execution_count": null,
   "metadata": {},
   "outputs": [],
   "source": []
  },
  {
   "cell_type": "code",
   "execution_count": null,
   "metadata": {
    "id": "P_KX910FhHC3"
   },
   "outputs": [],
   "source": []
  },
  {
   "cell_type": "code",
   "execution_count": null,
   "metadata": {
    "id": "Un9dqpHwhHGL"
   },
   "outputs": [],
   "source": []
  }
 ],
 "metadata": {
  "colab": {
   "name": "Copia di week_2",
   "provenance": []
  },
  "kernelspec": {
   "display_name": "Python 3",
   "language": "python",
   "name": "python3"
  },
  "language_info": {
   "codemirror_mode": {
    "name": "ipython",
    "version": 3
   },
   "file_extension": ".py",
   "mimetype": "text/x-python",
   "name": "python",
   "nbconvert_exporter": "python",
   "pygments_lexer": "ipython3",
   "version": "3.8.8"
  }
 },
 "nbformat": 4,
 "nbformat_minor": 1
}
