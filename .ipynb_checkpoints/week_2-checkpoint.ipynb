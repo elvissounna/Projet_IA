{
 "cells": [
  {
   "cell_type": "code",
   "execution_count": null,
   "metadata": {
    "colab": {
     "base_uri": "https://localhost:8080/"
    },
    "id": "FN6rmdC35Tw3",
    "outputId": "d9d7fdbf-57d4-4889-86f6-29d5a5cb18bf"
   },
   "outputs": [],
   "source": [
    "#from google.colab import drive\n",
    "#drive.mount(\"/content/drive\")"
   ]
  },
  {
   "cell_type": "code",
   "execution_count": 54,
   "metadata": {
    "id": "FFBr-U-KVw2U"
   },
   "outputs": [],
   "source": [
    "import os\n",
    "import pandas as pd\n",
    "import numpy as np\n",
    "import matplotlib_inline\n",
    "import matplotlib.pyplot as plt\n",
    "import seaborn as sns\n",
    "#os.chdir(\"/content/drive/MyDrive/DataSets/DataSets\")\n",
    "os.chdir(\"C:/Users/Admin/Documents/FRANCE/IA_SCHOOL/PROJET_IA\")"
   ]
  },
  {
   "cell_type": "code",
   "execution_count": null,
   "metadata": {
    "id": "GcdpyTuZ4JsE"
   },
   "outputs": [],
   "source": []
  },
  {
   "cell_type": "code",
   "execution_count": 2,
   "metadata": {
    "colab": {
     "base_uri": "https://localhost:8080/"
    },
    "id": "2Z5GcYhehGPS",
    "outputId": "87cde8af-86f1-40d9-8ca4-3de0bba10b9c"
   },
   "outputs": [
    {
     "name": "stdout",
     "output_type": "stream",
     "text": [
      "<class 'pandas.core.frame.DataFrame'>\n",
      "RangeIndex: 359392 entries, 0 to 359391\n",
      "Data columns (total 7 columns):\n",
      " #   Column          Non-Null Count   Dtype  \n",
      "---  ------          --------------   -----  \n",
      " 0   Transaction ID  359392 non-null  int64  \n",
      " 1   Date of Travel  359392 non-null  int64  \n",
      " 2   Company         359392 non-null  object \n",
      " 3   City            359392 non-null  object \n",
      " 4   KM Travelled    359392 non-null  float64\n",
      " 5   Price Charged   359392 non-null  float64\n",
      " 6   Cost of Trip    359392 non-null  float64\n",
      "dtypes: float64(3), int64(2), object(2)\n",
      "memory usage: 16.5+ MB\n"
     ]
    },
    {
     "data": {
      "text/plain": [
       "(359392, 7)"
      ]
     },
     "execution_count": 2,
     "metadata": {},
     "output_type": "execute_result"
    }
   ],
   "source": [
    "#Visualization and analysis of Cab_Data file.\n",
    "cab = pd.read_csv(\"Cab_Data_Old.csv\")\n",
    "cab.info()\n",
    "cab.shape"
   ]
  },
  {
   "cell_type": "code",
   "execution_count": null,
   "metadata": {
    "id": "FOpTZr5o4Ilt"
   },
   "outputs": [],
   "source": []
  },
  {
   "cell_type": "code",
   "execution_count": 4,
   "metadata": {
    "colab": {
     "base_uri": "https://localhost:8080/"
    },
    "id": "13ONsRvY-sKa",
    "outputId": "6c014feb-67a8-4148-b0d8-6dcd3143d786"
   },
   "outputs": [
    {
     "data": {
      "text/plain": [
       "Transaction ID    0\n",
       "Date of Travel    0\n",
       "Company           0\n",
       "City              0\n",
       "KM Travelled      0\n",
       "Price Charged     0\n",
       "Cost of Trip      0\n",
       "dtype: int64"
      ]
     },
     "execution_count": 4,
     "metadata": {},
     "output_type": "execute_result"
    }
   ],
   "source": [
    "# Visualisons le nombre de données manquantes pour chaque variable\n",
    "cab.isna().sum()\n"
   ]
  },
  {
   "cell_type": "code",
   "execution_count": 3,
   "metadata": {
    "id": "aGpmELYfhGbo"
   },
   "outputs": [
    {
     "name": "stdout",
     "output_type": "stream",
     "text": [
      "   Transaction ID  Date of Travel   Company        City  KM Travelled  \\\n",
      "0        10000011           42377  Pink Cab  ATLANTA GA         30.45   \n",
      "1        10000012           42375  Pink Cab  ATLANTA GA         28.62   \n",
      "2        10000013           42371  Pink Cab  ATLANTA GA          9.04   \n",
      "3        10000014           42376  Pink Cab  ATLANTA GA         33.17   \n",
      "4        10000015           42372  Pink Cab  ATLANTA GA          8.73   \n",
      "5        10000016           42376  Pink Cab  ATLANTA GA          6.06   \n",
      "6        10000017           42372  Pink Cab   AUSTIN TX         44.00   \n",
      "7        10000018           42376  Pink Cab   AUSTIN TX         35.65   \n",
      "8        10000019           42381  Pink Cab   BOSTON MA         14.40   \n",
      "9        10000020           42375  Pink Cab   BOSTON MA         10.89   \n",
      "\n",
      "   Price Charged  Cost of Trip  \n",
      "0         370.95       313.635  \n",
      "1         358.52       334.854  \n",
      "2         125.20        97.632  \n",
      "3         377.40       351.602  \n",
      "4         114.62        97.776  \n",
      "5          72.43        63.024  \n",
      "6         576.15       475.200  \n",
      "7         466.10       377.890  \n",
      "8         191.61       146.880  \n",
      "9         156.98       113.256  \n"
     ]
    }
   ],
   "source": [
    "#Affichons les premières lignes du DataSet ainsi que sa taille\n",
    "print(cab.head(10))"
   ]
  },
  {
   "cell_type": "code",
   "execution_count": 5,
   "metadata": {
    "colab": {
     "base_uri": "https://localhost:8080/"
    },
    "id": "0rLz3NeV_xZ_",
    "outputId": "3baf90f0-a1bd-4154-b1c1-a087754aeaae"
   },
   "outputs": [
    {
     "name": "stdout",
     "output_type": "stream",
     "text": [
      "int64\n"
     ]
    }
   ],
   "source": [
    "#On se sent effrayé par la manière dont la date a été enrégistrée. Du coup on va visualiser cette colonne\n",
    "print(cab[\"Date of Travel\"].dtypes)\n",
    "# On peut remarquer que le format n'est pas celui indiqué pour indiquer la date.\n",
    "# Nous allons donc le convertir"
   ]
  },
  {
   "cell_type": "code",
   "execution_count": null,
   "metadata": {
    "id": "aekxvwUC8m-f"
   },
   "outputs": [],
   "source": []
  },
  {
   "cell_type": "code",
   "execution_count": null,
   "metadata": {
    "id": "S3XmqPZe8n3e"
   },
   "outputs": [],
   "source": [
    "# Importons premièrement le package necessaire pour effectuer cette conversion"
   ]
  },
  {
   "cell_type": "code",
   "execution_count": 6,
   "metadata": {
    "id": "fIFPbKV87JSp"
   },
   "outputs": [],
   "source": [
    "from datetime import datetime, timedelta"
   ]
  },
  {
   "cell_type": "code",
   "execution_count": 7,
   "metadata": {
    "id": "YyB5hHyqJrEV"
   },
   "outputs": [],
   "source": [
    "def to_date_format(n):\n",
    "    date_str =(datetime(1899,12,30) + timedelta(n-1)).strftime(\"%d-%m-%Y\")\n",
    "    date_date =  datetime.strptime(date_str, \"%d-%m-%Y\")\n",
    "    return date_date\n",
    "\n"
   ]
  },
  {
   "cell_type": "code",
   "execution_count": 8,
   "metadata": {
    "id": "bwifLK2a7_xX"
   },
   "outputs": [],
   "source": [
    "cab['Date of Travel']=cab['Date of Travel'].apply(lambda x:to_date_format(x))"
   ]
  },
  {
   "cell_type": "code",
   "execution_count": 9,
   "metadata": {
    "colab": {
     "base_uri": "https://localhost:8080/",
     "height": 206
    },
    "id": "Lc34286E7zeW",
    "outputId": "efd1461d-b9d2-45b5-f1e6-38fca094bf0e"
   },
   "outputs": [
    {
     "data": {
      "text/html": [
       "<div>\n",
       "<style scoped>\n",
       "    .dataframe tbody tr th:only-of-type {\n",
       "        vertical-align: middle;\n",
       "    }\n",
       "\n",
       "    .dataframe tbody tr th {\n",
       "        vertical-align: top;\n",
       "    }\n",
       "\n",
       "    .dataframe thead th {\n",
       "        text-align: right;\n",
       "    }\n",
       "</style>\n",
       "<table border=\"1\" class=\"dataframe\">\n",
       "  <thead>\n",
       "    <tr style=\"text-align: right;\">\n",
       "      <th></th>\n",
       "      <th>Transaction ID</th>\n",
       "      <th>Date of Travel</th>\n",
       "      <th>Company</th>\n",
       "      <th>City</th>\n",
       "      <th>KM Travelled</th>\n",
       "      <th>Price Charged</th>\n",
       "      <th>Cost of Trip</th>\n",
       "    </tr>\n",
       "  </thead>\n",
       "  <tbody>\n",
       "    <tr>\n",
       "      <th>0</th>\n",
       "      <td>10000011</td>\n",
       "      <td>2016-01-07</td>\n",
       "      <td>Pink Cab</td>\n",
       "      <td>ATLANTA GA</td>\n",
       "      <td>30.45</td>\n",
       "      <td>370.95</td>\n",
       "      <td>313.635</td>\n",
       "    </tr>\n",
       "    <tr>\n",
       "      <th>1</th>\n",
       "      <td>10000012</td>\n",
       "      <td>2016-01-05</td>\n",
       "      <td>Pink Cab</td>\n",
       "      <td>ATLANTA GA</td>\n",
       "      <td>28.62</td>\n",
       "      <td>358.52</td>\n",
       "      <td>334.854</td>\n",
       "    </tr>\n",
       "    <tr>\n",
       "      <th>2</th>\n",
       "      <td>10000013</td>\n",
       "      <td>2016-01-01</td>\n",
       "      <td>Pink Cab</td>\n",
       "      <td>ATLANTA GA</td>\n",
       "      <td>9.04</td>\n",
       "      <td>125.20</td>\n",
       "      <td>97.632</td>\n",
       "    </tr>\n",
       "    <tr>\n",
       "      <th>3</th>\n",
       "      <td>10000014</td>\n",
       "      <td>2016-01-06</td>\n",
       "      <td>Pink Cab</td>\n",
       "      <td>ATLANTA GA</td>\n",
       "      <td>33.17</td>\n",
       "      <td>377.40</td>\n",
       "      <td>351.602</td>\n",
       "    </tr>\n",
       "    <tr>\n",
       "      <th>4</th>\n",
       "      <td>10000015</td>\n",
       "      <td>2016-01-02</td>\n",
       "      <td>Pink Cab</td>\n",
       "      <td>ATLANTA GA</td>\n",
       "      <td>8.73</td>\n",
       "      <td>114.62</td>\n",
       "      <td>97.776</td>\n",
       "    </tr>\n",
       "  </tbody>\n",
       "</table>\n",
       "</div>"
      ],
      "text/plain": [
       "   Transaction ID Date of Travel   Company        City  KM Travelled  \\\n",
       "0        10000011     2016-01-07  Pink Cab  ATLANTA GA         30.45   \n",
       "1        10000012     2016-01-05  Pink Cab  ATLANTA GA         28.62   \n",
       "2        10000013     2016-01-01  Pink Cab  ATLANTA GA          9.04   \n",
       "3        10000014     2016-01-06  Pink Cab  ATLANTA GA         33.17   \n",
       "4        10000015     2016-01-02  Pink Cab  ATLANTA GA          8.73   \n",
       "\n",
       "   Price Charged  Cost of Trip  \n",
       "0         370.95       313.635  \n",
       "1         358.52       334.854  \n",
       "2         125.20        97.632  \n",
       "3         377.40       351.602  \n",
       "4         114.62        97.776  "
      ]
     },
     "execution_count": 9,
     "metadata": {},
     "output_type": "execute_result"
    }
   ],
   "source": [
    "cab.head()"
   ]
  },
  {
   "cell_type": "code",
   "execution_count": 10,
   "metadata": {
    "colab": {
     "base_uri": "https://localhost:8080/"
    },
    "id": "hFMSlFnzGWvz",
    "outputId": "5a76adcf-cdde-4bb0-e282-0b9a92c2eaf1"
   },
   "outputs": [
    {
     "name": "stdout",
     "output_type": "stream",
     "text": [
      "datetime64[ns]\n"
     ]
    }
   ],
   "source": [
    "# revisualisons le dataset\n",
    "print(cab['Date of Travel'].dtypes)"
   ]
  },
  {
   "cell_type": "code",
   "execution_count": null,
   "metadata": {
    "id": "OI-JMNWo86RF"
   },
   "outputs": [],
   "source": []
  },
  {
   "cell_type": "code",
   "execution_count": null,
   "metadata": {
    "id": "g0NakCIn9ZN4"
   },
   "outputs": [],
   "source": [
    "# On peut classifier notre data set en fonction de la date par ordre croissant"
   ]
  },
  {
   "cell_type": "code",
   "execution_count": 11,
   "metadata": {
    "colab": {
     "base_uri": "https://localhost:8080/",
     "height": 380
    },
    "id": "tWnZU36E9R0p",
    "outputId": "dd503fa9-fee4-448c-c05c-9550e3611b69"
   },
   "outputs": [
    {
     "name": "stdout",
     "output_type": "stream",
     "text": [
      "(359392, 7)\n"
     ]
    },
    {
     "data": {
      "text/html": [
       "<div>\n",
       "<style scoped>\n",
       "    .dataframe tbody tr th:only-of-type {\n",
       "        vertical-align: middle;\n",
       "    }\n",
       "\n",
       "    .dataframe tbody tr th {\n",
       "        vertical-align: top;\n",
       "    }\n",
       "\n",
       "    .dataframe thead th {\n",
       "        text-align: right;\n",
       "    }\n",
       "</style>\n",
       "<table border=\"1\" class=\"dataframe\">\n",
       "  <thead>\n",
       "    <tr style=\"text-align: right;\">\n",
       "      <th></th>\n",
       "      <th>Transaction ID</th>\n",
       "      <th>Date of Travel</th>\n",
       "      <th>Company</th>\n",
       "      <th>City</th>\n",
       "      <th>KM Travelled</th>\n",
       "      <th>Price Charged</th>\n",
       "      <th>Cost of Trip</th>\n",
       "    </tr>\n",
       "  </thead>\n",
       "  <tbody>\n",
       "    <tr>\n",
       "      <th>0</th>\n",
       "      <td>10001340</td>\n",
       "      <td>2016-01-01</td>\n",
       "      <td>Yellow Cab</td>\n",
       "      <td>WASHINGTON DC</td>\n",
       "      <td>10.20</td>\n",
       "      <td>202.54</td>\n",
       "      <td>135.8640</td>\n",
       "    </tr>\n",
       "    <tr>\n",
       "      <th>1</th>\n",
       "      <td>10000640</td>\n",
       "      <td>2016-01-01</td>\n",
       "      <td>Yellow Cab</td>\n",
       "      <td>CHICAGO IL</td>\n",
       "      <td>15.60</td>\n",
       "      <td>374.66</td>\n",
       "      <td>209.6640</td>\n",
       "    </tr>\n",
       "    <tr>\n",
       "      <th>2</th>\n",
       "      <td>10000635</td>\n",
       "      <td>2016-01-01</td>\n",
       "      <td>Yellow Cab</td>\n",
       "      <td>CHICAGO IL</td>\n",
       "      <td>25.08</td>\n",
       "      <td>532.83</td>\n",
       "      <td>337.0752</td>\n",
       "    </tr>\n",
       "    <tr>\n",
       "      <th>3</th>\n",
       "      <td>10001001</td>\n",
       "      <td>2016-01-01</td>\n",
       "      <td>Yellow Cab</td>\n",
       "      <td>NEW YORK NY</td>\n",
       "      <td>46.80</td>\n",
       "      <td>1391.91</td>\n",
       "      <td>595.2960</td>\n",
       "    </tr>\n",
       "    <tr>\n",
       "      <th>4</th>\n",
       "      <td>10000171</td>\n",
       "      <td>2016-01-01</td>\n",
       "      <td>Pink Cab</td>\n",
       "      <td>SAN DIEGO CA</td>\n",
       "      <td>14.28</td>\n",
       "      <td>269.15</td>\n",
       "      <td>147.0840</td>\n",
       "    </tr>\n",
       "    <tr>\n",
       "      <th>5</th>\n",
       "      <td>10001009</td>\n",
       "      <td>2016-01-01</td>\n",
       "      <td>Yellow Cab</td>\n",
       "      <td>PHOENIX AZ</td>\n",
       "      <td>30.00</td>\n",
       "      <td>1000.52</td>\n",
       "      <td>403.2000</td>\n",
       "    </tr>\n",
       "    <tr>\n",
       "      <th>6</th>\n",
       "      <td>10000605</td>\n",
       "      <td>2016-01-01</td>\n",
       "      <td>Yellow Cab</td>\n",
       "      <td>CHICAGO IL</td>\n",
       "      <td>35.52</td>\n",
       "      <td>760.86</td>\n",
       "      <td>430.5024</td>\n",
       "    </tr>\n",
       "    <tr>\n",
       "      <th>7</th>\n",
       "      <td>10001014</td>\n",
       "      <td>2016-01-01</td>\n",
       "      <td>Yellow Cab</td>\n",
       "      <td>SACRAMENTO CA</td>\n",
       "      <td>38.00</td>\n",
       "      <td>1065.42</td>\n",
       "      <td>547.2000</td>\n",
       "    </tr>\n",
       "    <tr>\n",
       "      <th>8</th>\n",
       "      <td>10000600</td>\n",
       "      <td>2016-01-01</td>\n",
       "      <td>Yellow Cab</td>\n",
       "      <td>CHICAGO IL</td>\n",
       "      <td>23.75</td>\n",
       "      <td>531.25</td>\n",
       "      <td>336.3000</td>\n",
       "    </tr>\n",
       "    <tr>\n",
       "      <th>9</th>\n",
       "      <td>10000182</td>\n",
       "      <td>2016-01-01</td>\n",
       "      <td>Pink Cab</td>\n",
       "      <td>SAN DIEGO CA</td>\n",
       "      <td>2.36</td>\n",
       "      <td>47.89</td>\n",
       "      <td>23.6000</td>\n",
       "    </tr>\n",
       "  </tbody>\n",
       "</table>\n",
       "</div>"
      ],
      "text/plain": [
       "   Transaction ID Date of Travel     Company           City  KM Travelled  \\\n",
       "0        10001340     2016-01-01  Yellow Cab  WASHINGTON DC         10.20   \n",
       "1        10000640     2016-01-01  Yellow Cab     CHICAGO IL         15.60   \n",
       "2        10000635     2016-01-01  Yellow Cab     CHICAGO IL         25.08   \n",
       "3        10001001     2016-01-01  Yellow Cab    NEW YORK NY         46.80   \n",
       "4        10000171     2016-01-01    Pink Cab   SAN DIEGO CA         14.28   \n",
       "5        10001009     2016-01-01  Yellow Cab     PHOENIX AZ         30.00   \n",
       "6        10000605     2016-01-01  Yellow Cab     CHICAGO IL         35.52   \n",
       "7        10001014     2016-01-01  Yellow Cab  SACRAMENTO CA         38.00   \n",
       "8        10000600     2016-01-01  Yellow Cab     CHICAGO IL         23.75   \n",
       "9        10000182     2016-01-01    Pink Cab   SAN DIEGO CA          2.36   \n",
       "\n",
       "   Price Charged  Cost of Trip  \n",
       "0         202.54      135.8640  \n",
       "1         374.66      209.6640  \n",
       "2         532.83      337.0752  \n",
       "3        1391.91      595.2960  \n",
       "4         269.15      147.0840  \n",
       "5        1000.52      403.2000  \n",
       "6         760.86      430.5024  \n",
       "7        1065.42      547.2000  \n",
       "8         531.25      336.3000  \n",
       "9          47.89       23.6000  "
      ]
     },
     "execution_count": 11,
     "metadata": {},
     "output_type": "execute_result"
    }
   ],
   "source": [
    "cab = cab.sort_values(by = ['Date of Travel'])\n",
    "\n",
    "cab = cab.reset_index(drop = True )\n",
    "\n",
    "print(cab.shape)\n",
    "cab.head(10)"
   ]
  },
  {
   "cell_type": "code",
   "execution_count": 12,
   "metadata": {
    "colab": {
     "base_uri": "https://localhost:8080/",
     "height": 512
    },
    "id": "5i2v9yeChGe1",
    "outputId": "7370f62a-d86b-4c5f-e09d-77ace0cc4fa6"
   },
   "outputs": [
    {
     "name": "stderr",
     "output_type": "stream",
     "text": [
      "C:\\Users\\Admin\\AppData\\Local\\Temp/ipykernel_10796/470114121.py:2: FutureWarning: Treating datetime data as categorical rather than numeric in `.describe` is deprecated and will be removed in a future version of pandas. Specify `datetime_is_numeric=True` to silence this warning and adopt the future behavior now.\n",
      "  round(cab.describe(include = 'all'))\n"
     ]
    },
    {
     "data": {
      "text/html": [
       "<div>\n",
       "<style scoped>\n",
       "    .dataframe tbody tr th:only-of-type {\n",
       "        vertical-align: middle;\n",
       "    }\n",
       "\n",
       "    .dataframe tbody tr th {\n",
       "        vertical-align: top;\n",
       "    }\n",
       "\n",
       "    .dataframe thead th {\n",
       "        text-align: right;\n",
       "    }\n",
       "</style>\n",
       "<table border=\"1\" class=\"dataframe\">\n",
       "  <thead>\n",
       "    <tr style=\"text-align: right;\">\n",
       "      <th></th>\n",
       "      <th>Transaction ID</th>\n",
       "      <th>Date of Travel</th>\n",
       "      <th>Company</th>\n",
       "      <th>City</th>\n",
       "      <th>KM Travelled</th>\n",
       "      <th>Price Charged</th>\n",
       "      <th>Cost of Trip</th>\n",
       "    </tr>\n",
       "  </thead>\n",
       "  <tbody>\n",
       "    <tr>\n",
       "      <th>count</th>\n",
       "      <td>359392.0</td>\n",
       "      <td>359392</td>\n",
       "      <td>359392</td>\n",
       "      <td>359392</td>\n",
       "      <td>359392.0</td>\n",
       "      <td>359392.0</td>\n",
       "      <td>359392.0</td>\n",
       "    </tr>\n",
       "    <tr>\n",
       "      <th>unique</th>\n",
       "      <td>NaN</td>\n",
       "      <td>1095</td>\n",
       "      <td>2</td>\n",
       "      <td>19</td>\n",
       "      <td>NaN</td>\n",
       "      <td>NaN</td>\n",
       "      <td>NaN</td>\n",
       "    </tr>\n",
       "    <tr>\n",
       "      <th>top</th>\n",
       "      <td>NaN</td>\n",
       "      <td>2018-01-04 00:00:00</td>\n",
       "      <td>Yellow Cab</td>\n",
       "      <td>NEW YORK NY</td>\n",
       "      <td>NaN</td>\n",
       "      <td>NaN</td>\n",
       "      <td>NaN</td>\n",
       "    </tr>\n",
       "    <tr>\n",
       "      <th>freq</th>\n",
       "      <td>NaN</td>\n",
       "      <td>2022</td>\n",
       "      <td>274681</td>\n",
       "      <td>99885</td>\n",
       "      <td>NaN</td>\n",
       "      <td>NaN</td>\n",
       "      <td>NaN</td>\n",
       "    </tr>\n",
       "    <tr>\n",
       "      <th>first</th>\n",
       "      <td>NaN</td>\n",
       "      <td>2016-01-01 00:00:00</td>\n",
       "      <td>NaN</td>\n",
       "      <td>NaN</td>\n",
       "      <td>NaN</td>\n",
       "      <td>NaN</td>\n",
       "      <td>NaN</td>\n",
       "    </tr>\n",
       "    <tr>\n",
       "      <th>last</th>\n",
       "      <td>NaN</td>\n",
       "      <td>2018-12-30 00:00:00</td>\n",
       "      <td>NaN</td>\n",
       "      <td>NaN</td>\n",
       "      <td>NaN</td>\n",
       "      <td>NaN</td>\n",
       "      <td>NaN</td>\n",
       "    </tr>\n",
       "    <tr>\n",
       "      <th>mean</th>\n",
       "      <td>10220761.0</td>\n",
       "      <td>NaN</td>\n",
       "      <td>NaN</td>\n",
       "      <td>NaN</td>\n",
       "      <td>23.0</td>\n",
       "      <td>423.0</td>\n",
       "      <td>286.0</td>\n",
       "    </tr>\n",
       "    <tr>\n",
       "      <th>std</th>\n",
       "      <td>126806.0</td>\n",
       "      <td>NaN</td>\n",
       "      <td>NaN</td>\n",
       "      <td>NaN</td>\n",
       "      <td>12.0</td>\n",
       "      <td>274.0</td>\n",
       "      <td>158.0</td>\n",
       "    </tr>\n",
       "    <tr>\n",
       "      <th>min</th>\n",
       "      <td>10000011.0</td>\n",
       "      <td>NaN</td>\n",
       "      <td>NaN</td>\n",
       "      <td>NaN</td>\n",
       "      <td>2.0</td>\n",
       "      <td>16.0</td>\n",
       "      <td>19.0</td>\n",
       "    </tr>\n",
       "    <tr>\n",
       "      <th>25%</th>\n",
       "      <td>10110810.0</td>\n",
       "      <td>NaN</td>\n",
       "      <td>NaN</td>\n",
       "      <td>NaN</td>\n",
       "      <td>12.0</td>\n",
       "      <td>206.0</td>\n",
       "      <td>151.0</td>\n",
       "    </tr>\n",
       "    <tr>\n",
       "      <th>50%</th>\n",
       "      <td>10221036.0</td>\n",
       "      <td>NaN</td>\n",
       "      <td>NaN</td>\n",
       "      <td>NaN</td>\n",
       "      <td>22.0</td>\n",
       "      <td>386.0</td>\n",
       "      <td>282.0</td>\n",
       "    </tr>\n",
       "    <tr>\n",
       "      <th>75%</th>\n",
       "      <td>10330937.0</td>\n",
       "      <td>NaN</td>\n",
       "      <td>NaN</td>\n",
       "      <td>NaN</td>\n",
       "      <td>33.0</td>\n",
       "      <td>584.0</td>\n",
       "      <td>414.0</td>\n",
       "    </tr>\n",
       "    <tr>\n",
       "      <th>max</th>\n",
       "      <td>10440107.0</td>\n",
       "      <td>NaN</td>\n",
       "      <td>NaN</td>\n",
       "      <td>NaN</td>\n",
       "      <td>48.0</td>\n",
       "      <td>2048.0</td>\n",
       "      <td>691.0</td>\n",
       "    </tr>\n",
       "  </tbody>\n",
       "</table>\n",
       "</div>"
      ],
      "text/plain": [
       "        Transaction ID       Date of Travel     Company         City  \\\n",
       "count         359392.0               359392      359392       359392   \n",
       "unique             NaN                 1095           2           19   \n",
       "top                NaN  2018-01-04 00:00:00  Yellow Cab  NEW YORK NY   \n",
       "freq               NaN                 2022      274681        99885   \n",
       "first              NaN  2016-01-01 00:00:00         NaN          NaN   \n",
       "last               NaN  2018-12-30 00:00:00         NaN          NaN   \n",
       "mean        10220761.0                  NaN         NaN          NaN   \n",
       "std           126806.0                  NaN         NaN          NaN   \n",
       "min         10000011.0                  NaN         NaN          NaN   \n",
       "25%         10110810.0                  NaN         NaN          NaN   \n",
       "50%         10221036.0                  NaN         NaN          NaN   \n",
       "75%         10330937.0                  NaN         NaN          NaN   \n",
       "max         10440107.0                  NaN         NaN          NaN   \n",
       "\n",
       "        KM Travelled  Price Charged  Cost of Trip  \n",
       "count       359392.0       359392.0      359392.0  \n",
       "unique           NaN            NaN           NaN  \n",
       "top              NaN            NaN           NaN  \n",
       "freq             NaN            NaN           NaN  \n",
       "first            NaN            NaN           NaN  \n",
       "last             NaN            NaN           NaN  \n",
       "mean            23.0          423.0         286.0  \n",
       "std             12.0          274.0         158.0  \n",
       "min              2.0           16.0          19.0  \n",
       "25%             12.0          206.0         151.0  \n",
       "50%             22.0          386.0         282.0  \n",
       "75%             33.0          584.0         414.0  \n",
       "max             48.0         2048.0         691.0  "
      ]
     },
     "execution_count": 12,
     "metadata": {},
     "output_type": "execute_result"
    }
   ],
   "source": [
    "# On peut faire une visions statistique élémentaire globale sur notre jeu de données avec la fonction roun pour plus joli\n",
    "round(cab.describe(include = 'all'))"
   ]
  },
  {
   "cell_type": "code",
   "execution_count": 13,
   "metadata": {
    "id": "_dqGWrRfjjvb"
   },
   "outputs": [
    {
     "name": "stdout",
     "output_type": "stream",
     "text": [
      "\n",
      "Feature's datatypes\n",
      "\n",
      "Transaction ID             int64\n",
      "Date of Travel    datetime64[ns]\n",
      "Company                   object\n",
      "City                      object\n",
      "KM Travelled             float64\n",
      "Price Charged            float64\n",
      "Cost of Trip             float64\n",
      "dtype: object\n"
     ]
    }
   ],
   "source": [
    "print(\"\\nFeature's datatypes\\n\\n{}\".format(cab.dtypes))"
   ]
  },
  {
   "cell_type": "code",
   "execution_count": 16,
   "metadata": {},
   "outputs": [
    {
     "name": "stdout",
     "output_type": "stream",
     "text": [
      "Cab dataset has 359392 entries , 7 features\n"
     ]
    }
   ],
   "source": [
    "\n",
    "print('Cab dataset has {} entries , {} features'.format(cab.shape[0] ,cab.shape[1]))"
   ]
  },
  {
   "cell_type": "code",
   "execution_count": null,
   "metadata": {
    "id": "tmT4mb79jj2b"
   },
   "outputs": [],
   "source": [
    "#Visualisation of City.csv file"
   ]
  },
  {
   "cell_type": "code",
   "execution_count": 17,
   "metadata": {
    "colab": {
     "base_uri": "https://localhost:8080/"
    },
    "id": "Wx4Uc87AhGiD",
    "outputId": "a1a0c04f-6b5c-4331-cd3c-bcec3963c7db"
   },
   "outputs": [
    {
     "name": "stdout",
     "output_type": "stream",
     "text": [
      "<class 'pandas.core.frame.DataFrame'>\n",
      "RangeIndex: 20 entries, 0 to 19\n",
      "Data columns (total 3 columns):\n",
      " #   Column      Non-Null Count  Dtype \n",
      "---  ------      --------------  ----- \n",
      " 0   City        20 non-null     object\n",
      " 1   Population  20 non-null     object\n",
      " 2   Users       20 non-null     object\n",
      "dtypes: object(3)\n",
      "memory usage: 304.0+ bytes\n",
      "None\n",
      "(20, 3)\n"
     ]
    }
   ],
   "source": [
    "city = pd.read_csv(\"City.csv\")\n",
    "print(city.info())\n",
    "print(city.shape)"
   ]
  },
  {
   "cell_type": "code",
   "execution_count": 18,
   "metadata": {},
   "outputs": [
    {
     "data": {
      "text/html": [
       "<div>\n",
       "<style scoped>\n",
       "    .dataframe tbody tr th:only-of-type {\n",
       "        vertical-align: middle;\n",
       "    }\n",
       "\n",
       "    .dataframe tbody tr th {\n",
       "        vertical-align: top;\n",
       "    }\n",
       "\n",
       "    .dataframe thead th {\n",
       "        text-align: right;\n",
       "    }\n",
       "</style>\n",
       "<table border=\"1\" class=\"dataframe\">\n",
       "  <thead>\n",
       "    <tr style=\"text-align: right;\">\n",
       "      <th></th>\n",
       "      <th>City</th>\n",
       "      <th>Population</th>\n",
       "      <th>Users</th>\n",
       "    </tr>\n",
       "  </thead>\n",
       "  <tbody>\n",
       "    <tr>\n",
       "      <th>0</th>\n",
       "      <td>NEW YORK NY</td>\n",
       "      <td>8,405,837</td>\n",
       "      <td>302,149</td>\n",
       "    </tr>\n",
       "    <tr>\n",
       "      <th>1</th>\n",
       "      <td>CHICAGO IL</td>\n",
       "      <td>1,955,130</td>\n",
       "      <td>164,468</td>\n",
       "    </tr>\n",
       "    <tr>\n",
       "      <th>2</th>\n",
       "      <td>LOS ANGELES CA</td>\n",
       "      <td>1,595,037</td>\n",
       "      <td>144,132</td>\n",
       "    </tr>\n",
       "    <tr>\n",
       "      <th>3</th>\n",
       "      <td>MIAMI FL</td>\n",
       "      <td>1,339,155</td>\n",
       "      <td>17,675</td>\n",
       "    </tr>\n",
       "    <tr>\n",
       "      <th>4</th>\n",
       "      <td>SILICON VALLEY</td>\n",
       "      <td>1,177,609</td>\n",
       "      <td>27,247</td>\n",
       "    </tr>\n",
       "    <tr>\n",
       "      <th>5</th>\n",
       "      <td>ORANGE COUNTY</td>\n",
       "      <td>1,030,185</td>\n",
       "      <td>12,994</td>\n",
       "    </tr>\n",
       "    <tr>\n",
       "      <th>6</th>\n",
       "      <td>SAN DIEGO CA</td>\n",
       "      <td>959,307</td>\n",
       "      <td>69,995</td>\n",
       "    </tr>\n",
       "    <tr>\n",
       "      <th>7</th>\n",
       "      <td>PHOENIX AZ</td>\n",
       "      <td>943,999</td>\n",
       "      <td>6,133</td>\n",
       "    </tr>\n",
       "    <tr>\n",
       "      <th>8</th>\n",
       "      <td>DALLAS TX</td>\n",
       "      <td>942,908</td>\n",
       "      <td>22,157</td>\n",
       "    </tr>\n",
       "    <tr>\n",
       "      <th>9</th>\n",
       "      <td>ATLANTA GA</td>\n",
       "      <td>814,885</td>\n",
       "      <td>24,701</td>\n",
       "    </tr>\n",
       "  </tbody>\n",
       "</table>\n",
       "</div>"
      ],
      "text/plain": [
       "             City   Population      Users\n",
       "0     NEW YORK NY   8,405,837    302,149 \n",
       "1      CHICAGO IL   1,955,130    164,468 \n",
       "2  LOS ANGELES CA   1,595,037    144,132 \n",
       "3        MIAMI FL   1,339,155     17,675 \n",
       "4  SILICON VALLEY   1,177,609     27,247 \n",
       "5   ORANGE COUNTY   1,030,185     12,994 \n",
       "6    SAN DIEGO CA     959,307     69,995 \n",
       "7      PHOENIX AZ     943,999      6,133 \n",
       "8       DALLAS TX     942,908     22,157 \n",
       "9      ATLANTA GA     814,885     24,701 "
      ]
     },
     "execution_count": 18,
     "metadata": {},
     "output_type": "execute_result"
    }
   ],
   "source": [
    "city.head(10)"
   ]
  },
  {
   "cell_type": "code",
   "execution_count": null,
   "metadata": {},
   "outputs": [],
   "source": []
  },
  {
   "cell_type": "code",
   "execution_count": null,
   "metadata": {
    "id": "XTobrPhJkW2K"
   },
   "outputs": [],
   "source": [
    "# On remarque la présence des virgules entre les valeurs des variables Population et Users.\n",
    "# Pour cela nous allons les transormer en float afin de ne pas avoir d'ennuie lors de l'élaboration des calculs statistiques"
   ]
  },
  {
   "cell_type": "code",
   "execution_count": 19,
   "metadata": {
    "id": "BT2MWsrsA9KQ"
   },
   "outputs": [],
   "source": [
    "city['Population'] = [x.replace(',','') for x in city['Population']]\n",
    "city['Users'] = [x.replace(',','') for x in city['Users']]\n",
    "city['Population'] = city['Population'].astype(float)\n",
    "city['Users'] = city['Users'].astype(float)"
   ]
  },
  {
   "cell_type": "code",
   "execution_count": 21,
   "metadata": {
    "id": "QV93yP-uBcRh",
    "scrolled": true
   },
   "outputs": [
    {
     "data": {
      "text/html": [
       "<div>\n",
       "<style scoped>\n",
       "    .dataframe tbody tr th:only-of-type {\n",
       "        vertical-align: middle;\n",
       "    }\n",
       "\n",
       "    .dataframe tbody tr th {\n",
       "        vertical-align: top;\n",
       "    }\n",
       "\n",
       "    .dataframe thead th {\n",
       "        text-align: right;\n",
       "    }\n",
       "</style>\n",
       "<table border=\"1\" class=\"dataframe\">\n",
       "  <thead>\n",
       "    <tr style=\"text-align: right;\">\n",
       "      <th></th>\n",
       "      <th>City</th>\n",
       "      <th>Population</th>\n",
       "      <th>Users</th>\n",
       "    </tr>\n",
       "  </thead>\n",
       "  <tbody>\n",
       "    <tr>\n",
       "      <th>0</th>\n",
       "      <td>NEW YORK NY</td>\n",
       "      <td>8405837.0</td>\n",
       "      <td>302149.0</td>\n",
       "    </tr>\n",
       "    <tr>\n",
       "      <th>1</th>\n",
       "      <td>CHICAGO IL</td>\n",
       "      <td>1955130.0</td>\n",
       "      <td>164468.0</td>\n",
       "    </tr>\n",
       "    <tr>\n",
       "      <th>2</th>\n",
       "      <td>LOS ANGELES CA</td>\n",
       "      <td>1595037.0</td>\n",
       "      <td>144132.0</td>\n",
       "    </tr>\n",
       "    <tr>\n",
       "      <th>3</th>\n",
       "      <td>MIAMI FL</td>\n",
       "      <td>1339155.0</td>\n",
       "      <td>17675.0</td>\n",
       "    </tr>\n",
       "    <tr>\n",
       "      <th>4</th>\n",
       "      <td>SILICON VALLEY</td>\n",
       "      <td>1177609.0</td>\n",
       "      <td>27247.0</td>\n",
       "    </tr>\n",
       "    <tr>\n",
       "      <th>5</th>\n",
       "      <td>ORANGE COUNTY</td>\n",
       "      <td>1030185.0</td>\n",
       "      <td>12994.0</td>\n",
       "    </tr>\n",
       "    <tr>\n",
       "      <th>6</th>\n",
       "      <td>SAN DIEGO CA</td>\n",
       "      <td>959307.0</td>\n",
       "      <td>69995.0</td>\n",
       "    </tr>\n",
       "    <tr>\n",
       "      <th>7</th>\n",
       "      <td>PHOENIX AZ</td>\n",
       "      <td>943999.0</td>\n",
       "      <td>6133.0</td>\n",
       "    </tr>\n",
       "    <tr>\n",
       "      <th>8</th>\n",
       "      <td>DALLAS TX</td>\n",
       "      <td>942908.0</td>\n",
       "      <td>22157.0</td>\n",
       "    </tr>\n",
       "    <tr>\n",
       "      <th>9</th>\n",
       "      <td>ATLANTA GA</td>\n",
       "      <td>814885.0</td>\n",
       "      <td>24701.0</td>\n",
       "    </tr>\n",
       "  </tbody>\n",
       "</table>\n",
       "</div>"
      ],
      "text/plain": [
       "             City  Population     Users\n",
       "0     NEW YORK NY   8405837.0  302149.0\n",
       "1      CHICAGO IL   1955130.0  164468.0\n",
       "2  LOS ANGELES CA   1595037.0  144132.0\n",
       "3        MIAMI FL   1339155.0   17675.0\n",
       "4  SILICON VALLEY   1177609.0   27247.0\n",
       "5   ORANGE COUNTY   1030185.0   12994.0\n",
       "6    SAN DIEGO CA    959307.0   69995.0\n",
       "7      PHOENIX AZ    943999.0    6133.0\n",
       "8       DALLAS TX    942908.0   22157.0\n",
       "9      ATLANTA GA    814885.0   24701.0"
      ]
     },
     "execution_count": 21,
     "metadata": {},
     "output_type": "execute_result"
    }
   ],
   "source": [
    "city.head(10)"
   ]
  },
  {
   "cell_type": "code",
   "execution_count": 20,
   "metadata": {
    "colab": {
     "base_uri": "https://localhost:8080/"
    },
    "id": "jX9HGFuEBK4f",
    "outputId": "92366f6b-a907-4d41-fa46-f6bfe6032ba5"
   },
   "outputs": [
    {
     "data": {
      "text/plain": [
       "City           object\n",
       "Population    float64\n",
       "Users         float64\n",
       "dtype: object"
      ]
     },
     "execution_count": 20,
     "metadata": {},
     "output_type": "execute_result"
    }
   ],
   "source": [
    "# On peut maintenant vérifier si le type a effectivement changer\n",
    "city.dtypes"
   ]
  },
  {
   "cell_type": "code",
   "execution_count": null,
   "metadata": {},
   "outputs": [],
   "source": []
  },
  {
   "cell_type": "code",
   "execution_count": null,
   "metadata": {
    "id": "Cj7-fF3ckW-U"
   },
   "outputs": [],
   "source": [
    "#Visualisation and analysis of Customer_ID.csv"
   ]
  },
  {
   "cell_type": "code",
   "execution_count": 26,
   "metadata": {
    "colab": {
     "base_uri": "https://localhost:8080/"
    },
    "id": "oYPiEWdOkXA5",
    "outputId": "f3866f64-5eb2-4b9f-b642-742ef9381043"
   },
   "outputs": [
    {
     "name": "stdout",
     "output_type": "stream",
     "text": [
      "    Customer ID Gender  Age  Income (USD/Month)\n",
      "0         29290   Male   28               10813\n",
      "1         27703   Male   27                9237\n",
      "2         28712   Male   53               11242\n",
      "3         28020   Male   23               23327\n",
      "4         27182   Male   33                8536\n",
      "5         27318   Male   25               13984\n",
      "6         33788   Male   23               23788\n",
      "7         34106   Male   19               19980\n",
      "8         59799   Male   33               19271\n",
      "9         57982   Male   57                5068\n",
      "10        58774   Male   20               23602\n",
      "11        58627   Male   28               27338\n",
      "12        59007   Male   63                6683\n",
      "13        58215   Male   25                6862\n",
      "14        59372   Male   53                4912\n",
      "\n",
      " \n",
      "Customer ID            int64\n",
      "Gender                object\n",
      "Age                    int64\n",
      "Income (USD/Month)     int64\n",
      "dtype: object\n"
     ]
    }
   ],
   "source": [
    "customer = pd.read_csv(\"Customer_ID.csv\")\n",
    "print(customer.head(15))\n",
    "print(\"\\n \\n{}\".format(customer.dtypes))"
   ]
  },
  {
   "cell_type": "code",
   "execution_count": null,
   "metadata": {
    "id": "8wd0ICKZkXDj"
   },
   "outputs": [],
   "source": []
  },
  {
   "cell_type": "code",
   "execution_count": null,
   "metadata": {
    "id": "JeSKqot1kXGU"
   },
   "outputs": [],
   "source": [
    "# Visualisation and analysis of Transaction_ID.csv file  "
   ]
  },
  {
   "cell_type": "code",
   "execution_count": 27,
   "metadata": {
    "colab": {
     "base_uri": "https://localhost:8080/"
    },
    "id": "6GZatdq4kXI-",
    "outputId": "d34617e6-a18d-406c-8fa0-97079f383ef3"
   },
   "outputs": [
    {
     "name": "stdout",
     "output_type": "stream",
     "text": [
      "    Transaction ID  Customer ID Payment_Mode\n",
      "0         10000011        29290         Card\n",
      "1         10000012        27703         Card\n",
      "2         10000013        28712         Cash\n",
      "3         10000014        28020         Cash\n",
      "4         10000015        27182         Card\n",
      "5         10000016        27318         Cash\n",
      "6         10000017        33788         Card\n",
      "7         10000018        34106         Card\n",
      "8         10000019        59799         Cash\n",
      "9         10000020        57982         Cash\n",
      "10        10000021        58774         Cash\n",
      "11        10000022        58627         Card\n",
      "12        10000023        59007         Card\n",
      "13        10000024        58215         Cash\n",
      "14        10000025        59372         Cash\n",
      "(440098, 3)\n"
     ]
    }
   ],
   "source": [
    "transaction = pd.read_csv(\"Transaction_ID.csv\")\n",
    "print(transaction.head(15))\n",
    "print(transaction.shape)"
   ]
  },
  {
   "cell_type": "code",
   "execution_count": 30,
   "metadata": {
    "id": "fIJkpEsUkXRu"
   },
   "outputs": [
    {
     "name": "stdout",
     "output_type": "stream",
     "text": [
      "\n",
      " \n",
      "Transaction ID     int64\n",
      "Customer ID        int64\n",
      "Payment_Mode      object\n",
      "dtype: object\n"
     ]
    }
   ],
   "source": [
    "print(\"\\n \\n{}\".format(transaction.dtypes) )"
   ]
  },
  {
   "cell_type": "code",
   "execution_count": null,
   "metadata": {},
   "outputs": [],
   "source": []
  },
  {
   "cell_type": "markdown",
   "metadata": {},
   "source": [
    "# On peut maintenant fusionner nos 4 Datasets en un seul afin d'avoir une vue générale des données"
   ]
  },
  {
   "cell_type": "code",
   "execution_count": null,
   "metadata": {},
   "outputs": [],
   "source": [
    "# Pour ce faire, afin dìavoir face à noustoutes les colonnes. on va afficher\n",
    "#juste les premières lignes de chacun de nos 4 datasets."
   ]
  },
  {
   "cell_type": "code",
   "execution_count": 35,
   "metadata": {},
   "outputs": [
    {
     "data": {
      "text/html": [
       "<div>\n",
       "<style scoped>\n",
       "    .dataframe tbody tr th:only-of-type {\n",
       "        vertical-align: middle;\n",
       "    }\n",
       "\n",
       "    .dataframe tbody tr th {\n",
       "        vertical-align: top;\n",
       "    }\n",
       "\n",
       "    .dataframe thead th {\n",
       "        text-align: right;\n",
       "    }\n",
       "</style>\n",
       "<table border=\"1\" class=\"dataframe\">\n",
       "  <thead>\n",
       "    <tr style=\"text-align: right;\">\n",
       "      <th></th>\n",
       "      <th>Transaction ID</th>\n",
       "      <th>Date of Travel</th>\n",
       "      <th>Company</th>\n",
       "      <th>City</th>\n",
       "      <th>KM Travelled</th>\n",
       "      <th>Price Charged</th>\n",
       "      <th>Cost of Trip</th>\n",
       "    </tr>\n",
       "  </thead>\n",
       "  <tbody>\n",
       "    <tr>\n",
       "      <th>0</th>\n",
       "      <td>10001340</td>\n",
       "      <td>2016-01-01</td>\n",
       "      <td>Yellow Cab</td>\n",
       "      <td>WASHINGTON DC</td>\n",
       "      <td>10.2</td>\n",
       "      <td>202.54</td>\n",
       "      <td>135.864</td>\n",
       "    </tr>\n",
       "  </tbody>\n",
       "</table>\n",
       "</div>"
      ],
      "text/plain": [
       "   Transaction ID Date of Travel     Company           City  KM Travelled  \\\n",
       "0        10001340     2016-01-01  Yellow Cab  WASHINGTON DC          10.2   \n",
       "\n",
       "   Price Charged  Cost of Trip  \n",
       "0         202.54       135.864  "
      ]
     },
     "execution_count": 35,
     "metadata": {},
     "output_type": "execute_result"
    }
   ],
   "source": [
    "cab.head(1)"
   ]
  },
  {
   "cell_type": "code",
   "execution_count": 36,
   "metadata": {},
   "outputs": [
    {
     "data": {
      "text/html": [
       "<div>\n",
       "<style scoped>\n",
       "    .dataframe tbody tr th:only-of-type {\n",
       "        vertical-align: middle;\n",
       "    }\n",
       "\n",
       "    .dataframe tbody tr th {\n",
       "        vertical-align: top;\n",
       "    }\n",
       "\n",
       "    .dataframe thead th {\n",
       "        text-align: right;\n",
       "    }\n",
       "</style>\n",
       "<table border=\"1\" class=\"dataframe\">\n",
       "  <thead>\n",
       "    <tr style=\"text-align: right;\">\n",
       "      <th></th>\n",
       "      <th>Customer ID</th>\n",
       "      <th>Gender</th>\n",
       "      <th>Age</th>\n",
       "      <th>Income (USD/Month)</th>\n",
       "    </tr>\n",
       "  </thead>\n",
       "  <tbody>\n",
       "    <tr>\n",
       "      <th>0</th>\n",
       "      <td>29290</td>\n",
       "      <td>Male</td>\n",
       "      <td>28</td>\n",
       "      <td>10813</td>\n",
       "    </tr>\n",
       "  </tbody>\n",
       "</table>\n",
       "</div>"
      ],
      "text/plain": [
       "   Customer ID Gender  Age  Income (USD/Month)\n",
       "0        29290   Male   28               10813"
      ]
     },
     "execution_count": 36,
     "metadata": {},
     "output_type": "execute_result"
    }
   ],
   "source": [
    "customer.head(1)"
   ]
  },
  {
   "cell_type": "code",
   "execution_count": 37,
   "metadata": {},
   "outputs": [
    {
     "data": {
      "text/html": [
       "<div>\n",
       "<style scoped>\n",
       "    .dataframe tbody tr th:only-of-type {\n",
       "        vertical-align: middle;\n",
       "    }\n",
       "\n",
       "    .dataframe tbody tr th {\n",
       "        vertical-align: top;\n",
       "    }\n",
       "\n",
       "    .dataframe thead th {\n",
       "        text-align: right;\n",
       "    }\n",
       "</style>\n",
       "<table border=\"1\" class=\"dataframe\">\n",
       "  <thead>\n",
       "    <tr style=\"text-align: right;\">\n",
       "      <th></th>\n",
       "      <th>City</th>\n",
       "      <th>Population</th>\n",
       "      <th>Users</th>\n",
       "    </tr>\n",
       "  </thead>\n",
       "  <tbody>\n",
       "    <tr>\n",
       "      <th>0</th>\n",
       "      <td>NEW YORK NY</td>\n",
       "      <td>8405837.0</td>\n",
       "      <td>302149.0</td>\n",
       "    </tr>\n",
       "  </tbody>\n",
       "</table>\n",
       "</div>"
      ],
      "text/plain": [
       "          City  Population     Users\n",
       "0  NEW YORK NY   8405837.0  302149.0"
      ]
     },
     "execution_count": 37,
     "metadata": {},
     "output_type": "execute_result"
    }
   ],
   "source": [
    "city.head(1)"
   ]
  },
  {
   "cell_type": "code",
   "execution_count": 38,
   "metadata": {},
   "outputs": [
    {
     "data": {
      "text/html": [
       "<div>\n",
       "<style scoped>\n",
       "    .dataframe tbody tr th:only-of-type {\n",
       "        vertical-align: middle;\n",
       "    }\n",
       "\n",
       "    .dataframe tbody tr th {\n",
       "        vertical-align: top;\n",
       "    }\n",
       "\n",
       "    .dataframe thead th {\n",
       "        text-align: right;\n",
       "    }\n",
       "</style>\n",
       "<table border=\"1\" class=\"dataframe\">\n",
       "  <thead>\n",
       "    <tr style=\"text-align: right;\">\n",
       "      <th></th>\n",
       "      <th>Transaction ID</th>\n",
       "      <th>Customer ID</th>\n",
       "      <th>Payment_Mode</th>\n",
       "    </tr>\n",
       "  </thead>\n",
       "  <tbody>\n",
       "    <tr>\n",
       "      <th>0</th>\n",
       "      <td>10000011</td>\n",
       "      <td>29290</td>\n",
       "      <td>Card</td>\n",
       "    </tr>\n",
       "  </tbody>\n",
       "</table>\n",
       "</div>"
      ],
      "text/plain": [
       "   Transaction ID  Customer ID Payment_Mode\n",
       "0        10000011        29290         Card"
      ]
     },
     "execution_count": 38,
     "metadata": {},
     "output_type": "execute_result"
    }
   ],
   "source": [
    "transaction.head(1)"
   ]
  },
  {
   "cell_type": "code",
   "execution_count": 46,
   "metadata": {},
   "outputs": [
    {
     "name": "stdout",
     "output_type": "stream",
     "text": [
      "bjr 5Imany\n"
     ]
    }
   ],
   "source": [
    "print(\"bjr {}Imany\".format(5))"
   ]
  },
  {
   "cell_type": "code",
   "execution_count": null,
   "metadata": {},
   "outputs": [],
   "source": []
  },
  {
   "cell_type": "code",
   "execution_count": 49,
   "metadata": {},
   "outputs": [
    {
     "name": "stdout",
     "output_type": "stream",
     "text": [
      "Le Dataset principal  359392 enrégistrements, 14 colonnes, Transaction ID        0\n",
      "Date of Travel        0\n",
      "Company               0\n",
      "City                  0\n",
      "KM Travelled          0\n",
      "Price Charged         0\n",
      "Cost of Trip          0\n",
      "Customer ID           0\n",
      "Payment_Mode          0\n",
      "Population            0\n",
      "Users                 0\n",
      "Gender                0\n",
      "Age                   0\n",
      "Income (USD/Month)    0\n",
      "dtype: int64 valeurs manquantes\n"
     ]
    },
    {
     "data": {
      "text/plain": [
       "Transaction ID                 int64\n",
       "Date of Travel        datetime64[ns]\n",
       "Company                       object\n",
       "City                          object\n",
       "KM Travelled                 float64\n",
       "Price Charged                float64\n",
       "Cost of Trip                 float64\n",
       "Customer ID                    int64\n",
       "Payment_Mode                  object\n",
       "Population                   float64\n",
       "Users                        float64\n",
       "Gender                        object\n",
       "Age                            int64\n",
       "Income (USD/Month)             int64\n",
       "dtype: object"
      ]
     },
     "execution_count": 49,
     "metadata": {},
     "output_type": "execute_result"
    }
   ],
   "source": [
    "principal= cab.merge(transaction, on=\"Transaction ID\").merge(city, on= \"City\").merge(customer, on= \"Customer ID\")\n",
    "\n",
    "print(\"Le Dataset principal  {} enrégistrements, {} colonnes, {} valeurs manquantes\".format(principal.shape[0], principal.shape[1],principal.isna().sum()))\n",
    "\n",
    "principal.dtypes"
   ]
  },
  {
   "cell_type": "code",
   "execution_count": null,
   "metadata": {},
   "outputs": [],
   "source": []
  },
  {
   "cell_type": "markdown",
   "metadata": {},
   "source": [
    "## Etudes et analyses statistiques\n",
    "\n",
    "Nous passons maintenant aux différentes études statistiques. Nous nnous concentrons plus sur les différentes thématiques: Distribution, Valeurs abérantes, Correlation, Covariance..."
   ]
  },
  {
   "cell_type": "markdown",
   "metadata": {},
   "source": [
    "Avant de tout commencer, on va visualiser le dataset principal et effectuer les dernières opérations de nettoyage telles ques: Renommer les features dans le but d'éliminer les espaces, Se rassurer des types de données si elles sont en ligne avec les attentes et principes de la statistique."
   ]
  },
  {
   "cell_type": "code",
   "execution_count": 50,
   "metadata": {},
   "outputs": [
    {
     "data": {
      "text/html": [
       "<div>\n",
       "<style scoped>\n",
       "    .dataframe tbody tr th:only-of-type {\n",
       "        vertical-align: middle;\n",
       "    }\n",
       "\n",
       "    .dataframe tbody tr th {\n",
       "        vertical-align: top;\n",
       "    }\n",
       "\n",
       "    .dataframe thead th {\n",
       "        text-align: right;\n",
       "    }\n",
       "</style>\n",
       "<table border=\"1\" class=\"dataframe\">\n",
       "  <thead>\n",
       "    <tr style=\"text-align: right;\">\n",
       "      <th></th>\n",
       "      <th>Transaction ID</th>\n",
       "      <th>Date of Travel</th>\n",
       "      <th>Company</th>\n",
       "      <th>City</th>\n",
       "      <th>KM Travelled</th>\n",
       "      <th>Price Charged</th>\n",
       "      <th>Cost of Trip</th>\n",
       "      <th>Customer ID</th>\n",
       "      <th>Payment_Mode</th>\n",
       "      <th>Population</th>\n",
       "      <th>Users</th>\n",
       "      <th>Gender</th>\n",
       "      <th>Age</th>\n",
       "      <th>Income (USD/Month)</th>\n",
       "    </tr>\n",
       "  </thead>\n",
       "  <tbody>\n",
       "    <tr>\n",
       "      <th>0</th>\n",
       "      <td>10001340</td>\n",
       "      <td>2016-01-01</td>\n",
       "      <td>Yellow Cab</td>\n",
       "      <td>WASHINGTON DC</td>\n",
       "      <td>10.20</td>\n",
       "      <td>202.54</td>\n",
       "      <td>135.8640</td>\n",
       "      <td>52536</td>\n",
       "      <td>Card</td>\n",
       "      <td>418859.0</td>\n",
       "      <td>127001.0</td>\n",
       "      <td>Male</td>\n",
       "      <td>24</td>\n",
       "      <td>10606</td>\n",
       "    </tr>\n",
       "    <tr>\n",
       "      <th>1</th>\n",
       "      <td>10020018</td>\n",
       "      <td>2016-03-25</td>\n",
       "      <td>Yellow Cab</td>\n",
       "      <td>WASHINGTON DC</td>\n",
       "      <td>5.94</td>\n",
       "      <td>88.50</td>\n",
       "      <td>74.1312</td>\n",
       "      <td>52536</td>\n",
       "      <td>Cash</td>\n",
       "      <td>418859.0</td>\n",
       "      <td>127001.0</td>\n",
       "      <td>Male</td>\n",
       "      <td>24</td>\n",
       "      <td>10606</td>\n",
       "    </tr>\n",
       "    <tr>\n",
       "      <th>2</th>\n",
       "      <td>10102932</td>\n",
       "      <td>2016-11-08</td>\n",
       "      <td>Pink Cab</td>\n",
       "      <td>WASHINGTON DC</td>\n",
       "      <td>15.21</td>\n",
       "      <td>179.33</td>\n",
       "      <td>153.6210</td>\n",
       "      <td>52536</td>\n",
       "      <td>Cash</td>\n",
       "      <td>418859.0</td>\n",
       "      <td>127001.0</td>\n",
       "      <td>Male</td>\n",
       "      <td>24</td>\n",
       "      <td>10606</td>\n",
       "    </tr>\n",
       "    <tr>\n",
       "      <th>3</th>\n",
       "      <td>10164725</td>\n",
       "      <td>2017-04-16</td>\n",
       "      <td>Yellow Cab</td>\n",
       "      <td>WASHINGTON DC</td>\n",
       "      <td>8.08</td>\n",
       "      <td>123.21</td>\n",
       "      <td>104.7168</td>\n",
       "      <td>52536</td>\n",
       "      <td>Card</td>\n",
       "      <td>418859.0</td>\n",
       "      <td>127001.0</td>\n",
       "      <td>Male</td>\n",
       "      <td>24</td>\n",
       "      <td>10606</td>\n",
       "    </tr>\n",
       "    <tr>\n",
       "      <th>4</th>\n",
       "      <td>10188478</td>\n",
       "      <td>2017-06-23</td>\n",
       "      <td>Yellow Cab</td>\n",
       "      <td>WASHINGTON DC</td>\n",
       "      <td>13.80</td>\n",
       "      <td>283.74</td>\n",
       "      <td>168.9120</td>\n",
       "      <td>52536</td>\n",
       "      <td>Cash</td>\n",
       "      <td>418859.0</td>\n",
       "      <td>127001.0</td>\n",
       "      <td>Male</td>\n",
       "      <td>24</td>\n",
       "      <td>10606</td>\n",
       "    </tr>\n",
       "    <tr>\n",
       "      <th>5</th>\n",
       "      <td>10249981</td>\n",
       "      <td>2017-10-30</td>\n",
       "      <td>Pink Cab</td>\n",
       "      <td>WASHINGTON DC</td>\n",
       "      <td>28.00</td>\n",
       "      <td>424.20</td>\n",
       "      <td>280.0000</td>\n",
       "      <td>52536</td>\n",
       "      <td>Card</td>\n",
       "      <td>418859.0</td>\n",
       "      <td>127001.0</td>\n",
       "      <td>Male</td>\n",
       "      <td>24</td>\n",
       "      <td>10606</td>\n",
       "    </tr>\n",
       "    <tr>\n",
       "      <th>6</th>\n",
       "      <td>10261473</td>\n",
       "      <td>2017-11-16</td>\n",
       "      <td>Yellow Cab</td>\n",
       "      <td>WASHINGTON DC</td>\n",
       "      <td>11.60</td>\n",
       "      <td>180.50</td>\n",
       "      <td>144.7680</td>\n",
       "      <td>52536</td>\n",
       "      <td>Cash</td>\n",
       "      <td>418859.0</td>\n",
       "      <td>127001.0</td>\n",
       "      <td>Male</td>\n",
       "      <td>24</td>\n",
       "      <td>10606</td>\n",
       "    </tr>\n",
       "    <tr>\n",
       "      <th>7</th>\n",
       "      <td>10270018</td>\n",
       "      <td>2017-11-29</td>\n",
       "      <td>Yellow Cab</td>\n",
       "      <td>WASHINGTON DC</td>\n",
       "      <td>6.06</td>\n",
       "      <td>84.71</td>\n",
       "      <td>81.4464</td>\n",
       "      <td>52536</td>\n",
       "      <td>Cash</td>\n",
       "      <td>418859.0</td>\n",
       "      <td>127001.0</td>\n",
       "      <td>Male</td>\n",
       "      <td>24</td>\n",
       "      <td>10606</td>\n",
       "    </tr>\n",
       "    <tr>\n",
       "      <th>8</th>\n",
       "      <td>10317783</td>\n",
       "      <td>2018-04-07</td>\n",
       "      <td>Yellow Cab</td>\n",
       "      <td>WASHINGTON DC</td>\n",
       "      <td>33.25</td>\n",
       "      <td>556.72</td>\n",
       "      <td>426.9300</td>\n",
       "      <td>52536</td>\n",
       "      <td>Card</td>\n",
       "      <td>418859.0</td>\n",
       "      <td>127001.0</td>\n",
       "      <td>Male</td>\n",
       "      <td>24</td>\n",
       "      <td>10606</td>\n",
       "    </tr>\n",
       "    <tr>\n",
       "      <th>9</th>\n",
       "      <td>10326349</td>\n",
       "      <td>2018-05-01</td>\n",
       "      <td>Yellow Cab</td>\n",
       "      <td>WASHINGTON DC</td>\n",
       "      <td>23.75</td>\n",
       "      <td>448.80</td>\n",
       "      <td>342.0000</td>\n",
       "      <td>52536</td>\n",
       "      <td>Card</td>\n",
       "      <td>418859.0</td>\n",
       "      <td>127001.0</td>\n",
       "      <td>Male</td>\n",
       "      <td>24</td>\n",
       "      <td>10606</td>\n",
       "    </tr>\n",
       "  </tbody>\n",
       "</table>\n",
       "</div>"
      ],
      "text/plain": [
       "   Transaction ID Date of Travel     Company           City  KM Travelled  \\\n",
       "0        10001340     2016-01-01  Yellow Cab  WASHINGTON DC         10.20   \n",
       "1        10020018     2016-03-25  Yellow Cab  WASHINGTON DC          5.94   \n",
       "2        10102932     2016-11-08    Pink Cab  WASHINGTON DC         15.21   \n",
       "3        10164725     2017-04-16  Yellow Cab  WASHINGTON DC          8.08   \n",
       "4        10188478     2017-06-23  Yellow Cab  WASHINGTON DC         13.80   \n",
       "5        10249981     2017-10-30    Pink Cab  WASHINGTON DC         28.00   \n",
       "6        10261473     2017-11-16  Yellow Cab  WASHINGTON DC         11.60   \n",
       "7        10270018     2017-11-29  Yellow Cab  WASHINGTON DC          6.06   \n",
       "8        10317783     2018-04-07  Yellow Cab  WASHINGTON DC         33.25   \n",
       "9        10326349     2018-05-01  Yellow Cab  WASHINGTON DC         23.75   \n",
       "\n",
       "   Price Charged  Cost of Trip  Customer ID Payment_Mode  Population  \\\n",
       "0         202.54      135.8640        52536         Card    418859.0   \n",
       "1          88.50       74.1312        52536         Cash    418859.0   \n",
       "2         179.33      153.6210        52536         Cash    418859.0   \n",
       "3         123.21      104.7168        52536         Card    418859.0   \n",
       "4         283.74      168.9120        52536         Cash    418859.0   \n",
       "5         424.20      280.0000        52536         Card    418859.0   \n",
       "6         180.50      144.7680        52536         Cash    418859.0   \n",
       "7          84.71       81.4464        52536         Cash    418859.0   \n",
       "8         556.72      426.9300        52536         Card    418859.0   \n",
       "9         448.80      342.0000        52536         Card    418859.0   \n",
       "\n",
       "      Users Gender  Age  Income (USD/Month)  \n",
       "0  127001.0   Male   24               10606  \n",
       "1  127001.0   Male   24               10606  \n",
       "2  127001.0   Male   24               10606  \n",
       "3  127001.0   Male   24               10606  \n",
       "4  127001.0   Male   24               10606  \n",
       "5  127001.0   Male   24               10606  \n",
       "6  127001.0   Male   24               10606  \n",
       "7  127001.0   Male   24               10606  \n",
       "8  127001.0   Male   24               10606  \n",
       "9  127001.0   Male   24               10606  "
      ]
     },
     "execution_count": 50,
     "metadata": {},
     "output_type": "execute_result"
    }
   ],
   "source": [
    "principal.head(10)"
   ]
  },
  {
   "cell_type": "code",
   "execution_count": 52,
   "metadata": {},
   "outputs": [
    {
     "data": {
      "text/plain": [
       "Transaction ID                 int64\n",
       "Date of Travel        datetime64[ns]\n",
       "Company                       object\n",
       "City                          object\n",
       "KM Travelled                 float64\n",
       "Price Charged                float64\n",
       "Cost of Trip                 float64\n",
       "Customer ID                    int64\n",
       "Payment_Mode                  object\n",
       "Population                   float64\n",
       "Users                        float64\n",
       "Gender                        object\n",
       "Age                            int64\n",
       "Income (USD/Month)             int64\n",
       "dtype: object"
      ]
     },
     "execution_count": 52,
     "metadata": {},
     "output_type": "execute_result"
    }
   ],
   "source": [
    "principal.dtypes"
   ]
  },
  {
   "cell_type": "code",
   "execution_count": null,
   "metadata": {
    "id": "6hzVx0XhkXTy"
   },
   "outputs": [],
   "source": []
  },
  {
   "cell_type": "markdown",
   "metadata": {},
   "source": [
    "Maintenant que tout est bon, on peut faire une première visualisation graphique\n",
    "\n"
   ]
  },
  {
   "cell_type": "code",
   "execution_count": 56,
   "metadata": {},
   "outputs": [
    {
     "data": {
      "text/plain": [
       "Text(0.5, 0, 'Cost of Trip')"
      ]
     },
     "execution_count": 56,
     "metadata": {},
     "output_type": "execute_result"
    },
    {
     "data": {
      "image/png": "[encoded data removed]",
      "text/plain": [
       "<Figure size 1224x648 with 1 Axes>"
      ]
     },
     "metadata": {
      "needs_background": "light"
     },
     "output_type": "display_data"
    }
   ],
   "source": [
    "plt.figure(figsize=(17,9))\n",
    "sns.histplot(data= principal,x=\"Cost of Trip\",bins=40 , color= 'red')\n",
    "plt.title('Cost of Trip Distribution', fontsize=20)\n",
    "plt.ylabel('Frequency')\n",
    "plt.xlabel('Cost of Trip')"
   ]
  },
  {
   "cell_type": "code",
   "execution_count": null,
   "metadata": {},
   "outputs": [],
   "source": []
  },
  {
   "cell_type": "markdown",
   "metadata": {},
   "source": [
    "On peut maintenant diviser le Dataset en deux (en fonction du type d'entreprise (Pink et Yellow)"
   ]
  },
  {
   "cell_type": "code",
   "execution_count": null,
   "metadata": {},
   "outputs": [],
   "source": []
  },
  {
   "cell_type": "code",
   "execution_count": null,
   "metadata": {},
   "outputs": [],
   "source": []
  },
  {
   "cell_type": "code",
   "execution_count": null,
   "metadata": {
    "id": "aaPP-UWBkXWS"
   },
   "outputs": [],
   "source": []
  },
  {
   "cell_type": "code",
   "execution_count": null,
   "metadata": {
    "id": "GqhCUsmrhGoN"
   },
   "outputs": [],
   "source": []
  },
  {
   "cell_type": "code",
   "execution_count": null,
   "metadata": {
    "id": "AuCENGajhGxx"
   },
   "outputs": [],
   "source": []
  },
  {
   "cell_type": "code",
   "execution_count": null,
   "metadata": {
    "id": "P_KX910FhHC3"
   },
   "outputs": [],
   "source": []
  },
  {
   "cell_type": "code",
   "execution_count": null,
   "metadata": {
    "id": "Un9dqpHwhHGL"
   },
   "outputs": [],
   "source": []
  }
 ],
 "metadata": {
  "colab": {
   "name": "Copia di week_2",
   "provenance": []
  },
  "kernelspec": {
   "display_name": "Python 3 (ipykernel)",
   "language": "python",
   "name": "python3"
  },
  "language_info": {
   "codemirror_mode": {
    "name": "ipython",
    "version": 3
   },
   "file_extension": ".py",
   "mimetype": "text/x-python",
   "name": "python",
   "nbconvert_exporter": "python",
   "pygments_lexer": "ipython3",
   "version": "3.8.12"
  }
 },
 "nbformat": 4,
 "nbformat_minor": 1
}
